{
 "cells": [
  {
   "cell_type": "markdown",
   "metadata": {},
   "source": [
    "# Matplotlib & Seaborn\n"
   ]
  },
  {
   "cell_type": "code",
   "execution_count": 1,
   "metadata": {
    "collapsed": false
   },
   "outputs": [
    {
     "data": {
      "text/html": [
       "<style>\n",
       "\n",
       ".rendered_html\n",
       "{\n",
       "  color: #2C5494;\n",
       "  font-family: Ubuntu;\n",
       "  font-size: 140%;\n",
       "  line-height: 1.1;\n",
       "  margin: 0.5em 0;\n",
       "  }\n",
       "\n",
       ".talk_title\n",
       "{\n",
       "  color: #498AF3;\n",
       "  font-size: 250%;\n",
       "  font-weight:bold;\n",
       "  line-height: 1.2; \n",
       "  margin: 10px 50px 10px;\n",
       "  }\n",
       "\n",
       ".subtitle\n",
       "{\n",
       "  color: #386BBC;\n",
       "  font-size: 180%;\n",
       "  font-weight:bold;\n",
       "  line-height: 1.2; \n",
       "  margin: 20px 50px 20px;\n",
       "  }\n",
       "\n",
       ".slide-header, p.slide-header\n",
       "{\n",
       "  color: #498AF3;\n",
       "  font-size: 200%;\n",
       "  font-weight:bold;\n",
       "  margin: 0px 20px 10px;\n",
       "  page-break-before: always;\n",
       "  text-align: center;\n",
       "  }\n",
       "\n",
       ".rendered_html h1\n",
       "{\n",
       "  color: #498AF3;\n",
       "  line-height: 1.2; \n",
       "  margin: 0.15em 0em 0.5em;\n",
       "  page-break-before: always;\n",
       "  text-align: center;\n",
       "  }\n",
       "\n",
       "\n",
       ".rendered_html h2\n",
       "{ \n",
       "  color: #386BBC;\n",
       "  line-height: 1.2;\n",
       "  margin: 1.1em 0em 0.5em;\n",
       "  }\n",
       "\n",
       ".rendered_html h3\n",
       "{ \n",
       "  font-size: 100%;\n",
       "  line-height: 1.2;\n",
       "  margin: 1.1em 0em 0.5em;\n",
       "  }\n",
       "\n",
       ".rendered_html li\n",
       "{\n",
       "  line-height: 1.8;\n",
       "  }\n",
       "\n",
       ".input_prompt, .CodeMirror-lines, .output_area\n",
       "{\n",
       "  font-family: Consolas;\n",
       "  font-size: 120%;\n",
       "  }\n",
       "\n",
       ".gap-above\n",
       "{\n",
       "  padding-top: 200px;\n",
       "  }\n",
       "\n",
       ".gap01\n",
       "{\n",
       "  padding-top: 10px;\n",
       "  }\n",
       "\n",
       ".gap05\n",
       "{\n",
       "  padding-top: 50px;\n",
       "  }\n",
       "\n",
       ".gap1\n",
       "{\n",
       "  padding-top: 100px;\n",
       "  }\n",
       "\n",
       ".gap2\n",
       "{\n",
       "  padding-top: 200px;\n",
       "  }\n",
       "\n",
       ".gap3\n",
       "{\n",
       "  padding-top: 300px;\n",
       "  }\n",
       "\n",
       ".emph\n",
       "{\n",
       "  color: #386BBC;\n",
       "  }\n",
       "\n",
       ".warn\n",
       "{\n",
       "  color: red;\n",
       "  }\n",
       "\n",
       ".center\n",
       "{\n",
       "  text-align: center;\n",
       "  }\n",
       "\n",
       ".nb_link\n",
       "{\n",
       "    padding-bottom: 0.5em;\n",
       "}\n",
       "\n",
       "</style>"
      ],
      "text/plain": [
       "<IPython.core.display.HTML object>"
      ]
     },
     "metadata": {},
     "output_type": "display_data"
    }
   ],
   "source": [
    "%run ../00_AdvancedPythonConcepts/talktools.py"
   ]
  },
  {
   "cell_type": "markdown",
   "metadata": {},
   "source": [
    "## Matplotlib's main APIs: ``pyplot`` and object-oriented\n",
    "\n",
    "http://matplotlib.org/\n",
    "\n",
    "\n",
    "Matplotlib is a Python plotting library that can be thought of as having two main ways of being\n",
    "used:\n",
    "\n",
    "- via ``pyplot`` calls, as a high-level, matlab-like library that automatically\n",
    "  manages details like figure creation.\n",
    "\n",
    "- via its internal object-oriented structure, at the cost of slightly more verbose calls for the\n",
    "  most common use cases.\n",
    "\n",
    "### Key points:\n",
    "\n",
    "- The Figure contains and manages all elements of a graphic/plot\n",
    "- Figure is separate and distinct from how it's rendered and who renders it.\n",
    "\n",
    "<img src=\"http://image.slidesharecdn.com/pyconcanada2015-151111021204-lva1-app6892/95/matplotlib-up-and-running-pycon-canada-2015-10-638.jpg?cb=1447208065\">\n",
    "\n",
    "The script layer (pyplot) api:\n",
    "\n",
    "- Easiest to use, especially for those familiar with MATLAB.\n",
    "- Sufficient for simple and moderately complex plots.\n",
    "- Does not offer complete control over all details.\n",
    "\n",
    "Before we look at our first simple example, we must activate pylab support in the notebook. Execute one of the following:"
   ]
  },
  {
   "cell_type": "code",
   "execution_count": 2,
   "metadata": {
    "collapsed": false
   },
   "outputs": [],
   "source": [
    "# use this for floating figures:\n",
    "#%matplotlib\n",
    "\n",
    "# use this for inlined figures:\n",
    "%matplotlib inline"
   ]
  },
  {
   "cell_type": "code",
   "execution_count": 3,
   "metadata": {
    "collapsed": false
   },
   "outputs": [],
   "source": [
    "import matplotlib.pyplot as plt\n",
    "import numpy as np"
   ]
  },
  {
   "cell_type": "markdown",
   "metadata": {},
   "source": [
    "First, let's create a simple pair of figures using the pyplot API, working with the simple arrays `x`, `y` and `z`:"
   ]
  },
  {
   "cell_type": "code",
   "execution_count": 4,
   "metadata": {
    "collapsed": false
   },
   "outputs": [],
   "source": [
    "x = np.linspace(0, 2 * np.pi)\n",
    "y = np.sin(x)\n",
    "z = np.cos(x)"
   ]
  },
  {
   "cell_type": "code",
   "execution_count": 6,
   "metadata": {
    "collapsed": false
   },
   "outputs": [
    {
     "data": {
      "text/plain": [
       "(50,)"
      ]
     },
     "execution_count": 6,
     "metadata": {},
     "output_type": "execute_result"
    }
   ],
   "source": [
    "x.shape"
   ]
  },
  {
   "cell_type": "markdown",
   "metadata": {},
   "source": [
    "Using `pyplot` (which we've shorthanded to `plt`), all axis and figure management is done for us:"
   ]
  },
  {
   "cell_type": "code",
   "execution_count": 7,
   "metadata": {
    "collapsed": false
   },
   "outputs": [
    {
     "data": {
      "text/plain": [
       "<matplotlib.legend.Legend at 0x166bf367fd0>"
      ]
     },
     "execution_count": 7,
     "metadata": {},
     "output_type": "execute_result"
    },
    {
     "data": {
      "image/png": "[encoded data removed]",
      "text/plain": [
       "<matplotlib.figure.Figure at 0x166bef156a0>"
      ]
     },
     "metadata": {},
     "output_type": "display_data"
    },
    {
     "data": {
      "image/png": "[encoded data removed]",
      "text/plain": [
       "<matplotlib.figure.Figure at 0x166bf376860>"
      ]
     },
     "metadata": {},
     "output_type": "display_data"
    }
   ],
   "source": [
    "plt.plot(x,y, label='sin(x)')\n",
    "plt.legend()\n",
    "plt.title('Harmonic')\n",
    "plt.xlabel('x')\n",
    "plt.ylabel('y')\n",
    "\n",
    "# Add one line to that plot\n",
    "plt.plot(x, z, label='cos(x)')\n",
    "\n",
    "# Make a second figure with a simple plot\n",
    "plt.figure()\n",
    "plt.plot(x, np.sin(2 * x), label='sin(2x)')\n",
    "plt.legend()"
   ]
  },
  {
   "cell_type": "markdown",
   "metadata": {},
   "source": [
    "**Note:** why didn't the \"cos(x)\" label show up in the legend for the first figure above?\n",
    "\n",
    "Important commands to know about, and which matplotlib uses internally a lot (these presume you have run, as above, `import matplotlib.pyplot as plt`):\n",
    "\n",
    "    plt.gcf()  # get current figure\n",
    "    plt.gca()  # get current axis"
   ]
  },
  {
   "cell_type": "markdown",
   "metadata": {},
   "source": [
    "Now, let us see how to create the same two plots using the object-oriented interface (the preferred way):"
   ]
  },
  {
   "cell_type": "code",
   "execution_count": 8,
   "metadata": {
    "collapsed": false
   },
   "outputs": [
    {
     "data": {
      "text/plain": [
       "<matplotlib.legend.Legend at 0x166bf934c88>"
      ]
     },
     "execution_count": 8,
     "metadata": {},
     "output_type": "execute_result"
    },
    {
     "data": {
      "image/png": "[encoded data removed]",
      "text/plain": [
       "<matplotlib.figure.Figure at 0x166bef629e8>"
      ]
     },
     "metadata": {},
     "output_type": "display_data"
    },
    {
     "data": {
      "image/png": "[encoded data removed]",
      "text/plain": [
       "<matplotlib.figure.Figure at 0x166bf928320>"
      ]
     },
     "metadata": {},
     "output_type": "display_data"
    }
   ],
   "source": [
    "f, ax0 = plt.subplots()         # we manually make a figure and axis\n",
    "ax0.plot(x, y, label='sin(x)')  # it's the axis who plots\n",
    "ax0.legend()\n",
    "ax0.set_title('Harmonic')       # we set the title on the axis\n",
    "ax0.set_xlabel('x')             # same with labels\n",
    "ax0.set_ylabel('y')\n",
    "\n",
    "# Make a second figure with a simple plot.  We can name the figure with a\n",
    "# different variable name as well as its axes, and then control each\n",
    "f1, ax1 = plt.subplots()\n",
    "ax1.plot(x, np.sin(2 * x), label='sin(2x)')\n",
    "ax1.legend()\n",
    "\n",
    "# Since we now have variables for each axis, we can add back to the first\n",
    "# figure even after making the second\n",
    "ax0.plot(x, np.cos(x), label='cos(x)')\n",
    "ax0.legend()"
   ]
  },
  {
   "cell_type": "markdown",
   "metadata": {},
   "source": [
    "Note that these objects (figures, axes, etc.) still exist, even if you use mostly the top-level pyplot calls."
   ]
  },
  {
   "cell_type": "markdown",
   "metadata": {},
   "source": [
    "Making subplots\n",
    "===============\n",
    "\n",
    "The simplest command is:\n",
    "\n",
    "    f, ax = plt.subplots()  or  plt.subplots(1, 1)\n",
    "\n",
    "which is a convenience function that does:\n",
    "\n",
    "    f = plt.figure()\n",
    "    ax = f.add_subplot(1, 1, 1)  # (M, N, S) -> in an M x N grid, choose subplot #S\n",
    "\n",
    "By passing arguments to `subplots`, you can easily create a regular plot grid:"
   ]
  },
  {
   "cell_type": "code",
   "execution_count": 9,
   "metadata": {
    "collapsed": false
   },
   "outputs": [
    {
     "data": {
      "text/plain": [
       "<matplotlib.text.Text at 0x166bfa971d0>"
      ]
     },
     "execution_count": 9,
     "metadata": {},
     "output_type": "execute_result"
    },
    {
     "data": {
      "image/png": "[encoded data removed]",
      "text/plain": [
       "<matplotlib.figure.Figure at 0x166bef0d278>"
      ]
     },
     "metadata": {},
     "output_type": "display_data"
    },
    {
     "data": {
      "image/png": "[encoded data removed]",
      "text/plain": [
       "<matplotlib.figure.Figure at 0x166bfa02978>"
      ]
     },
     "metadata": {},
     "output_type": "display_data"
    }
   ],
   "source": [
    "%matplotlib inline\n",
    "\n",
    "x = np.linspace(0, 2 * np.pi, 400)\n",
    "y = np.sin(x**2)\n",
    "\n",
    "# Just a figure and one subplot\n",
    "f, ax = plt.subplots()\n",
    "ax.plot(x, y)\n",
    "ax.set_title('Simple plot')\n",
    "\n",
    "# Two subplots, unpack the output array immediately\n",
    "f, (ax1, ax2) = plt.subplots(1, 2, sharey=True)\n",
    "ax1.plot(x, y)\n",
    "ax2.scatter(x, y)\n",
    "\n",
    "# Put a figure-level title\n",
    "f.suptitle('Sharing Y axis')"
   ]
  },
  {
   "cell_type": "markdown",
   "metadata": {},
   "source": [
    "And finally, an arbitrarily complex grid can be made with ``subplot2grid``:"
   ]
  },
  {
   "cell_type": "code",
   "execution_count": null,
   "metadata": {
    "collapsed": false
   },
   "outputs": [],
   "source": [
    "f = plt.figure()\n",
    "\n",
    "# subplot2grid(A, B) -> create a grid of shape A\n",
    "#                    -> return the axis at position B\n",
    "\n",
    "ax1 = plt.subplot2grid((3, 3), (0, 0), colspan=3)\n",
    "ax2 = plt.subplot2grid((3, 3), (1, 0), colspan=2)\n",
    "ax3 = plt.subplot2grid((3, 3), (1, 2), rowspan=2)\n",
    "ax4 = plt.subplot2grid((3, 3), (2, 0))\n",
    "ax5 = plt.subplot2grid((3, 3), (2, 1))\n",
    "\n",
    "# Turn off tick labels\n",
    "for ax in f.axes:\n",
    "    ax.set_xticks([])\n",
    "    ax.set_yticks([])\n",
    "    \n",
    "# Plot something in the bottom right box\n",
    "ax3.plot([1, 2, 3])"
   ]
  },
  {
   "cell_type": "markdown",
   "metadata": {},
   "source": [
    "Manipulating properties across matplotlib\n",
    "=========================================\n",
    "\n",
    "In matplotlib, most properties for lines, colors, etc, can be set directly in\n",
    "the plot call:"
   ]
  },
  {
   "cell_type": "code",
   "execution_count": null,
   "metadata": {
    "collapsed": false
   },
   "outputs": [],
   "source": [
    "plt.plot([1, 2, 3], linestyle='--', color='r')"
   ]
  },
  {
   "cell_type": "markdown",
   "metadata": {},
   "source": [
    "But for finer control you can get a hold of the returned line object (more on\n",
    "these objects later)::\n",
    "\n",
    "    In [1]: line, = plot([1,2,3])\n",
    "\n",
    "These line objects have a lot of properties you can control, a full list is\n",
    "seen here by tab-completing in IPython::\n",
    "\n",
    "    In [2]: line.set\n",
    "    line.set                     line.set_drawstyle           line.set_mec\n",
    "    line.set_aa                  line.set_figure              line.set_mew\n",
    "    line.set_agg_filter          line.set_fillstyle           line.set_mfc\n",
    "    line.set_alpha               line.set_gid                 line.set_mfcalt\n",
    "    line.set_animated            line.set_label               line.set_ms\n",
    "    line.set_antialiased         line.set_linestyle           line.set_picker\n",
    "    line.set_axes                line.set_linewidth           line.set_pickradius\n",
    "    line.set_c                   line.set_lod                 line.set_rasterized\n",
    "    line.set_clip_box            line.set_ls                  line.set_snap\n",
    "    line.set_clip_on             line.set_lw                  line.set_solid_capstyle\n",
    "    line.set_clip_path           line.set_marker              line.set_solid_joinstyle\n",
    "    line.set_color               line.set_markeredgecolor     line.set_transform\n",
    "    line.set_contains            line.set_markeredgewidth     line.set_url\n",
    "    line.set_dash_capstyle       line.set_markerfacecolor     line.set_visible\n",
    "    line.set_dashes              line.set_markerfacecoloralt  line.set_xdata\n",
    "    line.set_dash_joinstyle      line.set_markersize          line.set_ydata\n",
    "    line.set_data                line.set_markevery           line.set_zorder\n",
    "    \n",
    "\n",
    "Alternatively, the ``setp`` call (short for set property) can be used to list and set properties::\n",
    "\n",
    "    In [7]: line, = plot([1,2,3])\n",
    "\n",
    "    In [8]: plt.setp(line)\n",
    "      agg_filter: unknown\n",
    "      alpha: float (0.0 transparent through 1.0 opaque)         \n",
    "      animated: [True | False]         \n",
    "      antialiased or aa: [True | False]\n",
    "      ...\n",
    "      ... much more output elided\n",
    "      ...\n",
    "\n",
    "    In [9]: plt.setp(line, 'linestyle')\n",
    "      linestyle: [ ``'-'`` | ``'--'`` | ``'-.'`` | ``':'`` | ``'None'`` | ``' '`` | ``''`` ]         and any drawstyle in combination with a linestyle, e.g. ``'steps--'``.         \n",
    "\n",
    "The ``setp`` command can be used to list properties and their valid values,\n",
    "making it very easy to discover how to customize your figures to get the visual results\n",
    "you need.\n",
    "\n",
    "Furthermore, ``setp`` can manipulate multiple objects at a time:"
   ]
  },
  {
   "cell_type": "code",
   "execution_count": null,
   "metadata": {
    "collapsed": false
   },
   "outputs": [],
   "source": [
    "x = np.linspace(0, 2*np.pi)\n",
    "y1 = np.sin(x)\n",
    "y2 = np.sin(2*x)\n",
    "lines = plt.plot(x, y1, x, y2)\n",
    "\n",
    "# We will set the width and color of all lines in the figure at once:\n",
    "plt.setp(lines, linewidth=2, color='r');"
   ]
  },
  {
   "cell_type": "markdown",
   "metadata": {},
   "source": [
    "Understanding what matplotlib returns: lines, axes and figures\n",
    "==============================================================\n",
    "\n",
    "Lines\n",
    "-----\n",
    "\n",
    "In a simple plot:"
   ]
  },
  {
   "cell_type": "code",
   "execution_count": null,
   "metadata": {
    "collapsed": false
   },
   "outputs": [],
   "source": [
    "plt.plot([1,2,3])"
   ]
  },
  {
   "cell_type": "markdown",
   "metadata": {},
   "source": [
    "The return value of the plot call is a list of lines, which can be manipulated\n",
    "further.  If you capture the line object (in this case it's a single line so we\n",
    "use a one-element tuple):"
   ]
  },
  {
   "cell_type": "code",
   "execution_count": null,
   "metadata": {
    "collapsed": false
   },
   "outputs": [],
   "source": [
    "line, = plt.plot([1,2,3])\n",
    "line.set_color('r')"
   ]
  },
  {
   "cell_type": "markdown",
   "metadata": {},
   "source": [
    "One line property that is particularly useful to be aware of is ``set_data``:"
   ]
  },
  {
   "cell_type": "code",
   "execution_count": null,
   "metadata": {
    "collapsed": false
   },
   "outputs": [],
   "source": [
    "# Create a plot and hold the line object\n",
    "f, ax = plt.subplots()\n",
    "line, = ax.plot([1, 2, 3], label='my data')\n",
    "\n",
    "ax.grid()\n",
    "ax.set_title('My title')\n",
    "\n",
    "# ... later, we may want to modify the x/y data but keeping the rest of the\n",
    "# figure intact, with our new data (think, e.g., animation):\n",
    "x = np.linspace(0, 1)\n",
    "y = x**2\n",
    "\n",
    "# This can be done by operating on the data object itself\n",
    "line.set_data(x, y)\n",
    "\n",
    "# Now we must set the axis limits manually. Note that we can also use xlim\n",
    "# and ylim to set the x/y limits separately.\n",
    "ax.set_xlim(0, 1)\n",
    "ax.set_ylim(0, 1)"
   ]
  },
  {
   "cell_type": "markdown",
   "metadata": {},
   "source": [
    "Anatomy of a common plot\n",
    "========================\n"
   ]
  },
  {
   "cell_type": "markdown",
   "metadata": {},
   "source": [
    "Axes are the main object that contains a lot of the user-facing functionality of matplotlib::\n",
    "\n",
    "    In [16]: f, ax = plt.subplots()\n",
    "\n",
    "    In [17]: ax.\n",
    "    Display all 299 possibilities? (y or n)\n",
    "    ax.acorr                                 ax.hitlist\n",
    "    ax.add_artist                            ax.hlines\n",
    "    ax.add_callback                          ax.hold\n",
    "    ax.add_collection                        ax.ignore_existing_data_limits\n",
    "    ax.add_line                              ax.images\n",
    "    ax.add_patch                             ax.imshow\n",
    "    \n",
    "    ... etc.\n",
    "\n",
    "Many of the commands in ``plt.<command>`` are nothing but wrappers around axis\n",
    "calls, with machinery to automatically create a figure and add an axis to it if\n",
    "there wasn't one to begin with.  The output of most axis actions that draw\n",
    "something is a collection of lines (or other more complex geometric objects)."
   ]
  },
  {
   "cell_type": "markdown",
   "metadata": {},
   "source": [
    "Enclosing it all, the figure\n",
    "----------------------------\n",
    "\n",
    "The enclosing object is the ``figure``, that holds all axes:"
   ]
  },
  {
   "cell_type": "code",
   "execution_count": null,
   "metadata": {
    "collapsed": false
   },
   "outputs": [],
   "source": [
    "f, ax = plt.subplots(2,1)"
   ]
  },
  {
   "cell_type": "code",
   "execution_count": null,
   "metadata": {
    "collapsed": false
   },
   "outputs": [],
   "source": [
    "f.axes"
   ]
  },
  {
   "cell_type": "markdown",
   "metadata": {},
   "source": [
    "The basic view of matplotlib is: a figure contains one or more axes, axes draw\n",
    "and return collections of one or more geometric objects (lines, patches, etc).\n",
    "\n",
    "For all the gory details on this topic, see the matplotlib [artist tutorial](http://matplotlib.sourceforge.net/users/artists.html)."
   ]
  },
  {
   "cell_type": "code",
   "execution_count": null,
   "metadata": {
    "collapsed": false
   },
   "outputs": [],
   "source": [
    "ax"
   ]
  },
  {
   "cell_type": "code",
   "execution_count": null,
   "metadata": {
    "collapsed": false
   },
   "outputs": [],
   "source": [
    "ax[0].figure"
   ]
  },
  {
   "cell_type": "markdown",
   "metadata": {},
   "source": [
    "<img src=\"http://www.aosabook.org/images/matplotlib/artists_figure.png\">"
   ]
  },
  {
   "cell_type": "markdown",
   "metadata": {},
   "source": [
    "<img src=\"http://www.aosabook.org/images/matplotlib/artists_tree.png\">"
   ]
  },
  {
   "cell_type": "markdown",
   "metadata": {},
   "source": [
    "## Summary example"
   ]
  },
  {
   "cell_type": "markdown",
   "metadata": {},
   "source": [
    "Let's make a simple plot that contains a few commonly used decorations:"
   ]
  },
  {
   "cell_type": "code",
   "execution_count": null,
   "metadata": {
    "collapsed": false
   },
   "outputs": [],
   "source": [
    "f, ax = plt.subplots(figsize=(10,10))\n",
    "\n",
    "# Three simple polyniomials\n",
    "x = np.linspace(-1, 1)\n",
    "y1, y2, y3 = [x**i for i in [1,2,3]]\n",
    "\n",
    "# Plot each with a label (for a legend)\n",
    "ax.plot(x, y1, label='linear')\n",
    "ax.plot(x, y2, label='cuadratic')\n",
    "ax.plot(x, y3, label='cubic')\n",
    "# Make all lines drawn so far thicker\n",
    "plt.setp(ax.lines, linewidth=2)\n",
    "\n",
    "# Add a grid and a legend that doesn't overlap the lines\n",
    "ax.grid()\n",
    "ax.legend(loc='lower right')\n",
    "\n",
    "# Add black horizontal and vertical lines through the origin\n",
    "ax.axhline(0, color='black')\n",
    "ax.axvline(0, color='black')\n",
    "\n",
    "# No frame around the axes\n",
    "ax.set_frame_on(False)\n",
    "\n",
    "# Set main text elements of the plot\n",
    "ax.set_title('Some polynomials')\n",
    "ax.set_xlabel('x')\n",
    "ax.set_ylabel('p(x)')"
   ]
  },
  {
   "cell_type": "markdown",
   "metadata": {},
   "source": [
    "Common plot types\n",
    "=================\n",
    "\n",
    "Error plots\n",
    "-----------\n",
    "\n",
    "First a very simple error plot"
   ]
  },
  {
   "cell_type": "code",
   "execution_count": null,
   "metadata": {
    "collapsed": false
   },
   "outputs": [],
   "source": [
    "# example data\n",
    "x = np.arange(0.1, 4, 0.5)\n",
    "y = np.exp(-x)\n",
    "\n",
    "# example variable error bar values\n",
    "yerr = 0.1 + 0.2 * np.sqrt(x)\n",
    "xerr = 0.1 + x / 15\n",
    "\n",
    "# First illustrate basic pyplot interface, using defaults where possible.\n",
    "plt.figure()\n",
    "plt.errorbar(x, y, xerr=xerr, yerr=yerr, fmt='o', ecolor='g')"
   ]
  },
  {
   "cell_type": "markdown",
   "metadata": {},
   "source": [
    "Logarithmic plots\n",
    "-----------------"
   ]
  },
  {
   "cell_type": "code",
   "execution_count": null,
   "metadata": {
    "collapsed": false
   },
   "outputs": [],
   "source": [
    "x = np.linspace(-5, 5)\n",
    "y = 2 ** x\n",
    "\n",
    "f, (ax1, ax2) = plt.subplots(2, 1,figsize=(8,8))\n",
    "ax1.plot(x, y)\n",
    "ax2.semilogy(x, y)"
   ]
  },
  {
   "cell_type": "markdown",
   "metadata": {},
   "source": [
    "Bar plots\n",
    "---------"
   ]
  },
  {
   "cell_type": "code",
   "execution_count": null,
   "metadata": {
    "collapsed": false
   },
   "outputs": [],
   "source": [
    "N = 5\n",
    "men_means = (20, 35, 30, 31, 27)\n",
    "men_std = (2, 3, 4, 1, 2)\n",
    "women_means = (25, 32, 34, 21, 29)\n",
    "women_std = (3, 5, 2, 3, 3)\n",
    "\n",
    "ind = np.arange(N)  # the x locations for the groups\n",
    "width = 0.35        # the width of the bars\n",
    "\n",
    "fig, ax = plt.subplots()\n",
    "\n",
    "rects1 = ax.bar(ind, men_means, width, color='r', yerr=men_std)\n",
    "rects2 = ax.bar(ind + width, women_means, width, color='y', yerr=women_std)\n",
    "\n",
    "# add some\n",
    "ax.set_ylabel('Scores')\n",
    "ax.set_title('Scores by group and gender')\n",
    "ax.set_xticks(ind + width)\n",
    "ax.set_xticklabels(('G1', 'G2', 'G3', 'G4', 'G5'))\n",
    "\n",
    "ax.legend((rects1, rects2), ('Men', 'Women'))"
   ]
  },
  {
   "cell_type": "markdown",
   "metadata": {},
   "source": [
    "Scatter plots\n",
    "-------------\n",
    "\n",
    "The ``scatter`` command produces scatter plots with arbitrary markers."
   ]
  },
  {
   "cell_type": "code",
   "execution_count": null,
   "metadata": {
    "collapsed": false
   },
   "outputs": [],
   "source": [
    "from matplotlib import cm    # cm == colormap\n",
    "\n",
    "t = np.linspace(0.0, 6*np.pi, 100)\n",
    "y = np.exp(-0.1 * t) * np.cos(t)\n",
    "phase = t % (2 * np.pi)\n",
    "\n",
    "f, ax = plt.subplots()\n",
    "ax.scatter(t, y, s=100 * abs(y), c=phase, cmap=cm.jet)\n",
    "ax.set_ylim(-1, 1)\n",
    "\n",
    "ax.grid()\n",
    "ax.axhline(color='black')"
   ]
  },
  {
   "cell_type": "markdown",
   "metadata": {},
   "source": [
    "<div class=\"exercise\">\n",
    "    \n",
    "Exercise\n",
    "--------\n",
    "\n",
    "Consider you have the following data in a text file (The file `data/stations.txt` contains the full dataset):\n",
    "\n",
    "    # Station  Lat    Long   Elev \n",
    "    BIRA    26.4840 87.2670 0.0120\n",
    "    BUNG    27.8771 85.8909 1.1910\n",
    "    GAIG    26.8380 86.6318 0.1660\n",
    "    HILE    27.0482 87.3242 2.0880\n",
    "    ... etc.\n",
    "    \n",
    "    \n",
    "These are the names of seismographic stations in the Himalaya, with their coordinates and elevations in Kilometers.\n",
    "\n",
    "1. Use ``np.loadtxt`` to load the data, providing a custom data-type in order to to handle the string column.\n",
    "    \n",
    "2. Make a scatter plot of all of these, using both the size and the color to (redundantly) encode elevation.  Label each station by its 4-letter code, and add a colorbar on the right that shows the color-elevation map.\n",
    "    \n",
    "3. *Bonus:* If you have the <a href=\"http://matplotlib.org/basemap/\">basemap toolkit</a> installed (`conda install basemap`), repeat the same exercise but draw a grid with parallels and meridians, add rivers in cyan and country boundaries in yellow.  Also, draw the background using the NASA BlueMarble image of Earth.\n",
    "\n",
    "    \n",
    "**Tips**\n",
    "    \n",
    "* The data-type for a string of length 4 is ``(str, 4)``.\n",
    "    \n",
    "* You can check whether you have Basemap installed with:\n",
    "    \n",
    "      from mpl_toolkits.basemap import Basemap\n",
    "    \n",
    "* For the basemap part, choose a text label color that provides adequate reading contrast over the image background.\n",
    "    \n",
    "* Create your Basemap with 'i' resolution, otherwise it will take forever to draw."
   ]
  },
  {
   "cell_type": "markdown",
   "metadata": {},
   "source": [
    "Histograms\n",
    "----------\n",
    "\n",
    "Matplotlib has a built-in command for histograms."
   ]
  },
  {
   "cell_type": "code",
   "execution_count": null,
   "metadata": {
    "collapsed": false
   },
   "outputs": [],
   "source": [
    "fig, ax1 = plt.subplots(figsize=(10,6))\n",
    "\n",
    "\n",
    "mu, sigma = 100, 15\n",
    "x = mu + sigma * np.random.randn(10000)\n",
    "\n",
    "# the histogram of the data\n",
    "n, bins, patches = plt.hist(x, 50, normed=1, facecolor='g', alpha=0.25)\n",
    "\n",
    "ax1.set_xlabel('Smarts')\n",
    "ax1.set_ylabel('Probability')\n",
    "ax1.set_title('Histogram of IQ')\n",
    "ax1.text(60, .025, r'$\\mu=100,\\ \\sigma=15$', fontsize=20)\n",
    "ax1.axis([40, 160, 0, 0.03])\n",
    "ax1.grid(True)"
   ]
  },
  {
   "cell_type": "markdown",
   "metadata": {},
   "source": [
    "Aribitrary text and LaTeX support\n",
    "=================================\n",
    "\n",
    "In matplotlib, text can be added either relative to an individual axis object\n",
    "or to the whole figure.\n",
    "\n",
    "These commands add text to an Axis:\n",
    "\n",
    "- title() - add a title\n",
    "- xlabel() - add an axis label to the x-axis\n",
    "- ylabel() - add an axis label to the y-axis\n",
    "- text() - add text at an arbitrary location\n",
    "- annotate() - add an annotation, with optional arrow\n",
    "\n",
    "And these act on the whole figure:\n",
    "\n",
    "- figtext() - add text at an arbitrary location\n",
    "- suptitle() - add a title\n",
    "\n",
    "And any text field can contain LaTeX expressions for mathematics, as long as\n",
    "they are enclosed in ``$`` signs.\n",
    "\n",
    "This example illustrates all of them:"
   ]
  },
  {
   "cell_type": "code",
   "execution_count": null,
   "metadata": {
    "collapsed": false
   },
   "outputs": [],
   "source": [
    "fig, (ax1, ax2) = plt.subplots(1, 2, figsize=(15,9))\n",
    "\n",
    "fig.suptitle('bold figure suptitle', fontsize=14, fontweight='bold')\n",
    "ax1.set_title('axes 1 title')\n",
    "ax2.set_title('axes 2 title')\n",
    "\n",
    "ax1.set_xlabel('xlabel 1')\n",
    "ax2.set_xlabel('xlabel 2')\n",
    "ax1.set_ylabel('ylabel 1')\n",
    "ax2.set_ylabel('ylabel 2')\n",
    "\n",
    "ax1.text(3, 8, 'boxed italics text in data coords', style='italic',\n",
    "        bbox={'facecolor':'red', 'alpha':0.5, 'pad':10})\n",
    "\n",
    "ax1.text(2, 6, r'an equation: $e^{\\i\\pi}+1=0$', fontsize=15)\n",
    "\n",
    "ax1.text(2, 4, u'unicode: Institut f\\374r Festk\\366rperphysik')\n",
    "\n",
    "ax1.text(0.95, 0.01, 'colored text in axes coords',\n",
    "        verticalalignment='bottom', horizontalalignment='right',\n",
    "        transform=ax1.transAxes,\n",
    "        color='green', fontsize=15)\n",
    "\n",
    "# Annotating a piece of a plot\n",
    "ax2.plot([3], [4], 'o')\n",
    "ax2.annotate('annotate', xy=(3, 4), xytext=(6, 7),\n",
    "            arrowprops=dict(facecolor='black', width=0.8, \n",
    "                            headwidth=7, shrink=0.08))\n",
    "\n",
    "# Set the axis range to be [0,10] in both directions\n",
    "for ax in (ax1, ax2):\n",
    "    ax.axis([0, 10, 0, 10])"
   ]
  },
  {
   "cell_type": "markdown",
   "metadata": {},
   "source": [
    "Axis sharing\n",
    "============\n",
    "\n",
    "The simplest way to share axes is to use the ``subplots`` function.  More\n",
    "fine-grained control can be obtained by individually adding subplots and adding\n",
    "share calls to those, but in most cases the functionality from ``subplots`` is sufficient:"
   ]
  },
  {
   "cell_type": "code",
   "execution_count": null,
   "metadata": {
    "collapsed": false
   },
   "outputs": [],
   "source": [
    "%matplotlib inline"
   ]
  },
  {
   "cell_type": "code",
   "execution_count": null,
   "metadata": {
    "collapsed": false
   },
   "outputs": [],
   "source": [
    "# Simple data to display in various forms\n",
    "x = np.linspace(0, 2 * np.pi, 400)\n",
    "y = np.sin(x**2)\n",
    "\n",
    "# Two subplots, the axes array is 1-d\n",
    "f, axarr = plt.subplots(2, sharex=True)\n",
    "f.suptitle('Sharing X axis')\n",
    "axarr[0].plot(x, y)\n",
    "axarr[1].scatter(x, y)\n",
    "\n",
    "# Two subplots, unpack the axes array immediately\n",
    "f, (ax1, ax2) = plt.subplots(1, 2, sharey=True)\n",
    "f.suptitle('Sharing Y axis')\n",
    "ax1.plot(x, y)\n",
    "ax2.scatter(x, y)\n",
    "\n",
    "# Three subplots sharing both x/y axes\n",
    "f, (ax1, ax2, ax3) = plt.subplots(3, sharex=True, sharey=True)\n",
    "f.suptitle('Sharing both axes')\n",
    "ax1.plot(x, y)\n",
    "ax2.scatter(x, y)\n",
    "ax3.scatter(x, 2*y**2-1,color='r')\n",
    "# Fine-tune figure; make subplots close to each other and hide x ticks for\n",
    "# all but bottom plot.\n",
    "f.subplots_adjust(hspace=0)\n",
    "plt.setp([a.get_xticklabels() for a in f.axes[:-1]], visible=False);"
   ]
  },
  {
   "cell_type": "markdown",
   "metadata": {},
   "source": [
    "Image display\n",
    "=============\n",
    "\n",
    "The ``imshow`` command can display single or multi-channel images.  A simple\n",
    "array of random numbers, plotted in grayscale:"
   ]
  },
  {
   "cell_type": "code",
   "execution_count": null,
   "metadata": {
    "collapsed": false
   },
   "outputs": [],
   "source": [
    "z = np.random.random((10, 10))\n",
    "plt.imshow(z, cmap=plt.cm.gray, interpolation='nearest')"
   ]
  },
  {
   "cell_type": "code",
   "execution_count": null,
   "metadata": {
    "collapsed": false
   },
   "outputs": [],
   "source": [
    "img = plt.imread('data/stained_glass_barcelona.png')\n",
    "\n",
    "print(\"Shape:\", img.shape)\n",
    "print()\n",
    "print(img[:5, :5, 0])"
   ]
  },
  {
   "cell_type": "code",
   "execution_count": null,
   "metadata": {
    "collapsed": false
   },
   "outputs": [],
   "source": [
    "plt.imshow(img)"
   ]
  },
  {
   "cell_type": "code",
   "execution_count": null,
   "metadata": {
    "collapsed": false
   },
   "outputs": [],
   "source": [
    "plt.imshow(img[..., 0], cmap=plt.cm.hot)"
   ]
  },
  {
   "cell_type": "markdown",
   "metadata": {},
   "source": [
    "<div class=\"exercise\">\n",
    "    \n",
    "Exercise\n",
    "--------\n",
    "\n",
    "Write a notebook where you can load an image and then perform the following operations on it:\n",
    "    \n",
    "1. Create a figure with four plots that show both the full-color image and color channel of the image with the right colormap for that color.  Ensure that the axes are linked so zooming in one image zooms the same region in the others.\n",
    "    \n",
    "2. Compute a luminosity and per-channel histogram and display all four histograms in one figure, giving each a separate plot (hint: a 4x1 plot works best for this).  Link the appropriate axes together.\n",
    "    \n",
    "3. Create a black-and-white (or more precisely, grayscale) version of the image.  Compare the results from a naive average of all three channels with that of a model that uses 30% red, 59% green and 11% blue, by displaying all three (full color and both grayscales) side by side with linked axes for zooming.\n",
    "    \n",
    "Hint: look for the [matplotlib image tutorial](http://matplotlib.org/users/image_tutorial.html)."
   ]
  },
  {
   "cell_type": "markdown",
   "metadata": {},
   "source": [
    "# Seaborn\n",
    "\n",
    "https://stanford.edu/~mwaskom/software/seaborn/\n",
    "\n",
    "*Python visualization library based on matplotlib. It provides a high-level interface for drawing attractive statistical graphics.*\n",
    "\n",
    "\"...built on top of matplotlib and tightly integrated with the PyData stack, including support for `numpy` and `pandas` data structures and statistical routines from `scipy` and `statsmodels`.\"\n",
    "\n",
    "Some of the features that seaborn offers are\n",
    "\n",
    " - Several built-in themes that improve on the default matplotlib aesthetics\n",
    " - Tools for choosing color palettes to make beautiful plots that reveal patterns in your data\n",
    " - Functions for visualizing univariate and bivariate distributions or for comparing them between subsets of data\n",
    " - Tools that fit and visualize linear regression models for different kinds of independent and dependent variables\n",
    " - Functions that visualize matrices of data and use clustering algorithms to discover structure in those matrices\n",
    " - A function to plot statistical timeseries data with flexible estimation and representation of uncertainty around the estimate\n",
    " - High-level abstractions for structuring grids of plots that let you easily build complex visualizations\n",
    "\n",
    "\"The plotting functions operate on dataframes and arrays containing a whole dataset and internally perform the necessary aggregation and statistical model-fitting to produce informative plots. If matplotlib “tries to make easy things easy and hard things possible”, seaborn tries to make a well-defined set of hard things easy too.\""
   ]
  },
  {
   "cell_type": "code",
   "execution_count": null,
   "metadata": {
    "collapsed": false
   },
   "outputs": [],
   "source": [
    "from IPython.display import IFrame\n",
    "IFrame('https://stanford.edu/~mwaskom/software/seaborn/api.html', width=800, height=500)"
   ]
  },
  {
   "cell_type": "markdown",
   "metadata": {},
   "source": [
    "Set the aesthetic in one go."
   ]
  },
  {
   "cell_type": "code",
   "execution_count": null,
   "metadata": {
    "collapsed": false
   },
   "outputs": [],
   "source": [
    "import seaborn as sns\n",
    "# white, dark, whitegrid, darkgrid, ticks\n",
    "sns.set(style=\"darkgrid\")"
   ]
  },
  {
   "cell_type": "code",
   "execution_count": null,
   "metadata": {
    "collapsed": false
   },
   "outputs": [],
   "source": [
    "# Load the example dataset for Anscombe's quartet\n",
    "df = sns.load_dataset(\"anscombe\")\n",
    "df.sample(10)"
   ]
  },
  {
   "cell_type": "code",
   "execution_count": null,
   "metadata": {
    "collapsed": false
   },
   "outputs": [],
   "source": [
    "# Show the results of a linear regression within each dataset\n",
    "sns.lmplot(x=\"x\", y=\"y\", col=\"dataset\", hue=\"dataset\", data=df,\n",
    "           col_wrap=2, size=4,\n",
    "           scatter_kws={\"s\": 50, \"alpha\": 1})"
   ]
  },
  {
   "cell_type": "markdown",
   "metadata": {},
   "source": [
    "## context sets the scaling of the fonts\n",
    "\n",
    "choose: paper, notebook, talk, and poster"
   ]
  },
  {
   "cell_type": "code",
   "execution_count": null,
   "metadata": {
    "collapsed": false
   },
   "outputs": [],
   "source": [
    "sns.set_context(\"poster\")\n",
    "# Show the results of a linear regression within each dataset\n",
    "sns.lmplot(x=\"x\", y=\"y\", col=\"dataset\", hue=\"dataset\", data=df,\n",
    "           col_wrap=2, size=4,\n",
    "           scatter_kws={\"s\": 50, \"alpha\": 1})"
   ]
  },
  {
   "cell_type": "code",
   "execution_count": null,
   "metadata": {
    "collapsed": false
   },
   "outputs": [],
   "source": [
    "sns.axes_style()"
   ]
  },
  {
   "cell_type": "code",
   "execution_count": null,
   "metadata": {
    "collapsed": false
   },
   "outputs": [],
   "source": [
    "import seaborn as sns\n",
    "import matplotlib.pyplot as plt\n",
    "sns.set(style=\"white\")\n",
    "sns.set_context(\"poster\")\n",
    "\n",
    "df = sns.load_dataset(\"iris\")\n",
    "\n",
    "g = sns.pairplot(df,hue=\"species\")"
   ]
  },
  {
   "cell_type": "code",
   "execution_count": null,
   "metadata": {
    "collapsed": false
   },
   "outputs": [],
   "source": [
    "import numpy as np; np.random.seed(42)\n",
    "import seaborn as sns; sns.set(color_codes=True)\n",
    "x = np.linspace(0, 15, 31)\n",
    "data = np.sin(x) + np.random.rand(10, 31) + np.random.randn(10, 1)\n",
    "ax = sns.tsplot(data=data)"
   ]
  },
  {
   "cell_type": "code",
   "execution_count": null,
   "metadata": {
    "collapsed": false
   },
   "outputs": [],
   "source": [
    "ax = sns.tsplot(data=data, err_style=\"boot_traces\", n_boot=500)"
   ]
  },
  {
   "cell_type": "code",
   "execution_count": null,
   "metadata": {
    "collapsed": false
   },
   "outputs": [],
   "source": [
    "ax = sns.tsplot(data=data, ci=[5, 99], color=\"r\")"
   ]
  },
  {
   "cell_type": "code",
   "execution_count": null,
   "metadata": {
    "collapsed": false
   },
   "outputs": [],
   "source": [
    "type(ax)"
   ]
  },
  {
   "cell_type": "code",
   "execution_count": null,
   "metadata": {
    "collapsed": true
   },
   "outputs": [],
   "source": []
  }
 ],
 "metadata": {
  "kernelspec": {
   "display_name": "Python [Root]",
   "language": "python",
   "name": "Python [Root]"
  },
  "language_info": {
   "codemirror_mode": {
    "name": "ipython",
    "version": 3
   },
   "file_extension": ".py",
   "mimetype": "text/x-python",
   "name": "python",
   "nbconvert_exporter": "python",
   "pygments_lexer": "ipython3",
   "version": "3.5.2"
  }
 },
 "nbformat": 4,
 "nbformat_minor": 0
}
