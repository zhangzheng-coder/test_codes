{
 "cells": [
  {
   "cell_type": "code",
   "execution_count": 1,
   "metadata": {
    "collapsed": true
   },
   "outputs": [],
   "source": [
    "import pandas as pd \n",
    "from scipy import stats\n",
    "import numpy as np\n",
    "import matplotlib.pyplot as plt\n",
    "from matplotlib.ticker import FuncFormatter, MaxNLocator"
   ]
  },
  {
   "cell_type": "markdown",
   "metadata": {},
   "source": [
    "Step 1) load the datafiles into dataframes to better handling and joining for the KS tests."
   ]
  },
  {
   "cell_type": "code",
   "execution_count": 2,
   "metadata": {
    "collapsed": false
   },
   "outputs": [],
   "source": [
    "#Colony dataframes\n",
    "bishayee_colony = pd.read_excel(\"Bishayee Colony Counts 10.27.97-3.8.01.xlsx\", skiprows=2)\n",
    "outside3_colony = pd.read_excel(\"Outside Lab 3.Colony Counts.2.4.10-5.21.12.xlsx\", skiprows=1)\n",
    "others_colony = pd.read_excel(\"Other Investigators in Lab.Colony Counts.4.23.92-11.27.02.xlsx\", skiprows=1)\n",
    "#Coulter dataframes\n",
    "bishayee_coulter = pd.read_excel(\"Bishayee Coulter Counts.10.20.97-7.16.01.xlsx\", skiprows=1)\n",
    "others_coulter = pd.read_excel(\"Other Investigators in Lab.Coulter Counts.4.15.92-5.21.05.xlsx\", skiprows=1)\n",
    "    #This data file had no header, introduced manually\n",
    "outside1_coulter = pd.read_excel(\"Outside Lab 1.Coulter Counts.6.7.91-4.9.99.xlsx\")\n",
    "outside1_coulter.columns = [\"Experiment\", \"C1\", \"C2\", \"C3\",\"Average\",\"Date\"]\n",
    "outside2_coulter = pd.read_excel(\"Outside Lab 2.Coulter Counts.6.6.08-7.7.08.xlsx\", skiprows=1)"
   ]
  },
  {
   "cell_type": "markdown",
   "metadata": {},
   "source": [
    "The following step is to verify the magnitudes of the data in the sets for the coulter and the colony. From the description of the experimental set-up, it seems that the count of the cells using the coulter and the colony count are actually individual experiments with different methods. Hence, they should be analyzed independently"
   ]
  },
  {
   "cell_type": "code",
   "execution_count": 8,
   "metadata": {
    "collapsed": false
   },
   "outputs": [
    {
     "data": {
      "text/plain": [
       "9534"
      ]
     },
     "execution_count": 8,
     "metadata": {},
     "output_type": "execute_result"
    }
   ],
   "source": [
    "bishayee_colony.size"
   ]
  },
  {
   "cell_type": "code",
   "execution_count": null,
   "metadata": {
    "collapsed": false
   },
   "outputs": [],
   "source": []
  },
  {
   "cell_type": "code",
   "execution_count": null,
   "metadata": {
    "collapsed": false
   },
   "outputs": [],
   "source": []
  },
  {
   "cell_type": "code",
   "execution_count": null,
   "metadata": {
    "collapsed": false
   },
   "outputs": [],
   "source": []
  },
  {
   "cell_type": "code",
   "execution_count": null,
   "metadata": {
    "collapsed": true
   },
   "outputs": [],
   "source": []
  }
 ],
 "metadata": {
  "kernelspec": {
   "display_name": "Python 2",
   "language": "python",
   "name": "python2"
  },
  "language_info": {
   "codemirror_mode": {
    "name": "ipython",
    "version": 2
   },
   "file_extension": ".py",
   "mimetype": "text/x-python",
   "name": "python",
   "nbconvert_exporter": "python",
   "pygments_lexer": "ipython2",
   "version": "2.7.10"
  }
 },
 "nbformat": 4,
 "nbformat_minor": 0
}
