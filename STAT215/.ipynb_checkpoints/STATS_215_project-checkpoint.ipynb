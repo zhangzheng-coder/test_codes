{
 "cells": [
  {
   "cell_type": "code",
   "execution_count": 223,
   "metadata": {
    "collapsed": false
   },
   "outputs": [],
   "source": [
    "%matplotlib inline\n",
    "import pandas as pd\n",
    "import random as rnd\n",
    "from scipy import stats\n",
    "import numpy as np\n",
    "import matplotlib.pyplot as plt\n",
    "from matplotlib.ticker import FuncFormatter, MaxNLocator\n",
    "#Use the same random seed to make results replicable\n",
    "rnd.seed(1235822231)"
   ]
  },
  {
   "cell_type": "markdown",
   "metadata": {},
   "source": [
    "# Data Loading and count check.\n",
    "This portion of the code is intended to load the datafiles into dataframes to better handling and join. Also, will present the verification of the results from Table 2 presented in the [paper](https://www.scienceopen.com/document/review?3&id=7a235c56-a1da-498f-98ef-6fa16c8fd2f0&review=9870bf08-c06e-403a-85ba-774e27cdb520). \n",
    "\n",
    "In the following lines of code we have dropped the columns not relevant for the analysis, the final outcome are dataframes for each data sample and a merged dataframe with all the samples. "
   ]
  },
  {
   "cell_type": "code",
   "execution_count": 224,
   "metadata": {
    "collapsed": false
   },
   "outputs": [],
   "source": [
    "#Colony dataframes\n",
    "bishayee_colony = pd.read_excel(\"Bishayee Colony Counts 10.27.97-3.8.01.xlsx\", skiprows=2,na_values=\" \")\n",
    "outside3_colony = pd.read_excel(\"Outside Lab 3.Colony Counts.2.4.10-5.21.12.xlsx\", skiprows=1)\n",
    "others_colony = pd.read_excel(\"Other Investigators in Lab.Colony Counts.4.23.92-11.27.02.xlsx\", skiprows=1)\n",
    "    #Clean up of the colony data\n",
    "bishayee_colony[\"Inv\"] = \"Z\"\n",
    "bishayee_colony.drop('ISOTOPE', axis=1, inplace=True)\n",
    "bishayee_colony2 = bishayee_colony.iloc[:,[0,1,6,2,3,4,5]]\n",
    "bishayee_colony2.columns\n",
    "bishayee_colony2.rename(columns={'Bate # B0/B00':'Batch'},inplace = True)\n",
    "bishayee_colony2.drop('Batch', axis=1, inplace=True)\n",
    "bishayee_colony2.drop(\"Date\",axis =1,inplace=True)\n",
    "others_colony2 = others_colony.rename(columns={'Bates # B00 or B0':'Batch'})\n",
    "others_colony2.drop('Batch', axis=1, inplace=True)\n",
    "others_colony2.drop(\"Date\",axis =1,inplace=True)\n",
    "outside3_colony[\"Inv\"] = \"O\"\n",
    "outside3_colony2=outside3_colony.iloc[:,[0,5,1,2,3,4]]\n",
    "outside3_colony2.rename(columns={'date':'Date','c1':'col1','c2':'col2','c3':'col3'},inplace = True)\n",
    "outside3_colony2.drop(\"Date\",axis =1,inplace=True)\n",
    "df_total = [bishayee_colony2,others_colony2,outside3_colony2]\n",
    "merged_colony_data = pd.concat(df_total)    \n",
    "#Coulter dataframes\n",
    "bishayee_coulter = pd.read_excel(\"Bishayee Coulter Counts.10.20.97-7.16.01.xlsx\", skiprows=1)\n",
    "others_coulter = pd.read_excel(\"Other Investigators in Lab.Coulter Counts.4.15.92-5.21.05.xlsx\", skiprows=1)\n",
    "    #This data file had no header, introduced manually\n",
    "outside1_coulter = pd.read_excel(\"Outside Lab 1.Coulter Counts.6.7.91-4.9.99.xlsx\")\n",
    "outside1_coulter.columns = [\"Experiment\", \"C1\", \"C2\", \"C3\",\"Average\",\"Date\"]\n",
    "outside2_coulter = pd.read_excel(\"Outside Lab 2.Coulter Counts.6.6.08-7.7.08.xlsx\", skiprows=1)\n",
    "    #Clean up of the coulter data \n",
    "bishayee_coulter2 = bishayee_coulter.drop('Bates', axis=1)\n",
    "bishayee_coulter2[\"Inv\"] = \"Z\"\n",
    "bishayee_coulter2 = bishayee_coulter2.iloc[:,[0,5,1,2,3,4]]\n",
    "bishayee_coulter2.rename(columns={'Count 1':'col1','Count 2':'col2','Count 3':'col3'},inplace=True)\n",
    "bishayee_coulter2.drop(\"Date\",axis =1,inplace=True)\n",
    "outside1_coulter2 = outside1_coulter.drop('Experiment', axis = 1)\n",
    "outside1_coulter2[\"Inv\"] = \"O1\"\n",
    "outside1_coulter2 = outside1_coulter2.iloc[:,[4,5,0,1,2,3]]\n",
    "outside1_coulter2.rename(columns={'C1':'col1','C2':'col2','C3':'col3'},inplace=True)\n",
    "outside1_coulter2.drop(\"Date\",axis =1,inplace=True)\n",
    "outside2_coulter2 = outside2_coulter.rename(columns={'Count 1':\"col1\",'Count 2':\"col2\",'Count 3':\"col3\"})\n",
    "outside2_coulter2[\"Inv\"] = \"O2\"\n",
    "outside2_coulter2 = outside2_coulter2.iloc[:,[0,5,1,2,3,4]]\n",
    "outside2_coulter2.drop(\"Date\",axis =1,inplace=True)\n",
    "others_coulter2 = others_coulter.drop('Bates No.', axis = 1)\n",
    "others_coulter2.rename(columns={'Coul 1':'col1','Coul 2':'col2','Coul 3':'col3','Investigator':'Inv'},\\\n",
    "                       inplace=True)\n",
    "others_coulter2 = others_coulter2.iloc[:,[0,5,1,2,3,4]]\n",
    "others_coulter2.drop(\"Date\",axis =1,inplace=True)\n",
    "df_total_coulter = [bishayee_coulter2,others_coulter2,outside1_coulter2,outside2_coulter2]\n",
    "merged_coulter_data = pd.concat(df_total_coulter)"
   ]
  },
  {
   "cell_type": "markdown",
   "metadata": {},
   "source": [
    "The following step is to verify the magnitudes of the data in the sets for the coulter and the colony. From the description of the experimental set-up, it seems that the count of the cells using the coulter and the colony count are actually individual experiments with different methods."
   ]
  },
  {
   "cell_type": "markdown",
   "metadata": {},
   "source": [
    "Completeness test of the combined colony data"
   ]
  },
  {
   "cell_type": "code",
   "execution_count": 225,
   "metadata": {
    "collapsed": false
   },
   "outputs": [
    {
     "name": "stdout",
     "output_type": "stream",
     "text": [
      "Total number of colony data triplets  2033\n",
      "Total number of suspected colony data triplets  1362\n",
      "Total number of others colony data triplets  621\n",
      "Total number of outside lab 3 colony data triplets  50\n"
     ]
    }
   ],
   "source": [
    "print 'Total number of colony data triplets  ' + str(merged_colony_data.index.size)\n",
    "print 'Total number of suspected colony data triplets  ' + str(bishayee_colony2.index.size)\n",
    "print 'Total number of others colony data triplets  ' + str(others_colony2.index.size)\n",
    "print 'Total number of outside lab 3 colony data triplets  ' + str(outside3_colony2.index.size)"
   ]
  },
  {
   "cell_type": "markdown",
   "metadata": {},
   "source": [
    "The raw total number of samples doesn't coincide with the numbers in the [paper](https://www.scienceopen.com/document/review?3&id=7a235c56-a1da-498f-98ef-6fa16c8fd2f0&review=9870bf08-c06e-403a-85ba-774e27cdb520). Furthermore, the labeling of the outside labs is not consistent. It looks like the authors labeled the outside colony counts at lab1 when indeed is lab3. \n",
    "\n",
    "The following step is to eliminate incomplete triples and drop the na rows and check again against the authors' table. The designation (AD) is used to differentiate the data after drop."
   ]
  },
  {
   "cell_type": "code",
   "execution_count": 226,
   "metadata": {
    "collapsed": false
   },
   "outputs": [
    {
     "name": "stdout",
     "output_type": "stream",
     "text": [
      "Total number of colony data triplets (AD) 2008\n",
      "Total number of suspected colony data triplets (AD) 1361\n",
      "Total number of others colony data triplets (AD) 597\n",
      "Total number of outside lab 3 colony data triplets  50\n"
     ]
    }
   ],
   "source": [
    "merged_colony_data.replace(r'\\s*',np.nan, regex=True)\n",
    "merged_colony_data=merged_colony_data.dropna()\n",
    "merged_colony_data.reset_index(drop=True)\n",
    "print 'Total number of colony data triplets (AD) ' + str(merged_colony_data.index.size) \n",
    "bishayee_colony2.replace(r'\\s*',np.nan, regex=True)\n",
    "bishayee_colony2 = bishayee_colony2.dropna()\n",
    "bishayee_colony2.reset_index(drop=True)\n",
    "print 'Total number of suspected colony data triplets (AD) ' + str(bishayee_colony2.index.size)\n",
    "others_colony2.replace(r'\\s*',np.nan, regex=True)\n",
    "others_colony2 = others_colony2.dropna()\n",
    "others_colony2.reset_index(drop=True)\n",
    "print 'Total number of others colony data triplets (AD) ' + str(others_colony2.index.size)\n",
    "outside3_colony2.replace(r'\\s*',np.nan, regex=True)\n",
    "outside3_colony2 = outside3_colony2.dropna()\n",
    "outside3_colony2.reset_index(drop=True)\n",
    "print 'Total number of outside lab 3 colony data triplets  ' + str(outside3_colony2.index.size)"
   ]
  },
  {
   "cell_type": "markdown",
   "metadata": {},
   "source": [
    "The same data clean up and count of the the triplets is performed with the coulter data"
   ]
  },
  {
   "cell_type": "code",
   "execution_count": 227,
   "metadata": {
    "collapsed": false
   },
   "outputs": [
    {
     "name": "stdout",
     "output_type": "stream",
     "text": [
      "Total number of coulter data triplets  2965\n",
      "Total number of suspected coulter data triplets  1729\n",
      "Total number of others coulter data triplets  1007\n",
      "Total number of outside lab1 data triplets  109\n",
      "Total number of outside lab2 data triplets  120\n"
     ]
    }
   ],
   "source": [
    "print 'Total number of coulter data triplets  ' + str(merged_coulter_data.index.size)\n",
    "print 'Total number of suspected coulter data triplets  ' + str(bishayee_coulter2.index.size)\n",
    "print 'Total number of others coulter data triplets  ' + str(others_coulter2.index.size)\n",
    "print 'Total number of outside lab1 data triplets  ' + str(outside1_coulter2.index.size)\n",
    "print 'Total number of outside lab2 data triplets  ' + str(outside2_coulter2.index.size)"
   ]
  },
  {
   "cell_type": "code",
   "execution_count": 228,
   "metadata": {
    "collapsed": false
   },
   "outputs": [
    {
     "name": "stdout",
     "output_type": "stream",
     "text": [
      "Total number of coulter data triplets (AD) 2873\n",
      "Total number of suspected coulter data triplets (AD) 1727\n",
      "Total number of others coulter data triplets (AD) 929\n",
      "Total number of outside lab1 data triplets (AD) 97\n",
      "Total number of outside lab2 data triplets (AD) 120\n"
     ]
    }
   ],
   "source": [
    "merged_coulter_data.replace(r'\\s*',np.nan, regex=True)\n",
    "merged_coulter_data = merged_coulter_data.dropna()\n",
    "merged_coulter_data.reset_index(drop=True)\n",
    "print 'Total number of coulter data triplets (AD) ' + str(merged_coulter_data.index.size)\n",
    "bishayee_coulter2.replace(r'\\s*',np.nan, regex=True)\n",
    "bishayee_coulter2 = bishayee_coulter2.dropna()\n",
    "bishayee_coulter2.reset_index(drop=True)\n",
    "print 'Total number of suspected coulter data triplets (AD) ' + str(bishayee_coulter2.index.size)\n",
    "others_coulter2.replace(r'\\s*',np.nan, regex=True)\n",
    "others_coulter2 = others_coulter2.dropna()\n",
    "others_coulter2.reset_index(drop=True)\n",
    "print 'Total number of others coulter data triplets (AD) ' + str(others_coulter2.index.size)\n",
    "outside1_coulter2.replace(r'\\s*',np.nan, regex=True)\n",
    "outside1_coulter2 = outside1_coulter2.dropna()\n",
    "outside1_coulter2.reset_index(drop=True)\n",
    "print 'Total number of outside lab1 data triplets (AD) ' + str(outside1_coulter2.index.size)\n",
    "outside2_coulter2.replace(r'\\s*',np.nan, regex=True)\n",
    "outside2_coulter2 = outside2_coulter2.dropna()\n",
    "outside2_coulter2.reset_index(drop=True)\n",
    "print 'Total number of outside lab2 data triplets (AD) ' + str(outside2_coulter2.index.size)"
   ]
  },
  {
   "cell_type": "markdown",
   "metadata": {},
   "source": [
    "The analysis of the complete triples yields a discrepancy when compared to Table 2. The results of the count are consistent for \"total\" in the fourth column. The RTS (suspected) colony counts, and the outside lab3 (labeled in the [paper](https://www.scienceopen.com/document/review?3&id=7a235c56-a1da-498f-98ef-6fa16c8fd2f0&review=9870bf08-c06e-403a-85ba-774e27cdb520) as lab1) are equal. The only discrepancy is the count for the other's colony count; however, the discrepancy is very small i.e., 8 triplets. \n",
    "\n",
    "In the case of the coulter counts there is no discrepancy with respect to the No. complete, the others, lab2 and lab1 (labeled in the [paper](https://www.scienceopen.com/document/review?3&id=7a235c56-a1da-498f-98ef-6fa16c8fd2f0&review=9870bf08-c06e-403a-85ba-774e27cdb520) as lab3) are consistent with Table 2. The discrepancy appears in the RTS (suspected) sample, but again it is a comparatively small differnece i.e., 11. \n",
    "\n",
    "It is worth nothing that the authors dropped triplets with gap $\\ge$ 2, this is not completely explained in the [paper](https://www.scienceopen.com/document/review?3&id=7a235c56-a1da-498f-98ef-6fa16c8fd2f0&review=9870bf08-c06e-403a-85ba-774e27cdb520) and it is only mentioned in a footnote in Table 2. If there are issues with the gaps, they are expected to show up in the ratio of the distances between the samples in the forthcoming analysis.  "
   ]
  },
  {
   "cell_type": "markdown",
   "metadata": {},
   "source": [
    "# Calculation of the distance ratios\n",
    "\n",
    "A function is used to take a dataframe and add columns with the values of the distance ratios between the samples, even though the [paper](https://www.scienceopen.com/document/review?3&id=7a235c56-a1da-498f-98ef-6fa16c8fd2f0&review=9870bf08-c06e-403a-85ba-774e27cdb520) only mentions a single ratio we tested the distances from the mid value in both directions. The proceedure for the calculations is as follows: \n",
    "\n",
    "$$\n",
    "\\begin{align}\n",
    "\\text{sort} (\\hat{t})\\\\\n",
    "\\\\\n",
    "LowerRatio = \\frac{\\hat{t}(2) - \\hat{t}(1)}{\\hat{t}(3) - \\hat{t}(1)}\\\\\n",
    "\\\\\n",
    "UpperRatio = \\frac{\\hat{t}(3) - \\hat{t}(2)}{\\hat{t}(3) - \\hat{t}(1)}\n",
    "\\end{align}\n",
    "$$\n",
    "\n",
    "The final output of the function are two numpy vectors with the Upper Ration and Lower Ratio values"
   ]
  },
  {
   "cell_type": "code",
   "execution_count": 229,
   "metadata": {
    "collapsed": false
   },
   "outputs": [],
   "source": [
    "def DistanceRatioCalculation(data_frame):\n",
    "    '''\n",
    "    Calculates the ratio of the distance between a triplet sample.\n",
    "    $$\n",
    "    \\begin{align}\n",
    "    \\text{sort} (\\hat{t})\\\\\n",
    "    \\\\\n",
    "    LowerRatio = \\frac{\\hat{t}(2) - \\hat{t}(1)}{\\hat{t}(3) - \\hat{t}(1)}\\\\\n",
    "    \\\\\n",
    "    UpperRatio = \\frac{\\hat{t}(3) - \\hat{t}(2)}{\\hat{t}(3) - \\hat{t}(1)}\n",
    "    \\end{align}\n",
    "    $$\n",
    "    '''\n",
    "    if not isinstance(data_frame, pd.DataFrame):\n",
    "        print 'Wrong data type, dataframe expected'\n",
    "    else:\n",
    "        df_ur = np.ones(len(data_frame))\n",
    "        df_lr = np.ones(len(data_frame))\n",
    "        for i in range(0,len(data_frame)):\n",
    "            temp_array = np.ones(3)\n",
    "            for k in range(0,3):\n",
    "                temp_array[k] = data_frame.iloc[i,(1+k)]\n",
    "            temp_array = np.sort(temp_array)\n",
    "            df_lr[i] = (temp_array[1]-temp_array[0])/(temp_array[2]-temp_array[0])\n",
    "            df_ur[i] = (temp_array[2]-temp_array[1])/(temp_array[2]-temp_array[0])\n",
    "            if (df_lr[i]) == 0 and (df_ur[i]) != 1:\n",
    "                print \"data issues, the distances are not complementary\"\n",
    "        df_ur = df_ur[~np.isnan(df_ur)] \n",
    "        df_lr = df_lr[~np.isnan(df_lr)] \n",
    "        df_ur= np.squeeze(df_ur)  \n",
    "        df_lr= np.squeeze(df_lr) \n",
    "    return df_lr, df_ur"
   ]
  },
  {
   "cell_type": "markdown",
   "metadata": {
    "collapsed": true
   },
   "source": [
    "If any ratio is NaN because all the numbers are the same then it gets dropped from the dataframe. After this process the total amount of triplets gets counted again. \n",
    "\n",
    "The out"
   ]
  },
  {
   "cell_type": "code",
   "execution_count": 230,
   "metadata": {
    "collapsed": false
   },
   "outputs": [
    {
     "name": "stdout",
     "output_type": "stream",
     "text": [
      "2005\n",
      "1360\n",
      "595\n",
      "50\n"
     ]
    }
   ],
   "source": [
    "merged_colony_data_d = DistanceRatioCalculation(merged_colony_data)\n",
    "print len(merged_colony_data_d[0])\n",
    "bishayee_colony2_d = DistanceRatioCalculation(bishayee_colony2)\n",
    "print len(bishayee_colony2_d[0])\n",
    "others_colony2_d = DistanceRatioCalculation(others_colony2)\n",
    "print len(others_colony2_d[0])\n",
    "outside3_colony2_d = DistanceRatioCalculation(outside3_colony2)\n",
    "print len(outside3_colony2_d[0])"
   ]
  },
  {
   "cell_type": "code",
   "execution_count": 231,
   "metadata": {
    "collapsed": false
   },
   "outputs": [
    {
     "name": "stdout",
     "output_type": "stream",
     "text": [
      "2873\n",
      "1727\n",
      "929\n",
      "97\n",
      "120\n"
     ]
    }
   ],
   "source": [
    "merged_coulter_data_d = DistanceRatioCalculation(merged_coulter_data)\n",
    "print len(merged_coulter_data_d[0])\n",
    "bishayee_coulter2_d = DistanceRatioCalculation(bishayee_coulter2)\n",
    "print len(bishayee_coulter2_d[0])\n",
    "others_coulter2_d = DistanceRatioCalculation(others_coulter2)\n",
    "print len(others_coulter2_d[0])\n",
    "outside1_coulter2_d = DistanceRatioCalculation(outside1_coulter2)\n",
    "print len(outside1_coulter2_d[0])\n",
    "outside2_coulter2_d = DistanceRatioCalculation(outside2_coulter2)\n",
    "print len(outside2_coulter2_d[0])"
   ]
  },
  {
   "cell_type": "markdown",
   "metadata": {},
   "source": [
    "## Testing of the uniformity assumption about the benchmark data\n",
    "After calculating the different ratios, it is possible to make a visual inspection of the data as in Figures 1(a) and 2(b) in the paper. "
   ]
  },
  {
   "cell_type": "code",
   "execution_count": 232,
   "metadata": {
    "collapsed": true
   },
   "outputs": [],
   "source": [
    "def ReturnSample(l,n):\n",
    "    indexes=rnd.sample(range(1,len(l)),n)  \n",
    "    return np.asarray([l[i] for i in indexes])"
   ]
  },
  {
   "cell_type": "code",
   "execution_count": 233,
   "metadata": {
    "collapsed": true
   },
   "outputs": [],
   "source": [
    "def uniformkspermutation(data,permutations,sample_size = 100):\n",
    "    \"\"\"\n",
    "    This function is designed to take a set of data and perform a KS statistic permutation test \n",
    "    against an uniform distribution sample of size 10000. The output is an array of sixe trials of KS statistics. \n",
    "    \n",
    "    inputs: data is the total population of data\n",
    "    permutations: is the number of permutations \n",
    "    sample_size: is the sample size of the data draw for each permutation\n",
    "    \"\"\"    \n",
    "    result_array = np.ones(permutations)\n",
    "    for t in range(0,permutations):\n",
    "        permutationsample = ReturnSample(data,sample_size)\n",
    "        test_result =stats.kstest(permutationsample, 'uniform', N = 1000)\n",
    "        result_array[t] = test_result[0]\n",
    "    return np.squeeze(result_array)"
   ]
  },
  {
   "cell_type": "code",
   "execution_count": 234,
   "metadata": {
    "collapsed": false
   },
   "outputs": [],
   "source": [
    "#Print empirical CDF plot from a data vector x. \n",
    "def cdf_plot(x):\n",
    "    x_data = np.sort(x)\n",
    "    y_data = 1. * np.arange(len(x_data))/(len(x_data)-1)\n",
    "    plt.plot(x_data, y_data)"
   ]
  },
  {
   "cell_type": "code",
   "execution_count": 235,
   "metadata": {
    "collapsed": false
   },
   "outputs": [
    {
     "data": {
      "image/png": "[encoded data removed]",
      "text/plain": [
       "<matplotlib.figure.Figure at 0x117725f10>"
      ]
     },
     "metadata": {},
     "output_type": "display_data"
    }
   ],
   "source": [
    "sample_uniform = np.random.uniform(0,1,10000)\n",
    "cdf_plot(np.concatenate((others_colony2_d[0],outside3_colony2_d[0])))\n",
    "cdf_plot(np.concatenate((others_colony2_d[1],outside3_colony2_d[1])))\n",
    "cdf_plot(sample_uniform)"
   ]
  },
  {
   "cell_type": "code",
   "execution_count": 236,
   "metadata": {
    "collapsed": false
   },
   "outputs": [
    {
     "name": "stdout",
     "output_type": "stream",
     "text": [
      "The 95% percentile is 0.2\n",
      "The 95% percentile is 0.2\n"
     ]
    },
    {
     "data": {
      "image/png": "[encoded data removed]",
      "text/plain": [
       "<matplotlib.figure.Figure at 0x117440950>"
      ]
     },
     "metadata": {},
     "output_type": "display_data"
    }
   ],
   "source": [
    "benchmark_sample = np.concatenate((others_colony2_d[0],outside3_colony2_d[0]));\n",
    "uniform_test = uniformkspermutation(benchmark_sample,10000,sample_size = 50);\n",
    "x = plt.hist(uniform_test, bins = 100)\n",
    "x = plt.axvline(x=np.percentile(uniform_test, 95), color = 'b')\n",
    "print 'The 95% percentile is ' + str(np.percentile(uniform_test, 95))\n",
    "benchmark_sample = np.concatenate((others_colony2_d[1],outside3_colony2_d[1]));\n",
    "uniform_test = uniformkspermutation(benchmark_sample,10000,sample_size = 50);\n",
    "x = plt.hist(uniform_test, bins = 100)\n",
    "x = plt.axvline(x=np.percentile(uniform_test, 95), color = 'b')\n",
    "print 'The 95% percentile is ' + str(np.percentile(uniform_test, 95))"
   ]
  },
  {
   "cell_type": "code",
   "execution_count": 237,
   "metadata": {
    "collapsed": false
   },
   "outputs": [
    {
     "data": {
      "image/png": "[encoded data removed]",
      "text/plain": [
       "<matplotlib.figure.Figure at 0x116ea8790>"
      ]
     },
     "metadata": {},
     "output_type": "display_data"
    }
   ],
   "source": [
    "sample_uniform = np.random.uniform(0,1,10000)\n",
    "cdf_plot(bishayee_colony2_d[0])\n",
    "cdf_plot(bishayee_colony2_d[1])\n",
    "cdf_plot(sample_uniform)"
   ]
  },
  {
   "cell_type": "code",
   "execution_count": 238,
   "metadata": {
    "collapsed": false
   },
   "outputs": [
    {
     "name": "stdout",
     "output_type": "stream",
     "text": [
      "The 95% percentile is 0.293333333333\n",
      "The 95% percentile is 0.291052631579\n"
     ]
    },
    {
     "data": {
      "image/png": "[encoded data removed]",
      "text/plain": [
       "<matplotlib.figure.Figure at 0x116bb3110>"
      ]
     },
     "metadata": {},
     "output_type": "display_data"
    }
   ],
   "source": [
    "uniform_test = uniformkspermutation(bishayee_colony2_d[0],10000,sample_size = 100);\n",
    "x = plt.hist(uniform_test, bins = 100)\n",
    "x = plt.axvline(x=np.percentile(uniform_test, 95), color = 'b')\n",
    "print 'The 95% percentile is ' + str(np.percentile(uniform_test, 95))\n",
    "uniform_test = uniformkspermutation(bishayee_colony2_d[1],10000,sample_size = 100);\n",
    "x = plt.hist(uniform_test, bins = 100)\n",
    "x = plt.axvline(x=np.percentile(uniform_test, 95), color = 'g')\n",
    "print 'The 95% percentile is ' + str(np.percentile(uniform_test, 95))"
   ]
  },
  {
   "cell_type": "markdown",
   "metadata": {},
   "source": [
    "### KS permutation test implementation:\n",
    "\n",
    "In this test we attempt to analyse whether the difference in the distribution of the ratio from the susupected person to the uniform distribution is \"surprising\". To do this we first calculate the difference between the suspected persons ratio distribution and the uniform distribution's cumulative density function using the Kolmogorov Smirnoff test. \n",
    "Then we lump together all the data of the suspected person, other people in his lab and the outside scientists. From this larger population we draw a sample of the same size as that of the suspected person's data. We then calcualte the difference between the randomly drawn sample and the unform distribution via the KS test. \n",
    "The result of the KS test for each permutation is stored in an array. The frequency distribution of the KS statistic is then plotted and we then find the probability that the difference that we observed could have been observed by chance.\n",
    "THe reason we perform this test is because deviation from the uniform distribution is used as a justification for finding the person suspicious."
   ]
  },
  {
   "cell_type": "code",
   "execution_count": 239,
   "metadata": {
    "collapsed": false
   },
   "outputs": [],
   "source": [
    "\n",
    "def kstestpermutation(susData,allData,permutations):\n",
    "    #Step 1. Difference from suspected data\n",
    "    orig_Diff=stats.kstest(susData, 'uniform', N=1000)\n",
    "    #Step 2. Permute overall population and blabla\n",
    "    real_Diff=uniformkspermutation(allData,permutations,len(susData))\n",
    "    #Step 3. Plot the differences.\n",
    "    test1_plot= plt.figure()\n",
    "    plt.hist(real_Diff, bins = 100)\n",
    "    plt.axvline(x=orig_Diff[0], color = 'r')\n",
    "    #Step 4. Be surprised \"obtain p-value\".\n",
    "    aux_array=real_Diff[np.where(real_Diff<orig_Diff[0])]\n",
    "    val_less_than_orig=len(aux_array)\n",
    "    aux=(val_less_than_orig*1.0)/(len(real_Diff)*1.0)\n",
    "    return (1-aux)"
   ]
  },
  {
   "cell_type": "code",
   "execution_count": 240,
   "metadata": {
    "collapsed": false
   },
   "outputs": [
    {
     "data": {
      "text/plain": [
       "0.0"
      ]
     },
     "execution_count": 240,
     "metadata": {},
     "output_type": "execute_result"
    },
    {
     "data": {
      "image/png": "[encoded data removed]",
      "text/plain": [
       "<matplotlib.figure.Figure at 0x114eb3b10>"
      ]
     },
     "metadata": {},
     "output_type": "display_data"
    }
   ],
   "source": [
    "kstestpermutation(bishayee_colony2_d[0],merged_colony_data_d[0],10000)"
   ]
  },
  {
   "cell_type": "code",
   "execution_count": 241,
   "metadata": {
    "collapsed": false
   },
   "outputs": [
    {
     "data": {
      "text/plain": [
       "0.0"
      ]
     },
     "execution_count": 241,
     "metadata": {},
     "output_type": "execute_result"
    },
    {
     "data": {
      "image/png": "[encoded data removed]",
      "text/plain": [
       "<matplotlib.figure.Figure at 0x117836c90>"
      ]
     },
     "metadata": {},
     "output_type": "display_data"
    }
   ],
   "source": [
    "kstestpermutation(bishayee_colony2_d[1],merged_colony_data_d[1],10000)"
   ]
  },
  {
   "cell_type": "code",
   "execution_count": 242,
   "metadata": {
    "collapsed": false
   },
   "outputs": [
    {
     "data": {
      "text/plain": [
       "0.00019999999999997797"
      ]
     },
     "execution_count": 242,
     "metadata": {},
     "output_type": "execute_result"
    },
    {
     "data": {
      "image/png": "[encoded data removed]",
      "text/plain": [
       "<matplotlib.figure.Figure at 0x11773c4d0>"
      ]
     },
     "metadata": {},
     "output_type": "display_data"
    }
   ],
   "source": [
    "kstestpermutation(bishayee_coulter2_d[1],merged_coulter_data_d[1],10000)"
   ]
  },
  {
   "cell_type": "code",
   "execution_count": 243,
   "metadata": {
    "collapsed": false
   },
   "outputs": [
    {
     "data": {
      "text/plain": [
       "0.0"
      ]
     },
     "execution_count": 243,
     "metadata": {},
     "output_type": "execute_result"
    },
    {
     "data": {
      "image/png": "[encoded data removed]",
      "text/plain": [
       "<matplotlib.figure.Figure at 0x116b9f650>"
      ]
     },
     "metadata": {},
     "output_type": "display_data"
    }
   ],
   "source": [
    "kstestpermutation(bishayee_coulter2_d[0],merged_coulter_data_d[0],10000)"
   ]
  },
  {
   "cell_type": "markdown",
   "metadata": {},
   "source": [
    "## Two sample KS test. \n",
    "\n",
    "We have selected to make a 2S KS in order to avoid using assumptions about the underlying uniform distribution\n",
    "\n",
    "The implementation of the ks-test for two samples in scipy is implemented as follows: \n",
    "\n",
    "```\n",
    "data1 = np.sort(data1)\n",
    "    data2 = np.sort(data2)\n",
    "    n1 = data1.shape[0]\n",
    "    n2 = data2.shape[0]\n",
    "    data_all = np.concatenate([data1, data2])\n",
    "    cdf1 = np.searchsorted(data1, data_all, side='right') / (1.0*n1)\n",
    "    cdf2 = np.searchsorted(data2, data_all, side='right') / (1.0*n2)\n",
    "    d = np.max(np.absolute(cdf1 - cdf2))\n",
    "    # Note: d absolute not signed distance\n",
    "    en = np.sqrt(n1 * n2 / float(n1 + n2))\n",
    "    try:\n",
    "        prob = distributions.kstwobign.sf((en + 0.12 + 0.11 / en) * d)\n",
    "    except:\n",
    "        prob = 1.0\n",
    "\n",
    "    return Ks_2sampResult(d, prob)\n",
    "```\n",
    "\n",
    "If you see, it assummes that the two samples make up the whole distribution space. Hence we need to be careful on how we provide the data to not over-specify the information. "
   ]
  },
  {
   "cell_type": "code",
   "execution_count": 256,
   "metadata": {
    "collapsed": true
   },
   "outputs": [],
   "source": [
    "def ReturnSample2(l,n):\n",
    "    indexes=rnd.sample(range(1,len(l)),n)  \n",
    "    return (np.asarray([l[i] for i in indexes]),np.asarray([l[i] for i in range(1,n) if i not in indexes]))"
   ]
  },
  {
   "cell_type": "code",
   "execution_count": 257,
   "metadata": {
    "collapsed": false
   },
   "outputs": [],
   "source": [
    "def ks2samplepermutation(data_suspected, data_all, trials):\n",
    "    \"\"\"\n",
    "    This function is designed to take a set of the data \"data_benchmark\" and perform a KS statistic permutation test \n",
    "    against a larger sample to determine wether \"data_benchmark\" could have been produced from data with the same\n",
    "    statistical nature as the \"data_test\"\n",
    "    \"\"\"\n",
    "    result_array = np.ones(trials)\n",
    "    for t in range(0,trials):\n",
    "        permutationsample = ReturnSample2(data_all,len(data_suspected))\n",
    "        sample_1 = permutationsample[0]\n",
    "        sample_2 = permutationsample[1]\n",
    "        result = stats.ks_2samp(sample_1, sample_2)\n",
    "        result_array[t] = result[0]\n",
    "    return np.squeeze(result_array)     "
   ]
  },
  {
   "cell_type": "code",
   "execution_count": 258,
   "metadata": {
    "collapsed": false
   },
   "outputs": [],
   "source": [
    "def Test2(susData,otherData,allData,permutations):\n",
    "    #Step 1. Difference from suspected data\n",
    "    orig_Diff=stats.ks_2samp(susData,otherData)\n",
    "    #Step 2. Permute overall population and blabla\n",
    "    real_Diff= ks2samplepermutation(susData,allData, permutations)\n",
    "    #Step 3. Plot the differences.\n",
    "    test1_plot= plt.figure()\n",
    "    plt.hist(real_Diff, bins = 100)\n",
    "    plt.axvline(x=orig_Diff[0], color = 'r')\n",
    "    #Step 4. Be surprised \"obtain p-value\".\n",
    "    aux_array=real_Diff[np.where(real_Diff<orig_Diff[0])]\n",
    "    val_less_than_orig=len(aux_array)\n",
    "    aux=(val_less_than_orig*1.0)/(len(real_Diff)*1.0)\n",
    "    return (1-aux)"
   ]
  },
  {
   "cell_type": "code",
   "execution_count": 261,
   "metadata": {
    "collapsed": false
   },
   "outputs": [
    {
     "name": "stdout",
     "output_type": "stream",
     "text": [
      "1000\n"
     ]
    },
    {
     "data": {
      "text/plain": [
       "0.0"
      ]
     },
     "execution_count": 261,
     "metadata": {},
     "output_type": "execute_result"
    },
    {
     "data": {
      "image/png": "[encoded data removed]",
      "text/plain": [
       "<matplotlib.figure.Figure at 0x110497c90>"
      ]
     },
     "metadata": {},
     "output_type": "display_data"
    }
   ],
   "source": [
    "benchmark_sample = np.concatenate((others_colony2_d[0],outside3_colony2_d[0]));\n",
    "Test2(bishayee_colony2_d[0],benchmark_sample,merged_colony_data_d[0],1000)"
   ]
  },
  {
   "cell_type": "markdown",
   "metadata": {
    "collapsed": true
   },
   "source": [
    "# Final Remarks"
   ]
  },
  {
   "cell_type": "code",
   "execution_count": null,
   "metadata": {
    "collapsed": true
   },
   "outputs": [],
   "source": []
  },
  {
   "cell_type": "code",
   "execution_count": null,
   "metadata": {
    "collapsed": true
   },
   "outputs": [],
   "source": []
  }
 ],
 "metadata": {
  "celltoolbar": "Raw Cell Format",
  "kernelspec": {
   "display_name": "Python 2",
   "language": "python",
   "name": "python2"
  },
  "language_info": {
   "codemirror_mode": {
    "name": "ipython",
    "version": 2
   },
   "file_extension": ".py",
   "mimetype": "text/x-python",
   "name": "python",
   "nbconvert_exporter": "python",
   "pygments_lexer": "ipython2",
   "version": "2.7.10"
  }
 },
 "nbformat": 4,
 "nbformat_minor": 0
}
