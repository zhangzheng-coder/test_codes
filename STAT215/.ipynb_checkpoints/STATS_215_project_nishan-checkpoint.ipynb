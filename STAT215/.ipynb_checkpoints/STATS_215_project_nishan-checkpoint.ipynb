{
 "cells": [
  {
   "cell_type": "code",
   "execution_count": 1,
   "metadata": {
    "collapsed": true
   },
   "outputs": [],
   "source": [
    "%matplotlib inline\n",
    "import pandas as pd\n",
    "import random as rnd\n",
    "from scipy import stats\n",
    "import numpy as np\n",
    "import matplotlib.pyplot as plt\n",
    "from matplotlib.ticker import FuncFormatter, MaxNLocator"
   ]
  },
  {
   "cell_type": "markdown",
   "metadata": {},
   "source": [
    "Step 1) load the datafiles into dataframes to better handling and joining for the KS tests."
   ]
  },
  {
   "cell_type": "code",
   "execution_count": 2,
   "metadata": {
    "collapsed": false
   },
   "outputs": [],
   "source": [
    "#Colony dataframes\n",
    "bishayee_colony = pd.read_excel(\"Bishayee Colony Counts 10.27.97-3.8.01.xlsx\", skiprows=2,na_values=\" \")\n",
    "outside3_colony = pd.read_excel(\"Outside Lab 3.Colony Counts.2.4.10-5.21.12.xlsx\", skiprows=1)\n",
    "others_colony = pd.read_excel(\"Other Investigators in Lab.Colony Counts.4.23.92-11.27.02.xlsx\", skiprows=1)\n",
    "#Coulter dataframes\n",
    "bishayee_coulter = pd.read_excel(\"Bishayee Coulter Counts.10.20.97-7.16.01.xlsx\", skiprows=1)\n",
    "others_coulter = pd.read_excel(\"Other Investigators in Lab.Coulter Counts.4.15.92-5.21.05.xlsx\", skiprows=1)\n",
    "    #This data file had no header, introduced manually\n",
    "outside1_coulter = pd.read_excel(\"Outside Lab 1.Coulter Counts.6.7.91-4.9.99.xlsx\")\n",
    "outside1_coulter.columns = [\"Experiment\", \"C1\", \"C2\", \"C3\",\"Average\",\"Date\"]\n",
    "outside2_coulter = pd.read_excel(\"Outside Lab 2.Coulter Counts.6.6.08-7.7.08.xlsx\", skiprows=1)"
   ]
  },
  {
   "cell_type": "markdown",
   "metadata": {},
   "source": [
    "The following step is to verify the magnitudes of the data in the sets for the coulter and the colony. From the description of the experimental set-up, it seems that the count of the cells using the coulter and the colony count are actually individual experiments with different methods. Hence, they should be analyzed independently"
   ]
  },
  {
   "cell_type": "code",
   "execution_count": 3,
   "metadata": {
    "collapsed": true
   },
   "outputs": [],
   "source": [
    "bishayee_colony[\"Inv\"] = \"Z\"\n",
    "bishayee_colony.drop('ISOTOPE', axis=1, inplace=True)\n",
    "bishayee_colony2 = bishayee_colony.iloc[:,[0,1,6,2,3,4,5]]\n",
    "bishayee_colony2.columns\n",
    "bishayee_colony2.rename(columns={'Bate # B0/B00':'Batch'},inplace = True)\n",
    "bishayee_colony2.drop('Batch', axis=1, inplace=True)\n",
    "others_colony2 = others_colony.rename(columns={'Bates # B00 or B0':'Batch'})\n",
    "others_colony2.drop('Batch', axis=1, inplace=True)\n",
    "outside3_colony[\"Inv\"] = \"O\"\n",
    "outside3_colony2=outside3_colony.iloc[:,[0,5,1,2,3,4]]\n",
    "outside3_colony2.rename(columns={'date':'Date','c1':'col1','c2':'col2','c3':'col3'},inplace = True)\n",
    "df_total = [bishayee_colony2,others_colony2,outside3_colony2]\n",
    "merged_colony_data = pd.concat(df_total)"
   ]
  },
  {
   "cell_type": "markdown",
   "metadata": {},
   "source": [
    "Completeness test of the combined colony data"
   ]
  },
  {
   "cell_type": "code",
   "execution_count": 4,
   "metadata": {
    "collapsed": false
   },
   "outputs": [
    {
     "name": "stdout",
     "output_type": "stream",
     "text": [
      "True\n"
     ]
    }
   ],
   "source": [
    "print merged_colony_data.size == bishayee_colony2.size + others_colony2.size + outside3_colony2.size\n",
    "merged_colony_data.drop(\"Date\",axis =1,inplace=True)\n",
    "colony_orginal_count =  merged_colony_data.index.size"
   ]
  },
  {
   "cell_type": "code",
   "execution_count": 5,
   "metadata": {
    "collapsed": true
   },
   "outputs": [],
   "source": [
    "bishayee_coulter2 = bishayee_coulter.drop('Bates', axis=1)\n",
    "bishayee_coulter2[\"Inv\"] = \"Z\"\n",
    "bishayee_coulter2 = bishayee_coulter2.iloc[:,[0,5,1,2,3,4]]\n",
    "bishayee_coulter2.rename(columns={'Count 1':'col1','Count 2':'col2','Count 3':'col3'},inplace=True)\n",
    "outside1_coulter2 = outside1_coulter.drop('Experiment', axis = 1)\n",
    "outside1_coulter2[\"Inv\"] = \"O1\"\n",
    "outside1_coulter2 = outside1_coulter2.iloc[:,[4,5,0,1,2,3]]\n",
    "outside1_coulter2.rename(columns={'C1':'col1','C2':'col2','C3':'col3'},inplace=True)\n",
    "outside2_coulter2 = outside2_coulter.rename(columns={'Count 1':\"col1\",'Count 2':\"col2\",'Count 3':\"col3\"})\n",
    "outside2_coulter2[\"Inv\"] = \"O2\"\n",
    "outside2_coulter2 = outside2_coulter2.iloc[:,[0,5,1,2,3,4]]\n",
    "others_coulter2 = others_coulter.drop('Bates No.', axis = 1)\n",
    "others_coulter2.rename(columns={'Coul 1':'col1','Coul 2':'col2','Coul 3':'col3','Investigator':'Inv'},\\\n",
    "                       inplace=True)\n",
    "others_coulter2 = others_coulter2.iloc[:,[0,5,1,2,3,4]]\n",
    "df_total_coulter = [bishayee_coulter2,others_coulter2,outside1_coulter2,outside2_coulter2]\n",
    "merged_coulter_data = pd.concat(df_total_coulter)"
   ]
  },
  {
   "cell_type": "markdown",
   "metadata": {},
   "source": [
    "completenes of the coulter data"
   ]
  },
  {
   "cell_type": "code",
   "execution_count": 6,
   "metadata": {
    "collapsed": false
   },
   "outputs": [
    {
     "name": "stdout",
     "output_type": "stream",
     "text": [
      "True\n"
     ]
    }
   ],
   "source": [
    "print merged_coulter_data.size == bishayee_coulter2.size + others_coulter2.size + outside1_coulter2.size \\\n",
    "+ outside2_coulter2.size\n",
    "merged_coulter_data.drop(\"Date\",axis =1,inplace=True)\n",
    "coulter_orginal_count = merged_coulter_data.index.size"
   ]
  },
  {
   "cell_type": "code",
   "execution_count": 7,
   "metadata": {
    "collapsed": false
   },
   "outputs": [],
   "source": [
    "merged_coulter_data = merged_coulter_data.dropna()\n",
    "merged_coulter_data[\"LowerRatio\"] = 0\n",
    "merged_coulter_data[\"UpperRatio\"] = 0\n",
    "merged_coulter_data=merged_coulter_data.dropna()\n",
    "merged_coulter_data.reset_index(drop=True)\n",
    "for i in range(0,len(merged_coulter_data)):\n",
    "    temp_array = np.ones(3)\n",
    "    for k in range(0,3):\n",
    "        temp_array[k] = merged_coulter_data.iloc[i,(1+k)]\n",
    "    temp_array = np.sort(temp_array)\n",
    "    temp_l = (temp_array[1]-temp_array[0])/(temp_array[2]-temp_array[0])\n",
    "    temp_u = (temp_array[2]-temp_array[1])/(temp_array[2]-temp_array[0])\n",
    "    merged_coulter_data.iloc[i,5] = temp_l\n",
    "    merged_coulter_data.iloc[i,6] = temp_u\n",
    "    if (merged_coulter_data.iloc[i,5]) == 0 and (merged_coulter_data.iloc[i,6]) != 1:\n",
    "        print \"data issues\""
   ]
  },
  {
   "cell_type": "code",
   "execution_count": 8,
   "metadata": {
    "collapsed": false
   },
   "outputs": [],
   "source": [
    "merged_colony_data[\"LowerRatio\"] = 0\n",
    "merged_colony_data[\"UpperRatio\"] = 0\n",
    "merged_colony_data.replace(r'\\s*',np.nan, regex=True )\n",
    "merged_colony_data=merged_colony_data.dropna()\n",
    "merged_colony_data.reset_index(drop=True)\n",
    "messup_rows=[]\n",
    "for i in range(0,len(merged_colony_data)):\n",
    "    temp_array = np.ones(3)\n",
    "    for k in range(0,3):\n",
    "        if type(merged_colony_data.iloc[i,(1+k)]) == str or type(merged_colony_data.iloc[i,(1+k)]) == unicode:\n",
    "            messup_rows.append(i)\n",
    "            continue\n",
    "        else:\n",
    "            temp_array[k] = merged_colony_data.iloc[i,(1+k)]\n",
    "    temp_array = np.sort(temp_array)\n",
    "    temp_l = (temp_array[1]-temp_array[0])/(temp_array[2]-temp_array[0])\n",
    "    temp_u = (temp_array[2]-temp_array[1])/(temp_array[2]-temp_array[0])\n",
    "    merged_colony_data.iloc[i,5] = temp_l\n",
    "    merged_colony_data.iloc[i,6] = temp_u\n",
    "merged_colony_data=merged_colony_data.drop(messup_rows)\n",
    "for i in range(0,len(merged_colony_data)):\n",
    "    if (merged_colony_data.iloc[i,5]) == 0 and (merged_colony_data.iloc[i,6]) != 1:\n",
    "        print \"data issues\""
   ]
  },
  {
   "cell_type": "code",
   "execution_count": 9,
   "metadata": {
    "collapsed": false
   },
   "outputs": [],
   "source": [
    "colony_ur = merged_colony_data.as_matrix(['UpperRatio'])\n",
    "colony_ur=np.squeeze(colony_ur)\n",
    "colony_ur = colony_ur[~np.isnan(colony_ur)]\n",
    "colony_lr = merged_colony_data.as_matrix(['LowerRatio'])\n",
    "colony_lr=np.squeeze(colony_ur)\n",
    "colony_lr = colony_lr[~np.isnan(colony_lr)]\n",
    "coulter_ur = merged_coulter_data.as_matrix(['UpperRatio'])\n",
    "coulter_ur=np.squeeze(coulter_ur)\n",
    "coulter_lr = merged_coulter_data.as_matrix(['LowerRatio'])\n",
    "coulter_lr=np.squeeze(coulter_lr)"
   ]
  },
  {
   "cell_type": "markdown",
   "metadata": {},
   "source": [
    "I need to extract the same arrays but only for the suspected individual. The way i'm doing below is not efficient but works. First i create dataframes only for the suspected person for the colony and coulter (called mer_col_data_sus and mer_coul_data_sus resp.). Then we create the same arrays as above for the suspected person (which have _sus appended at the end). "
   ]
  },
  {
   "cell_type": "code",
   "execution_count": 10,
   "metadata": {
    "collapsed": false
   },
   "outputs": [],
   "source": [
    "mer_col_data_sus=merged_colony_data[merged_colony_data['Inv'].isin(['Z'])]\n",
    "mer_coul_data_sus=merged_coulter_data[merged_coulter_data['Inv'].isin(['Z'])]\n",
    "colony_ur_sus = mer_col_data_sus.as_matrix(['UpperRatio'])\n",
    "colony_ur_sus=np.squeeze(colony_ur_sus)\n",
    "colony_ur_sus = colony_ur_sus[~np.isnan(colony_ur_sus)]\n",
    "colony_lr_sus = mer_col_data_sus.as_matrix(['LowerRatio'])\n",
    "colony_lr_sus=np.squeeze(colony_ur_sus)\n",
    "colony_lr_sus = colony_lr_sus[~np.isnan(colony_lr_sus)]\n",
    "coulter_ur_sus = mer_coul_data_sus.as_matrix(['UpperRatio'])\n",
    "coulter_ur_sus=np.squeeze(coulter_ur_sus)\n",
    "coulter_lr_sus = mer_coul_data_sus.as_matrix(['LowerRatio'])\n",
    "coulter_lr_sus=np.squeeze(coulter_lr_sus)"
   ]
  },
  {
   "cell_type": "code",
   "execution_count": 11,
   "metadata": {
    "collapsed": false
   },
   "outputs": [],
   "source": [
    "#Print empirical CDF plot from a data vector x. \n",
    "def cdf_plot(x):\n",
    "    x_data = np.sort(x)\n",
    "    y_data = 1. * np.arange(len(x_data))/(len(x_data)-1)\n",
    "    plt.plot(x_data, y_data)"
   ]
  },
  {
   "cell_type": "code",
   "execution_count": 12,
   "metadata": {
    "collapsed": false
   },
   "outputs": [
    {
     "name": "stdout",
     "output_type": "stream",
     "text": [
      "(2873L,)\n"
     ]
    },
    {
     "data": {
      "image/png": "[encoded data removed]",
      "text/plain": [
       "<matplotlib.figure.Figure at 0xa114be0>"
      ]
     },
     "metadata": {},
     "output_type": "display_data"
    }
   ],
   "source": [
    "print coulter_ur.shape \n",
    "sample_uniform = np.random.uniform(0,1,1000)\n",
    "cdf_plot(coulter_ur)\n",
    "cdf_plot(coulter_lr)\n",
    "cdf_plot(sample_uniform)"
   ]
  },
  {
   "cell_type": "code",
   "execution_count": 13,
   "metadata": {
    "collapsed": false
   },
   "outputs": [
    {
     "name": "stdout",
     "output_type": "stream",
     "text": [
      "(2007L,)\n"
     ]
    },
    {
     "data": {
      "image/png": "[encoded data removed]",
      "text/plain": [
       "<matplotlib.figure.Figure at 0xa3bf358>"
      ]
     },
     "metadata": {},
     "output_type": "display_data"
    }
   ],
   "source": [
    "print colony_ur.shape\n",
    "sample_uniform = np.random.uniform(0,1,1000)\n",
    "cdf_plot(colony_ur)\n",
    "cdf_plot(colony_lr)\n",
    "cdf_plot(sample_uniform)"
   ]
  },
  {
   "cell_type": "code",
   "execution_count": 14,
   "metadata": {
    "collapsed": false
   },
   "outputs": [],
   "source": [
    "def ReturnSample(l,n):\n",
    "    indexes=rnd.sample(range(1,len(l)),n)  \n",
    "    return np.asarray([l[i] for i in indexes])"
   ]
  },
  {
   "cell_type": "code",
   "execution_count": 15,
   "metadata": {
    "collapsed": false
   },
   "outputs": [],
   "source": [
    "def uniformkspermutation(data,permutations,sample_size=100):\n",
    "    \"\"\"\n",
    "    This function is designed to take a set of data and perform a KS statistic permutation test \n",
    "    against an uniform distribution sample of size 10000. The output is an array of sixe trials of KS statistics. \n",
    "    \n",
    "    inputs: data is the total population of data\n",
    "    permutations: is the number of permutations \n",
    "    sample_size: is the sample size of the data draw for each permutation\n",
    "    \"\"\"    \n",
    "    result_array = np.ones(permutations,)\n",
    "    for t in range(0,permutations):\n",
    "        permutationsample = ReturnSample(data,sample_size)\n",
    "        test_result =stats.kstest(permutationsample, 'uniform', N=1000)\n",
    "        result_array[t] = test_result[0]\n",
    "    return np.squeeze(result_array)"
   ]
  },
  {
   "cell_type": "code",
   "execution_count": null,
   "metadata": {
    "collapsed": true
   },
   "outputs": [],
   "source": []
  },
  {
   "cell_type": "code",
   "execution_count": null,
   "metadata": {
    "collapsed": true
   },
   "outputs": [],
   "source": []
  },
  {
   "cell_type": "markdown",
   "metadata": {},
   "source": [
    "# Test 1:\n",
    "\n",
    "In this test we attempt to analyse whether the difference in the distribution of the ratio from the susupected person to the uniform distribution is \"surprising\". To do this we first calculate the difference between the suspected persons ratio distribution and the uniform distribution's cumulative density function using the Kolmogorov Smirnoff test. \n",
    "Then we lump together all the data of the suspected person, other people in his lab and the outside scientists. From this larger population we draw a sample of the same size as that of the suspected person's data. We then calcualte the difference between the randomly drawn sample and the unform distribution via the KS test. \n",
    "The result of the KS test for each permutation is stored in an array. The frequency distribution of the KS statistic is then plotted and we then find the probability that the difference that we observed could have been observed by chance.\n",
    "THe reason we perform this test is because deviation from the uniform distribution is used as a justification for finding the person suspicious.\n",
    "\n"
   ]
  },
  {
   "cell_type": "code",
   "execution_count": 54,
   "metadata": {
    "collapsed": false
   },
   "outputs": [],
   "source": []
  },
  {
   "cell_type": "markdown",
   "metadata": {},
   "source": [
    "Let's test Test1 with all the data."
   ]
  },
  {
   "cell_type": "code",
   "execution_count": 38,
   "metadata": {
    "collapsed": false
   },
   "outputs": [],
   "source": [
    "orig_Diff_test = stats.kstest(colony_lr_sus, 'uniform', N=1000)"
   ]
  },
  {
   "cell_type": "code",
   "execution_count": 53,
   "metadata": {
    "collapsed": false
   },
   "outputs": [],
   "source": [
    "plt.hist?"
   ]
  },
  {
   "cell_type": "code",
   "execution_count": 55,
   "metadata": {
    "collapsed": false
   },
   "outputs": [
    {
     "name": "stdout",
     "output_type": "stream",
     "text": [
      "10000\n",
      "The p-value of colony-lr is 0 \n",
      "10000\n",
      "The p-value of colony-ur is 0 \n",
      "10000\n",
      "The p-value of coulter-lr is 0 \n",
      "10000\n",
      "The p-value of coulter-ur is 0 \n"
     ]
    },
    {
     "data": {
      "image/png": "[encoded data removed]",
      "text/plain": [
       "<matplotlib.figure.Figure at 0x9f215c0>"
      ]
     },
     "metadata": {},
     "output_type": "display_data"
    },
    {
     "data": {
      "image/png": "[encoded data removed]",
      "text/plain": [
       "<matplotlib.figure.Figure at 0xc98f2b0>"
      ]
     },
     "metadata": {},
     "output_type": "display_data"
    },
    {
     "data": {
      "image/png": "[encoded data removed]",
      "text/plain": [
       "<matplotlib.figure.Figure at 0xc98f630>"
      ]
     },
     "metadata": {},
     "output_type": "display_data"
    },
    {
     "data": {
      "image/png": "[encoded data removed]",
      "text/plain": [
       "<matplotlib.figure.Figure at 0xc9e9e48>"
      ]
     },
     "metadata": {},
     "output_type": "display_data"
    }
   ],
   "source": [
    "permutations=10000\n",
    "p_val_col_lr=Test1(colony_lr_sus,colony_lr,permutations)\n",
    "print \"The p-value of colony-lr is %d \" % p_val_col_lr \n",
    "p_val_col_ur=Test1(colony_ur_sus,colony_ur,permutations)\n",
    "print \"The p-value of colony-ur is %d \" % p_val_col_ur\n",
    "p_val_coul_lr=Test1(coulter_lr_sus,coulter_lr,permutations)\n",
    "print \"The p-value of coulter-lr is %d \" % p_val_coul_lr\n",
    "p_val_coul_ur=Test1(coulter_ur_sus,coulter_ur,permutations)\n",
    "print \"The p-value of coulter-ur is %d \" % p_val_coul_ur\n",
    "\n",
    "\n"
   ]
  },
  {
   "cell_type": "code",
   "execution_count": 18,
   "metadata": {
    "collapsed": false
   },
   "outputs": [],
   "source": [
    "#result = uniformkspermutation(coulter_ur,1000, 200)\n",
    "#plt.hist(result)"
   ]
  },
  {
   "cell_type": "markdown",
   "metadata": {},
   "source": [
    "The implementation of the ks-test for two samples in scipy is implemented as follows: \n",
    "\n",
    "```\n",
    "data1 = np.sort(data1)\n",
    "    data2 = np.sort(data2)\n",
    "    n1 = data1.shape[0]\n",
    "    n2 = data2.shape[0]\n",
    "    data_all = np.concatenate([data1, data2])\n",
    "    cdf1 = np.searchsorted(data1, data_all, side='right') / (1.0*n1)\n",
    "    cdf2 = np.searchsorted(data2, data_all, side='right') / (1.0*n2)\n",
    "    d = np.max(np.absolute(cdf1 - cdf2))\n",
    "    # Note: d absolute not signed distance\n",
    "    en = np.sqrt(n1 * n2 / float(n1 + n2))\n",
    "    try:\n",
    "        prob = distributions.kstwobign.sf((en + 0.12 + 0.11 / en) * d)\n",
    "    except:\n",
    "        prob = 1.0\n",
    "\n",
    "    return Ks_2sampResult(d, prob)\n",
    "```\n",
    "\n",
    "If you see, it assummes that the two samples make up the whole distribution space. Hence we need to be careful on how we provide the data to not over-specify the information. "
   ]
  },
  {
   "cell_type": "code",
   "execution_count": 19,
   "metadata": {
    "collapsed": false
   },
   "outputs": [
    {
     "name": "stdout",
     "output_type": "stream",
     "text": [
      "Ks_2sampResult(statistic=0.064999999999999947, pvalue=0.82474328303774391)\n"
     ]
    }
   ],
   "source": [
    "sample_test1 = ReturnSample(colony_ur,100)\n",
    "sample_test2 = ReturnSample(colony_ur,1000)\n",
    "result = stats.ks_2samp(sample_test1, sample_test2)\n",
    "print result"
   ]
  },
  {
   "cell_type": "code",
   "execution_count": 20,
   "metadata": {
    "collapsed": false
   },
   "outputs": [],
   "source": [
    "def ks2samplepermutation(data_benchmark, data_test, trials, sample_size=100):\n",
    "    \"\"\"\n",
    "    This function is designed to take a set of the data \"data_benchmark\" and perform a KS statistic permutation test \n",
    "    against a larger sample to determine wether \"data_benchmark\" could have been produced from data with the same\n",
    "    statistical nature as the \"data_test\"\n",
    "    \"\"\"\n",
    "    if (len(data_benchmark)-len(data_test))/len(data_benchmark) < 0.5:\n",
    "        print 'The benchmarking data represents more than half of the total sample size, the test might be meaningless'\n",
    "    result_array = np.ones(trials)\n",
    "    for t in range(0,trials):\n",
    "        result = stats.ks_2samp(data_benchmark, data_test)\n",
    "        result_array[t] = result[0]\n",
    "    return np.squeeze(result_array)    "
   ]
  },
  {
   "cell_type": "code",
   "execution_count": 21,
   "metadata": {
    "collapsed": false
   },
   "outputs": [
    {
     "name": "stdout",
     "output_type": "stream",
     "text": [
      "The benchmarking data represents more than half of the total sample size, the test might be meaningless\n"
     ]
    }
   ],
   "source": [
    "sample_test1 = ReturnSample(colony_ur,200)\n",
    "sample_test2 = ReturnSample(colony_ur,2000)\n",
    "result = ks2samplepermutation(sample_test1, sample_test2, 1000)"
   ]
  },
  {
   "cell_type": "code",
   "execution_count": 22,
   "metadata": {
    "collapsed": false
   },
   "outputs": [
    {
     "data": {
      "text/plain": [
       "(array([    0.,     0.,     0.,     0.,     0.,  1000.,     0.,     0.,\n",
       "            0.,     0.]),\n",
       " array([-0.4155, -0.3155, -0.2155, -0.1155, -0.0155,  0.0845,  0.1845,\n",
       "         0.2845,  0.3845,  0.4845,  0.5845]),\n",
       " <a list of 10 Patch objects>)"
      ]
     },
     "execution_count": 22,
     "metadata": {},
     "output_type": "execute_result"
    },
    {
     "data": {
      "image/png": "[encoded data removed]",
      "text/plain": [
       "<matplotlib.figure.Figure at 0xa4c2278>"
      ]
     },
     "metadata": {},
     "output_type": "display_data"
    }
   ],
   "source": [
    "plt.hist(result)"
   ]
  },
  {
   "cell_type": "code",
   "execution_count": null,
   "metadata": {
    "collapsed": true
   },
   "outputs": [],
   "source": []
  }
 ],
 "metadata": {
  "kernelspec": {
   "display_name": "Python 2",
   "language": "python",
   "name": "python2"
  },
  "language_info": {
   "codemirror_mode": {
    "name": "ipython",
    "version": 2
   },
   "file_extension": ".py",
   "mimetype": "text/x-python",
   "name": "python",
   "nbconvert_exporter": "python",
   "pygments_lexer": "ipython2",
   "version": "2.7.10"
  }
 },
 "nbformat": 4,
 "nbformat_minor": 0
}
