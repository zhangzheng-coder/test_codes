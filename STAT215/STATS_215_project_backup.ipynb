{
 "cells": [
  {
   "cell_type": "raw",
   "metadata": {},
   "source": [
    "<script>\n",
    "  jQuery(document).ready(function($) {  \n",
    "  \n",
    "  $(window).load(function(){\n",
    "    $('#preloader').fadeOut('slow',function(){$(this).remove();});\n",
    "  });\n",
    "  \n",
    "  });\n",
    "</script>\n",
    "\n",
    "<style type=\"text/css\">\n",
    "  div#preloader { position: fixed; \n",
    "      left: 0; \n",
    "      top: 0; \n",
    "      z-index: 999; \n",
    "      width: 100%; \n",
    "      height: 100%; \n",
    "      overflow: visible; \n",
    "      background: #fff url('http://preloaders.net/preloaders/720/Moving%20line.gif') no-repeat center center; \n",
    "  }\n",
    "\n",
    "</style>\n",
    "\n",
    "<div id=\"preloader\">\n",
    "\n",
    "</div>"
   ]
  },
  {
   "cell_type": "raw",
   "metadata": {},
   "source": [
    "<script>\n",
    "  function code_toggle() {\n",
    "    if (code_shown){\n",
    "      $('div.input').hide('500');\n",
    "      $('#toggleButton').val('Show Code')\n",
    "    } else {\n",
    "      $('div.input').show('500');\n",
    "      $('#toggleButton').val('Hide Code')\n",
    "    }\n",
    "    code_shown = !code_shown\n",
    "  } \n",
    "  \n",
    "  $( document ).ready(function(){\n",
    "    code_shown=false; \n",
    "    $('div.input').hide()\n",
    "  });\n",
    "</script>\n",
    "<form action=\"javascript:code_toggle()\"><input type=\"submit\" id=\"toggleButton\" value=\"Show Code\"></form>"
   ]
  },
  {
   "cell_type": "code",
<<<<<<< HEAD
   "execution_count": 3,
=======
   "execution_count": 50,
>>>>>>> d2ca75f84f0fbe0f6282d8b387a4c263ffd3da6d
   "metadata": {
    "collapsed": true
   },
   "outputs": [],
   "source": [
    "%matplotlib inline\n",
    "from __future__ import division\n",
    "import pandas as pd\n",
    "import random as rnd\n",
    "from scipy import stats\n",
    "import numpy as np\n",
    "import matplotlib.pyplot as plt\n",
    "from matplotlib.ticker import FuncFormatter, MaxNLocator\n",
    "#Use the same random seed to make results replicable\n",
    "rnd.seed(1235822231)"
   ]
  },
  {
   "cell_type": "markdown",
   "metadata": {},
   "source": [
    "# About the paper \n",
    "\n",
    "The [paper](https://www.scienceopen.com/document/review?3&id=7a235c56-a1da-498f-98ef-6fa16c8fd2f0&review=9870bf08-c06e-403a-85ba-774e27cdb520) presents an analysis of data from radiobiological experiments carried out in a laboratory. Out of the data, there is the suspicion that some of the results may be biased or fabricated. The authors used long term data produced in the same laboratory along with data from other sources that use the same techniques as benchmark data and make comparisons with the suspected data. \n",
    "\n",
    "The techniques used looked into two possible sources of suspicion, first the ratio of the distances between triplicate samples assuming that a way to fabricate the data is to pre-select and average and then fixing the other to samples to achieve that average. The authors checked how likely it is that the averages are present in the triplicate samples using a Poisson - binomial distribution test. Furthermore, they draw some statistical analysis of the likelihood that the mid ratios are close or exactly 0.5; however, we believe that a more thorough analysis of this observation is required. \n",
    "\n",
    "Finally, the authors analyze the rightmost digit in search for possible fabrication making the same analysis as in other papers. About the $\\chi^2$.... Even though this is an interesting metric, we don't find it justifiable to think that according to the methodologies used for counting this would an issue since all the triplicate data is an integer. \n",
    "\n",
    "The main critique of the paper, also acknowledged by the authors, is that the sample size of the suspected data is significantly larger than the benchmark data; hence, the total population data is dominated by the suspected data. Moreover, the data provided was already categorized between the suspicious and the benchmark, thus biasing the direction of the test towards \"proving a set of data might be biased\" instead of a more transparent analysis of finding suspicious data in a pool. In other words, it presupposes that the data from the RTS already doesn't follow the same patterns as the benchmark data. From this point of view, it would have been better to provide the information and have executed the test without a hypothesis about the suspected data.  \n",
    "\n",
    "Nevertheless, we believe the authors made an interesting contribution by providing the scientific community with methods to potentially test for data fabrication in radiobiological data. As a review good practice, we carried out some analysis of the provided data to check for possible unintended errors in the data processing. Also, calcultion of the ratios in 2 ways... \n",
    "\n",
    "In the following sections of the review, we analyze the data quality and wether the samples sizes are actually as reported, corroborated the assumption that the ratios of the benchmark data indeed may follow a uniform distribution and included an alternative anaysis of the suspected data using [Kolmogorov-Smirnov test](https://en.wikipedia.org/wiki/Kolmogorov–Smirnov_test) comparing against an uniform distribution. \n",
    "\n",
    "Moreover, as an alternative measure, we made a 2-Sample [Kolmogorov-Smirnov test](https://en.wikipedia.org/wiki/Kolmogorov–Smirnov_test) to test whether the suspected data and the benchmark data could have come from the same CDF without making any assumptions about the underlying CDF. "
   ]
  },
  {
   "cell_type": "markdown",
   "metadata": {},
   "source": [
    "# Data Loading and count check.\n",
    "This portion of the code is intended to load the datafiles into dataframes to better handling and join. Also, will present the verification of the results from Table 2 presented in the [paper](https://www.scienceopen.com/document/review?3&id=7a235c56-a1da-498f-98ef-6fa16c8fd2f0&review=9870bf08-c06e-403a-85ba-774e27cdb520). \n",
    "\n",
    "In the following lines of code we have dropped the columns not relevant for the analysis, the final outcome are dataframes for each data sample and a merged dataframe with all the samples. "
   ]
  },
  {
   "cell_type": "code",
<<<<<<< HEAD
   "execution_count": 4,
=======
   "execution_count": 10,
>>>>>>> d2ca75f84f0fbe0f6282d8b387a4c263ffd3da6d
   "metadata": {
    "collapsed": false
   },
   "outputs": [],
   "source": [
    "#Colony dataframes\n",
    "bishayee_colony = pd.read_excel(\"Bishayee Colony Counts 10.27.97-3.8.01.xlsx\", skiprows=2,na_values=\" \")\n",
    "outside3_colony = pd.read_excel(\"Outside Lab 3.Colony Counts.2.4.10-5.21.12.xlsx\", skiprows=1)\n",
    "others_colony = pd.read_excel(\"Other Investigators in Lab.Colony Counts.4.23.92-11.27.02.xlsx\", skiprows=1)\n",
    "    #Clean up of the colony data\n",
    "bishayee_colony[\"Inv\"] = \"Z\"\n",
    "bishayee_colony.drop('ISOTOPE', axis=1, inplace=True)\n",
    "bishayee_colony2 = bishayee_colony.iloc[:,[0,1,6,2,3,4,5]]\n",
    "bishayee_colony2.columns\n",
    "bishayee_colony2.rename(columns={'Bate # B0/B00':'Batch'},inplace = True)\n",
    "bishayee_colony2.drop('Batch', axis=1, inplace=True)\n",
    "bishayee_colony2.drop(\"Date\",axis =1,inplace=True)\n",
    "others_colony2 = others_colony.rename(columns={'Bates # B00 or B0':'Batch'})\n",
    "others_colony2.drop('Batch', axis=1, inplace=True)\n",
    "others_colony2.drop(\"Date\",axis =1,inplace=True)\n",
    "outside3_colony[\"Inv\"] = \"O\"\n",
    "outside3_colony2=outside3_colony.iloc[:,[0,5,1,2,3,4]]\n",
    "outside3_colony2.rename(columns={'date':'Date','c1':'col1','c2':'col2','c3':'col3'},inplace = True)\n",
    "outside3_colony2.drop(\"Date\",axis =1,inplace=True)\n",
    "df_total = [bishayee_colony2,others_colony2,outside3_colony2]\n",
    "merged_colony_data = pd.concat(df_total)    \n",
    "#Coulter dataframes\n",
    "bishayee_coulter = pd.read_excel(\"Bishayee Coulter Counts.10.20.97-7.16.01.xlsx\", skiprows=1)\n",
    "others_coulter = pd.read_excel(\"Other Investigators in Lab.Coulter Counts.4.15.92-5.21.05.xlsx\", skiprows=1)\n",
    "    #This data file had no header, introduced manually\n",
    "outside1_coulter = pd.read_excel(\"Outside Lab 1.Coulter Counts.6.7.91-4.9.99.xlsx\")\n",
    "outside1_coulter.columns = [\"Experiment\", \"C1\", \"C2\", \"C3\",\"Average\",\"Date\"]\n",
    "outside2_coulter = pd.read_excel(\"Outside Lab 2.Coulter Counts.6.6.08-7.7.08.xlsx\", skiprows=1)\n",
    "    #Clean up of the coulter data \n",
    "bishayee_coulter2 = bishayee_coulter.drop('Bates', axis=1)\n",
    "bishayee_coulter2[\"Inv\"] = \"Z\"\n",
    "bishayee_coulter2 = bishayee_coulter2.iloc[:,[0,5,1,2,3,4]]\n",
    "bishayee_coulter2.rename(columns={'Count 1':'col1','Count 2':'col2','Count 3':'col3'},inplace=True)\n",
    "bishayee_coulter2.drop(\"Date\",axis =1,inplace=True)\n",
    "outside1_coulter2 = outside1_coulter.drop('Experiment', axis = 1)\n",
    "outside1_coulter2[\"Inv\"] = \"O1\"\n",
    "outside1_coulter2 = outside1_coulter2.iloc[:,[4,5,0,1,2,3]]\n",
    "outside1_coulter2.rename(columns={'C1':'col1','C2':'col2','C3':'col3'},inplace=True)\n",
    "outside1_coulter2.drop(\"Date\",axis =1,inplace=True)\n",
    "outside2_coulter2 = outside2_coulter.rename(columns={'Count 1':\"col1\",'Count 2':\"col2\",'Count 3':\"col3\"})\n",
    "outside2_coulter2[\"Inv\"] = \"O2\"\n",
    "outside2_coulter2 = outside2_coulter2.iloc[:,[0,5,1,2,3,4]]\n",
    "outside2_coulter2.drop(\"Date\",axis =1,inplace=True)\n",
    "others_coulter2 = others_coulter.drop('Bates No.', axis = 1)\n",
    "others_coulter2.rename(columns={'Coul 1':'col1','Coul 2':'col2','Coul 3':'col3','Investigator':'Inv'},\\\n",
    "                       inplace=True)\n",
    "others_coulter2 = others_coulter2.iloc[:,[0,5,1,2,3,4]]\n",
    "others_coulter2.drop(\"Date\",axis =1,inplace=True)\n",
    "df_total_coulter = [bishayee_coulter2,others_coulter2,outside1_coulter2,outside2_coulter2]\n",
    "merged_coulter_data = pd.concat(df_total_coulter)"
   ]
  },
  {
   "cell_type": "markdown",
   "metadata": {},
   "source": [
    "The following step is to verify the magnitudes of the data in the sets for the coulter and the colony. From the description of the experimental set-up, it seems that the count of the cells using the coulter and the colony count are actually individual experiments with different methods."
   ]
  },
  {
   "cell_type": "markdown",
   "metadata": {},
   "source": [
    "Completeness test of the combined colony data"
   ]
  },
  {
   "cell_type": "code",
<<<<<<< HEAD
   "execution_count": 5,
=======
   "execution_count": 11,
>>>>>>> d2ca75f84f0fbe0f6282d8b387a4c263ffd3da6d
   "metadata": {
    "collapsed": false
   },
   "outputs": [
    {
     "name": "stdout",
     "output_type": "stream",
     "text": [
      "Total number of colony data triplets  2033\n",
      "Total number of suspected colony data triplets  1362\n",
      "Total number of others colony data triplets  621\n",
      "Total number of outside lab 3 colony data triplets  50\n"
     ]
    }
   ],
   "source": [
    "print 'Total number of colony data triplets  ' + str(merged_colony_data.index.size)\n",
    "print 'Total number of suspected colony data triplets  ' + str(bishayee_colony2.index.size)\n",
    "print 'Total number of others colony data triplets  ' + str(others_colony2.index.size)\n",
    "print 'Total number of outside lab 3 colony data triplets  ' + str(outside3_colony2.index.size)"
   ]
  },
  {
   "cell_type": "markdown",
   "metadata": {},
   "source": [
    "The raw total number of samples doesn't coincide with the numbers in the [paper](https://www.scienceopen.com/document/review?3&id=7a235c56-a1da-498f-98ef-6fa16c8fd2f0&review=9870bf08-c06e-403a-85ba-774e27cdb520). Furthermore, the labeling of the outside labs is not consistent. It looks like the authors labeled the outside colony counts at lab1 when indeed is lab3. \n",
    "\n",
    "The following step is to eliminate incomplete triples and drop the na rows and check again against the authors' table. The designation (AD) is used to differentiate the data after drop."
   ]
  },
  {
   "cell_type": "code",
<<<<<<< HEAD
   "execution_count": 6,
=======
   "execution_count": 12,
>>>>>>> d2ca75f84f0fbe0f6282d8b387a4c263ffd3da6d
   "metadata": {
    "collapsed": false
   },
   "outputs": [
    {
     "name": "stdout",
     "output_type": "stream",
     "text": [
      "Total number of colony data triplets (AD) 2008\n",
      "Total number of suspected colony data triplets (AD) 1361\n",
      "Total number of others colony data triplets (AD) 597\n",
      "Total number of outside lab 3 colony data triplets (AD) 50\n"
     ]
    }
   ],
   "source": [
    "merged_colony_data.replace(r'\\s*',np.nan, regex=True)\n",
    "merged_colony_data=merged_colony_data.dropna()\n",
    "merged_colony_data.reset_index(drop=True)\n",
    "print 'Total number of colony data triplets (AD) ' + str(merged_colony_data.index.size) \n",
    "bishayee_colony2.replace(r'\\s*',np.nan, regex=True)\n",
    "bishayee_colony2 = bishayee_colony2.dropna()\n",
    "bishayee_colony2.reset_index(drop=True)\n",
    "print 'Total number of suspected colony data triplets (AD) ' + str(bishayee_colony2.index.size)\n",
    "others_colony2.replace(r'\\s*',np.nan, regex=True)\n",
    "others_colony2 = others_colony2.dropna()\n",
    "others_colony2.reset_index(drop=True)\n",
    "print 'Total number of others colony data triplets (AD) ' + str(others_colony2.index.size)\n",
    "outside3_colony2.replace(r'\\s*',np.nan, regex=True)\n",
    "outside3_colony2 = outside3_colony2.dropna()\n",
    "outside3_colony2.reset_index(drop=True)\n",
    "print 'Total number of outside lab 3 colony data triplets (AD) ' + str(outside3_colony2.index.size)"
   ]
  },
  {
   "cell_type": "markdown",
   "metadata": {},
   "source": [
    "The same data clean up and count of the the triplets is performed with the coulter data"
   ]
  },
  {
   "cell_type": "code",
<<<<<<< HEAD
   "execution_count": 7,
=======
   "execution_count": 13,
>>>>>>> d2ca75f84f0fbe0f6282d8b387a4c263ffd3da6d
   "metadata": {
    "collapsed": false
   },
   "outputs": [
    {
     "name": "stdout",
     "output_type": "stream",
     "text": [
      "Total number of coulter data triplets  2965\n",
      "Total number of suspected coulter data triplets  1729\n",
      "Total number of others coulter data triplets  1007\n",
      "Total number of outside lab1 data triplets  109\n",
      "Total number of outside lab2 data triplets  120\n"
     ]
    }
   ],
   "source": [
    "print 'Total number of coulter data triplets  ' + str(merged_coulter_data.index.size)\n",
    "print 'Total number of suspected coulter data triplets  ' + str(bishayee_coulter2.index.size)\n",
    "print 'Total number of others coulter data triplets  ' + str(others_coulter2.index.size)\n",
    "print 'Total number of outside lab1 data triplets  ' + str(outside1_coulter2.index.size)\n",
    "print 'Total number of outside lab2 data triplets  ' + str(outside2_coulter2.index.size)"
   ]
  },
  {
   "cell_type": "code",
<<<<<<< HEAD
   "execution_count": 8,
=======
   "execution_count": 14,
>>>>>>> d2ca75f84f0fbe0f6282d8b387a4c263ffd3da6d
   "metadata": {
    "collapsed": false
   },
   "outputs": [
    {
     "name": "stdout",
     "output_type": "stream",
     "text": [
      "Total number of coulter data triplets (AD) 2873\n",
      "Total number of suspected coulter data triplets (AD) 1727\n",
      "Total number of others coulter data triplets (AD) 929\n",
      "Total number of outside lab1 data triplets (AD) 97\n",
      "Total number of outside lab2 data triplets (AD) 120\n"
     ]
    }
   ],
   "source": [
    "merged_coulter_data.replace(r'\\s*',np.nan, regex=True)\n",
    "merged_coulter_data = merged_coulter_data.dropna()\n",
    "merged_coulter_data.reset_index(drop=True)\n",
    "print 'Total number of coulter data triplets (AD) ' + str(merged_coulter_data.index.size)\n",
    "bishayee_coulter2.replace(r'\\s*',np.nan, regex=True)\n",
    "bishayee_coulter2 = bishayee_coulter2.dropna()\n",
    "bishayee_coulter2.reset_index(drop=True)\n",
    "print 'Total number of suspected coulter data triplets (AD) ' + str(bishayee_coulter2.index.size)\n",
    "others_coulter2.replace(r'\\s*',np.nan, regex=True)\n",
    "others_coulter2 = others_coulter2.dropna()\n",
    "others_coulter2.reset_index(drop=True)\n",
    "print 'Total number of others coulter data triplets (AD) ' + str(others_coulter2.index.size)\n",
    "outside1_coulter2.replace(r'\\s*',np.nan, regex=True)\n",
    "outside1_coulter2 = outside1_coulter2.dropna()\n",
    "outside1_coulter2.reset_index(drop=True)\n",
    "print 'Total number of outside lab1 data triplets (AD) ' + str(outside1_coulter2.index.size)\n",
    "outside2_coulter2.replace(r'\\s*',np.nan, regex=True)\n",
    "outside2_coulter2 = outside2_coulter2.dropna()\n",
    "outside2_coulter2.reset_index(drop=True)\n",
    "print 'Total number of outside lab2 data triplets (AD) ' + str(outside2_coulter2.index.size)"
   ]
  },
  {
   "cell_type": "markdown",
   "metadata": {},
   "source": [
    "The analysis of the complete triples yields a discrepancy when compared to Table 2. The results of the count are consistent for \"total\" in the fourth column. The RTS (suspected) colony counts, and the outside lab3 (labeled in the [paper](https://www.scienceopen.com/document/review?3&id=7a235c56-a1da-498f-98ef-6fa16c8fd2f0&review=9870bf08-c06e-403a-85ba-774e27cdb520) as lab1) are equal. The only discrepancy is the count for the other's colony count; however, the discrepancy is very small i.e., 8 triplets. \n",
    "\n",
    "In the case of the coulter counts there is no discrepancy with respect to the No. complete, the others, lab2 and lab1 (labeled in the [paper](https://www.scienceopen.com/document/review?3&id=7a235c56-a1da-498f-98ef-6fa16c8fd2f0&review=9870bf08-c06e-403a-85ba-774e27cdb520) as lab3) are consistent with Table 2. The discrepancy appears in the RTS (suspected) sample, but again it is a comparatively small differnece i.e., 11. \n",
    "\n",
    "It is worth nothing that the authors dropped triplets with gap $\\ge$ 2, this is not completely explained in the [paper](https://www.scienceopen.com/document/review?3&id=7a235c56-a1da-498f-98ef-6fa16c8fd2f0&review=9870bf08-c06e-403a-85ba-774e27cdb520) and it is only mentioned in a footnote in Table 2. If there are issues with the gaps, they are expected to show up in the ratio of the distances between the samples in the forthcoming analysis.  "
   ]
  },
  {
   "cell_type": "markdown",
   "metadata": {},
   "source": [
    "## Calculation of the distance ratios\n",
    "\n",
    "A function is used to take a dataframe and add columns with the values of the distance ratios between the samples, even though the [paper](https://www.scienceopen.com/document/review?3&id=7a235c56-a1da-498f-98ef-6fa16c8fd2f0&review=9870bf08-c06e-403a-85ba-774e27cdb520) only mentions a single ratio we tested the distances from the mid value in both directions. The proceedure for the calculations is as follows: \n",
    "\n",
    "$$\n",
    "\\begin{align}\n",
    "\\text{sort} (\\hat{t})\\\\\n",
    "\\\\\n",
    "LowerRatio = \\frac{\\hat{t}(2) - \\hat{t}(1)}{\\hat{t}(3) - \\hat{t}(1)}\\\\\n",
    "\\\\\n",
    "UpperRatio = \\frac{\\hat{t}(3) - \\hat{t}(2)}{\\hat{t}(3) - \\hat{t}(1)}\n",
    "\\end{align}\n",
    "$$\n",
    "\n",
    "The final output of the function are two numpy vectors with the Upper Ratio (UR) and Lower Ratio (LR) values"
   ]
  },
  {
   "cell_type": "code",
   "execution_count": 9,
   "metadata": {
    "collapsed": false
   },
   "outputs": [],
   "source": [
    "def DistanceRatioCalculation(data_frame):\n",
    "    '''\n",
    "    Calculates the ratio of the distance between a triplet sample.\n",
    "    $$\n",
    "    \\begin{align}\n",
    "    \\text{sort} (\\hat{t})\\\\\n",
    "    \\\\\n",
    "    LowerRatio = \\frac{\\hat{t}(2) - \\hat{t}(1)}{\\hat{t}(3) - \\hat{t}(1)}\\\\\n",
    "    \\\\\n",
    "    UpperRatio = \\frac{\\hat{t}(3) - \\hat{t}(2)}{\\hat{t}(3) - \\hat{t}(1)}\n",
    "    \\end{align}\n",
    "    $$\n",
    "    '''\n",
    "    if not isinstance(data_frame, pd.DataFrame):\n",
    "        print 'Wrong data type, dataframe expected'\n",
    "    else:\n",
    "        df_ur = np.ones(len(data_frame))\n",
    "        df_lr = np.ones(len(data_frame))\n",
    "        for i in range(0,len(data_frame)):\n",
    "            temp_array = np.ones(3)\n",
    "            for k in range(0,3):\n",
    "                temp_array[k] = data_frame.iloc[i,(1+k)]\n",
    "            temp_array = np.sort(temp_array)\n",
    "            df_lr[i] = (temp_array[1]-temp_array[0])/(temp_array[2]-temp_array[0])\n",
    "            df_ur[i] = (temp_array[2]-temp_array[1])/(temp_array[2]-temp_array[0])\n",
    "            if (df_lr[i]) == 0 and (df_ur[i]) != 1:\n",
    "                print \"data issues, the distances are not complementary\"\n",
    "        df_ur = df_ur[~np.isnan(df_ur)] \n",
    "        df_lr = df_lr[~np.isnan(df_lr)] \n",
    "        df_ur= np.squeeze(df_ur)  \n",
    "        df_lr= np.squeeze(df_lr) \n",
    "    return df_lr, df_ur"
   ]
  },
  {
   "cell_type": "markdown",
   "metadata": {
    "collapsed": true
   },
   "source": [
    "If any ratio is NaN because all the numbers are the same then it gets dropped when calculating UR and LR. After this process the total amount of triplets gets counted again to review if the counts still match. The test is labeld as Valid Rarios counts (VR)"
   ]
  },
  {
   "cell_type": "code",
<<<<<<< HEAD
   "execution_count": 10,
=======
   "execution_count": 16,
>>>>>>> d2ca75f84f0fbe0f6282d8b387a4c263ffd3da6d
   "metadata": {
    "collapsed": false
   },
   "outputs": [
    {
     "name": "stdout",
     "output_type": "stream",
     "text": [
      "Total number of colony data triplets (VR) 2005\n",
      "Total number of suspected colony data triplets (VR) 1360\n",
      "Total number of others colony data triplets (VR) 595\n",
      "Total number of outside lab 3 colony data triplets (VR) 50\n"
     ]
    }
   ],
   "source": [
    "merged_colony_data_d = DistanceRatioCalculation(merged_colony_data)\n",
    "print 'Total number of colony data triplets (VR) ' + str(len(merged_colony_data_d[0]))\n",
    "bishayee_colony2_d = DistanceRatioCalculation(bishayee_colony2)\n",
    "print 'Total number of suspected colony data triplets (VR) ' + str(len(bishayee_colony2_d[0]))\n",
    "others_colony2_d = DistanceRatioCalculation(others_colony2)\n",
    "print 'Total number of others colony data triplets (VR) ' + str(len(others_colony2_d[0]))\n",
    "outside3_colony2_d = DistanceRatioCalculation(outside3_colony2)\n",
    "print 'Total number of outside lab 3 colony data triplets (VR) ' + str(len(outside3_colony2_d[0]))"
   ]
  },
  {
   "cell_type": "code",
<<<<<<< HEAD
   "execution_count": 11,
=======
   "execution_count": 18,
>>>>>>> d2ca75f84f0fbe0f6282d8b387a4c263ffd3da6d
   "metadata": {
    "collapsed": false
   },
   "outputs": [
    {
     "name": "stdout",
     "output_type": "stream",
     "text": [
      "Total number of coulter data triplets (VR) 2873\n",
      "Total number of suspected coulter data triplets (VR) 1727\n",
      "Total number of others coulter data triplets (VR) 929\n",
      "Total number of outside lab1 data triplets (VR) 97\n",
      "Total number of outside lab2 data triplets (VR) 120\n"
     ]
    }
   ],
   "source": [
    "merged_coulter_data_d = DistanceRatioCalculation(merged_coulter_data)\n",
    "print 'Total number of coulter data triplets (VR) ' + str(len(merged_coulter_data_d[0]))\n",
    "bishayee_coulter2_d = DistanceRatioCalculation(bishayee_coulter2)\n",
    "print 'Total number of suspected coulter data triplets (VR) ' + str(len(bishayee_coulter2_d[0]))\n",
    "others_coulter2_d = DistanceRatioCalculation(others_coulter2)\n",
    "print 'Total number of others coulter data triplets (VR) ' + str(len(others_coulter2_d[0]))\n",
    "outside1_coulter2_d = DistanceRatioCalculation(outside1_coulter2)\n",
    "print 'Total number of outside lab1 data triplets (VR) ' + str(len(outside1_coulter2_d[0]))\n",
    "outside2_coulter2_d = DistanceRatioCalculation(outside2_coulter2)\n",
    "print 'Total number of outside lab2 data triplets (VR) ' + str(len(outside2_coulter2_d[0]))"
<<<<<<< HEAD
   ]
  },
  {
   "cell_type": "markdown",
   "metadata": {},
   "source": [
    "## final analysis of the data count\n",
    "\n",
    "they are ok "
=======
>>>>>>> d2ca75f84f0fbe0f6282d8b387a4c263ffd3da6d
   ]
  },
  {
   "cell_type": "markdown",
   "metadata": {},
   "source": [
<<<<<<< HEAD
=======
    "## final analysis of the data count\n",
    "\n",
    "they are ok "
   ]
  },
  {
   "cell_type": "markdown",
   "metadata": {},
   "source": [
>>>>>>> d2ca75f84f0fbe0f6282d8b387a4c263ffd3da6d
    "# Testing of the uniformity assumption about the benchmark data\n",
    "After calculating the different ratios, it is possible to make a visual inspection of the data as in Figures 1(a) and 2(b) in the paper. "
   ]
  },
  {
   "cell_type": "markdown",
   "metadata": {},
   "source": [
    "### Test of Poisson\n",
    "\n",
    "Write up..."
   ]
  },
  {
   "cell_type": "code",
   "execution_count": 21,
   "metadata": {
    "collapsed": false
   },
   "outputs": [
    {
     "ename": "AttributeError",
     "evalue": "'module' object has no attribute 'Dataframe'",
     "output_type": "error",
     "traceback": [
      "\u001b[0;31m---------------------------------------------------------------------------\u001b[0m",
      "\u001b[0;31mAttributeError\u001b[0m                            Traceback (most recent call last)",
      "\u001b[0;32m<ipython-input-21-825f33461ee7>\u001b[0m in \u001b[0;36m<module>\u001b[0;34m()\u001b[0m\n\u001b[1;32m      2\u001b[0m \u001b[0msize\u001b[0m \u001b[0;34m=\u001b[0m \u001b[0mlen\u001b[0m\u001b[0;34m(\u001b[0m\u001b[0mmerged_colony_data_d\u001b[0m\u001b[0;34m)\u001b[0m\u001b[0;34m\u001b[0m\u001b[0m\n\u001b[1;32m      3\u001b[0m \u001b[0mlambda_poisson\u001b[0m \u001b[0;34m=\u001b[0m \u001b[0mnp\u001b[0m\u001b[0;34m.\u001b[0m\u001b[0mmean\u001b[0m\u001b[0;34m(\u001b[0m\u001b[0mmerged_colony_data_d\u001b[0m\u001b[0;34m)\u001b[0m\u001b[0;34m\u001b[0m\u001b[0m\n\u001b[0;32m----> 4\u001b[0;31m \u001b[0mdf_poisson\u001b[0m \u001b[0;34m=\u001b[0m \u001b[0mpd\u001b[0m\u001b[0;34m.\u001b[0m\u001b[0mDataframe\u001b[0m\u001b[0;34m\u001b[0m\u001b[0m\n\u001b[0m\u001b[1;32m      5\u001b[0m \u001b[0mc1\u001b[0m \u001b[0;34m=\u001b[0m \u001b[0mnp\u001b[0m\u001b[0;34m.\u001b[0m\u001b[0mrandom\u001b[0m\u001b[0;34m.\u001b[0m\u001b[0mpoisson\u001b[0m\u001b[0;34m(\u001b[0m\u001b[0mlambda_poisson\u001b[0m\u001b[0;34m,\u001b[0m \u001b[0msize\u001b[0m\u001b[0;34m)\u001b[0m\u001b[0;34m\u001b[0m\u001b[0m\n\u001b[1;32m      6\u001b[0m \u001b[0mc2\u001b[0m \u001b[0;34m=\u001b[0m \u001b[0mnp\u001b[0m\u001b[0;34m.\u001b[0m\u001b[0mrandom\u001b[0m\u001b[0;34m.\u001b[0m\u001b[0mpoisson\u001b[0m\u001b[0;34m(\u001b[0m\u001b[0mlambda_poisson\u001b[0m\u001b[0;34m,\u001b[0m \u001b[0msize\u001b[0m\u001b[0;34m)\u001b[0m\u001b[0;34m\u001b[0m\u001b[0m\n",
      "\u001b[0;31mAttributeError\u001b[0m: 'module' object has no attribute 'Dataframe'"
     ]
    }
   ],
   "source": [
    "#make a test dataframe with draws from poisson\n",
    "size = len(merged_colony_data_d)\n",
    "lambda_poisson = np.mean(merged_colony_data_d)\n",
    "df_poisson = pd.Dataframe\n",
    "c1 = np.random.poisson(lambda_poisson, size)\n",
    "c2 = np.random.poisson(lambda_poisson, size)\n",
    "c3 = np.random.poisson(lambda_poisson, size)\n"
   ]
  },
  {
   "cell_type": "code",
<<<<<<< HEAD
   "execution_count": null,
=======
   "execution_count": 19,
>>>>>>> d2ca75f84f0fbe0f6282d8b387a4c263ffd3da6d
   "metadata": {
    "collapsed": true
   },
   "outputs": [],
   "source": [
    "#change var naming\n",
    "def ReturnSample(l,n):\n",
    "    indexes=rnd.sample(range(1,len(l)),n)  \n",
    "    return np.asarray([l[i] for i in indexes])"
   ]
  },
  {
   "cell_type": "code",
<<<<<<< HEAD
   "execution_count": null,
=======
   "execution_count": 20,
>>>>>>> d2ca75f84f0fbe0f6282d8b387a4c263ffd3da6d
   "metadata": {
    "collapsed": true
   },
   "outputs": [],
   "source": [
    "def uniformkspermutation(data,permutations,sample_size = 100):\n",
    "    \"\"\"\n",
    "    This function is designed to take a set of data and perform a KS statistic permutation test \n",
    "    against an uniform distribution sample of size 10000. The output is an array of sixe trials of KS statistics. \n",
    "    \n",
    "    inputs: data is the total population of data\n",
    "    permutations: is the number of permutations \n",
    "    sample_size: is the sample size of the data draw for each permutation\n",
    "    \"\"\"    \n",
    "    result_array = np.ones(permutations)\n",
    "    for t in range(0,permutations):\n",
    "        permutationsample = ReturnSample(data,sample_size)\n",
    "        test_result =stats.kstest(permutationsample, 'uniform')\n",
    "        result_array[t] = test_result[0]\n",
    "    return np.squeeze(result_array)"
   ]
  },
  {
   "cell_type": "code",
<<<<<<< HEAD
   "execution_count": 13,
=======
   "execution_count": 21,
>>>>>>> d2ca75f84f0fbe0f6282d8b387a4c263ffd3da6d
   "metadata": {
    "collapsed": false
   },
   "outputs": [],
   "source": [
    "#Print empirical CDF plot from a data vector x. \n",
    "def cdf_plot(x):\n",
    "    x_data = np.sort(x)\n",
    "    y_data = 1. * np.arange(len(x_data))/(len(x_data)-1)\n",
    "    plt.plot(x_data, y_data)"
   ]
  },
  {
   "cell_type": "markdown",
   "metadata": {},
   "source": [
    "### Figure 1(b) check. \n",
    "\n",
    "Visual inspection"
   ]
  },
  {
   "cell_type": "code",
<<<<<<< HEAD
   "execution_count": 14,
=======
   "execution_count": 23,
>>>>>>> d2ca75f84f0fbe0f6282d8b387a4c263ffd3da6d
   "metadata": {
    "collapsed": false
   },
   "outputs": [
    {
     "data": {
<<<<<<< HEAD
      "image/png": "iVBORw0KGgoAAAANSUhEUgAAAXcAAAEACAYAAABI5zaHAAAABHNCSVQICAgIfAhkiAAAAAlwSFlz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\nSimlVGnw/3snRDAw4pclAAAAAElFTkSuQmCC\n",
      "text/plain": [
       "<matplotlib.figure.Figure at 0x1069c7790>"
=======
      "image/png": "iVBORw0KGgoAAAANSUhEUgAAAXcAAAEACAYAAABI5zaHAAAABHNCSVQICAgIfAhkiAAAAAlwSFlz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\npZRSSimllFJKKaWUKgz+Dxf597qJl361AAAAAElFTkSuQmCC\n",
      "text/plain": [
       "<matplotlib.figure.Figure at 0x1116a4610>"
>>>>>>> d2ca75f84f0fbe0f6282d8b387a4c263ffd3da6d
      ]
     },
     "metadata": {},
     "output_type": "display_data"
    }
   ],
   "source": [
    "sample_uniform = np.random.uniform(0,1,10000)\n",
    "cdf_plot(np.concatenate((others_colony2_d[0],outside3_colony2_d[0])))\n",
    "cdf_plot(np.concatenate((others_colony2_d[1],outside3_colony2_d[1])))\n",
    "cdf_plot(sample_uniform)"
   ]
  },
  {
   "cell_type": "markdown",
   "metadata": {},
   "source": [
    "### Permutation test (?)\n",
    "\n",
    "How can we check what level of the [Kolmogorov-Smirnov test](https://en.wikipedia.org/wiki/Kolmogorov–Smirnov_test) statistic is surprising, a first approach is to make a lot of KS calculations from samples of the benchmark data."
   ]
  },
  {
   "cell_type": "code",
   "execution_count": 15,
   "metadata": {
    "collapsed": false
   },
   "outputs": [
    {
     "ename": "NameError",
     "evalue": "name 'uniformkspermutation' is not defined",
     "output_type": "error",
     "traceback": [
      "\u001b[0;31m---------------------------------------------------------------------------\u001b[0m",
      "\u001b[0;31mNameError\u001b[0m                                 Traceback (most recent call last)",
      "\u001b[0;32m<ipython-input-15-b19ea5e0c2b5>\u001b[0m in \u001b[0;36m<module>\u001b[0;34m()\u001b[0m\n\u001b[1;32m      1\u001b[0m \u001b[0mbenchmark_sample\u001b[0m \u001b[0;34m=\u001b[0m \u001b[0mnp\u001b[0m\u001b[0;34m.\u001b[0m\u001b[0mconcatenate\u001b[0m\u001b[0;34m(\u001b[0m\u001b[0;34m(\u001b[0m\u001b[0mothers_colony2_d\u001b[0m\u001b[0;34m[\u001b[0m\u001b[0;36m0\u001b[0m\u001b[0;34m]\u001b[0m\u001b[0;34m,\u001b[0m\u001b[0moutside3_colony2_d\u001b[0m\u001b[0;34m[\u001b[0m\u001b[0;36m0\u001b[0m\u001b[0;34m]\u001b[0m\u001b[0;34m)\u001b[0m\u001b[0;34m)\u001b[0m\u001b[0;34m;\u001b[0m\u001b[0;34m\u001b[0m\u001b[0m\n\u001b[0;32m----> 2\u001b[0;31m \u001b[0muniform_test\u001b[0m \u001b[0;34m=\u001b[0m \u001b[0muniformkspermutation\u001b[0m\u001b[0;34m(\u001b[0m\u001b[0mbenchmark_sample\u001b[0m\u001b[0;34m,\u001b[0m\u001b[0;36m10000\u001b[0m\u001b[0;34m,\u001b[0m\u001b[0msample_size\u001b[0m \u001b[0;34m=\u001b[0m \u001b[0;36m50\u001b[0m\u001b[0;34m)\u001b[0m\u001b[0;34m;\u001b[0m\u001b[0;34m\u001b[0m\u001b[0m\n\u001b[0m\u001b[1;32m      3\u001b[0m \u001b[0mx\u001b[0m \u001b[0;34m=\u001b[0m \u001b[0mplt\u001b[0m\u001b[0;34m.\u001b[0m\u001b[0mhist\u001b[0m\u001b[0;34m(\u001b[0m\u001b[0muniform_test\u001b[0m\u001b[0;34m,\u001b[0m \u001b[0mbins\u001b[0m \u001b[0;34m=\u001b[0m \u001b[0;36m100\u001b[0m\u001b[0;34m)\u001b[0m\u001b[0;34m\u001b[0m\u001b[0m\n\u001b[1;32m      4\u001b[0m \u001b[0mx\u001b[0m \u001b[0;34m=\u001b[0m \u001b[0mplt\u001b[0m\u001b[0;34m.\u001b[0m\u001b[0maxvline\u001b[0m\u001b[0;34m(\u001b[0m\u001b[0mx\u001b[0m\u001b[0;34m=\u001b[0m\u001b[0mnp\u001b[0m\u001b[0;34m.\u001b[0m\u001b[0mpercentile\u001b[0m\u001b[0;34m(\u001b[0m\u001b[0muniform_test\u001b[0m\u001b[0;34m,\u001b[0m \u001b[0;36m95\u001b[0m\u001b[0;34m)\u001b[0m\u001b[0;34m,\u001b[0m \u001b[0mcolor\u001b[0m \u001b[0;34m=\u001b[0m \u001b[0;34m'b'\u001b[0m\u001b[0;34m)\u001b[0m\u001b[0;34m\u001b[0m\u001b[0m\n\u001b[1;32m      5\u001b[0m \u001b[0;32mprint\u001b[0m \u001b[0;34m'The 95% percentile is '\u001b[0m \u001b[0;34m+\u001b[0m \u001b[0mstr\u001b[0m\u001b[0;34m(\u001b[0m\u001b[0mnp\u001b[0m\u001b[0;34m.\u001b[0m\u001b[0mpercentile\u001b[0m\u001b[0;34m(\u001b[0m\u001b[0muniform_test\u001b[0m\u001b[0;34m,\u001b[0m \u001b[0;36m95\u001b[0m\u001b[0;34m)\u001b[0m\u001b[0;34m)\u001b[0m\u001b[0;34m\u001b[0m\u001b[0m\n",
      "\u001b[0;31mNameError\u001b[0m: name 'uniformkspermutation' is not defined"
     ]
    }
   ],
   "source": [
    "benchmark_sample = np.concatenate((others_colony2_d[0],outside3_colony2_d[0]));\n",
    "uniform_test = uniformkspermutation(benchmark_sample,10000,sample_size = 50);\n",
    "x = plt.hist(uniform_test, bins = 100)\n",
    "x = plt.axvline(x=np.percentile(uniform_test, 95), color = 'b')\n",
    "print 'The 95% percentile is ' + str(np.percentile(uniform_test, 95))\n",
    "benchmark_sample = np.concatenate((others_colony2_d[1],outside3_colony2_d[1]));\n",
    "uniform_test = uniformkspermutation(benchmark_sample,10000,sample_size = 50);\n",
    "x = plt.hist(uniform_test, bins = 100)\n",
    "x = plt.axvline(x=np.percentile(uniform_test, 95), color = 'b')\n",
    "print 'The 95% percentile is ' + str(np.percentile(uniform_test, 95))"
   ]
  },
  {
   "cell_type": "markdown",
   "metadata": {},
   "source": [
    "### Figure 1(a) check. \n",
    "\n",
    "Same as before but applied to the suspicous data."
   ]
  },
  {
   "cell_type": "code",
   "execution_count": 16,
   "metadata": {
    "collapsed": false
   },
   "outputs": [
    {
     "data": {
      "image/png": "iVBORw0KGgoAAAANSUhEUgAAAXcAAAEACAYAAABI5zaHAAAABHNCSVQICAgIfAhkiAAAAAlwSFlz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\ns3PzTAc68AAAAABJRU5ErkJggg==\n",
      "text/plain": [
       "<matplotlib.figure.Figure at 0x106a7b090>"
      ]
     },
     "metadata": {},
     "output_type": "display_data"
    }
   ],
   "source": [
    "sample_uniform = np.random.uniform(0,1,10000)\n",
    "cdf_plot(bishayee_colony2_d[0])\n",
    "cdf_plot(bishayee_colony2_d[1])\n",
    "cdf_plot(sample_uniform)"
   ]
  },
  {
   "cell_type": "code",
   "execution_count": 238,
   "metadata": {
    "collapsed": false
   },
   "outputs": [
    {
     "name": "stdout",
     "output_type": "stream",
     "text": [
      "The 95% percentile is 0.293333333333\n",
      "The 95% percentile is 0.291052631579\n"
     ]
    },
    {
     "data": {
      "image/png": "iVBORw0KGgoAAAANSUhEUgAAAX0AAAEACAYAAABfxaZOAAAABHNCSVQICAgIfAhkiAAAAAlwSFlz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\nYII=\n",
      "text/plain": [
       "<matplotlib.figure.Figure at 0x116bb3110>"
      ]
     },
     "metadata": {},
     "output_type": "display_data"
    }
   ],
   "source": [
    "uniform_test = uniformkspermutation(bishayee_colony2_d[0],10000,sample_size = 100);\n",
    "x = plt.hist(uniform_test, bins = 100)\n",
    "x = plt.axvline(x=np.percentile(uniform_test, 95), color = 'b')\n",
    "print 'The 95% percentile is ' + str(np.percentile(uniform_test, 95))\n",
    "uniform_test = uniformkspermutation(bishayee_colony2_d[1],10000,sample_size = 100);\n",
    "x = plt.hist(uniform_test, bins = 100)\n",
    "x = plt.axvline(x=np.percentile(uniform_test, 95), color = 'g')\n",
    "print 'The 95% percentile is ' + str(np.percentile(uniform_test, 95))"
   ]
  },
  {
   "cell_type": "markdown",
   "metadata": {},
   "source": [
    "## [Kolmogorov-Smirnov](https://en.wikipedia.org/wiki/Kolmogorov–Smirnov_test) permutation test implementation:\n",
    "\n",
    "Considering that the authors decided to test against the uniform distribution, we performed a permutation test for the KS statistic. In this test, we analyze whether the difference in the distribution of the ratio from the suspected data to the uniform distribution is \"surprising.\" The reason we perform this test is because deviation from the uniform distribution is used as a justification for finding the person suspicious."
   ]
  },
  {
   "cell_type": "code",
   "execution_count": 25,
   "metadata": {
    "collapsed": false
   },
   "outputs": [],
   "source": [
    "def kstestpermutation(susData,allData,permutations):\n",
    "    \"\"\"\n",
    "    To do this, we first calculate the difference between the suspected person's ratio distribution and \n",
    "    the uniform distribution's cumulative density function using the Kolmogorov-Smirnov test.\n",
    "\n",
    "    Then we lump together all the data of the suspected person, other people in his lab and the outside \n",
    "    scientists. From this larger population we draw a sample of the same size as that of the suspected \n",
    "    person's data. We then calcualte the difference between the randomly drawn sample and the unform \n",
    "    distribution via the KS test.     \n",
    "    \n",
    "    The result of the KS test for each permutation is stored in an array. \n",
    "    The frequency distribution of the KS statistic is then plotted and we then find the probability that \n",
    "    the difference that we observed could have been observed by chance.\n",
    "    \"\"\"\n",
    "    \n",
    "    #Step 1. Difference from suspected data\n",
    "    orig_Diff=stats.kstest(susData, 'uniform', N=1000)\n",
    "    #Step 2. Permute overall population and blabla\n",
    "    real_Diff=uniformkspermutation(allData,permutations,len(susData))\n",
    "    #Step 3. Plot the differences.\n",
    "    test1_plot= plt.figure()\n",
    "    plt.hist(real_Diff, bins = 100)\n",
    "    plt.axvline(x=orig_Diff[0], color = 'r')\n",
    "    #Step 4. Be surprised \"obtain p-value\".\n",
    "    aux_array=real_Diff[np.where(real_Diff<orig_Diff[0])]\n",
    "    val_less_than_orig=len(aux_array)\n",
    "    aux=(val_less_than_orig*1.0)/(len(real_Diff)*1.0)\n",
    "    return (1-aux)"
   ]
  },
  {
   "cell_type": "code",
   "execution_count": 27,
   "metadata": {
    "collapsed": false
   },
   "outputs": [
    {
     "data": {
      "text/plain": [
       "0.0"
      ]
     },
     "execution_count": 27,
     "metadata": {},
     "output_type": "execute_result"
    },
    {
     "data": {
      "image/png": "iVBORw0KGgoAAAANSUhEUgAAAX0AAAEACAYAAABfxaZOAAAABHNCSVQICAgIfAhkiAAAAAlwSFlz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\nJEmSJEmSJEmS2v0/Su9LXoax6iMAAAAASUVORK5CYII=\n",
<<<<<<< HEAD
      "text/plain": [
       "<matplotlib.figure.Figure at 0x111a95b10>"
      ]
     },
     "metadata": {},
     "output_type": "display_data"
    },
    {
     "data": {
      "image/png": "iVBORw0KGgoAAAANSUhEUgAAAX0AAAEACAYAAABfxaZOAAAABHNCSVQICAgIfAhkiAAAAAlwSFlz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\n",
      "text/plain": [
=======
      "text/plain": [
       "<matplotlib.figure.Figure at 0x111a95b10>"
      ]
     },
     "metadata": {},
     "output_type": "display_data"
    },
    {
     "data": {
      "image/png": "iVBORw0KGgoAAAANSUhEUgAAAX0AAAEACAYAAABfxaZOAAAABHNCSVQICAgIfAhkiAAAAAlwSFlz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\n",
      "text/plain": [
>>>>>>> d2ca75f84f0fbe0f6282d8b387a4c263ffd3da6d
       "<matplotlib.figure.Figure at 0x111a8b3d0>"
      ]
     },
     "metadata": {},
     "output_type": "display_data"
    }
   ],
   "source": [
    "#Lower Ration analysis. \n",
    "kstestpermutation(bishayee_colony2_d[0],merged_colony_data_d[0],10000)\n",
    "#Upper Ratio analysis \n",
    "kstestpermutation(bishayee_colony2_d[1],merged_colony_data_d[1],10000)\n",
    "#Fix the return value of the p-value "
   ]
  },
  {
   "cell_type": "code",
   "execution_count": 28,
   "metadata": {
    "collapsed": false
   },
   "outputs": [
    {
     "data": {
      "text/plain": [
       "0.0"
      ]
     },
     "execution_count": 28,
     "metadata": {},
     "output_type": "execute_result"
    },
    {
     "data": {
      "image/png": "iVBORw0KGgoAAAANSUhEUgAAAYAAAAEACAYAAAC6d6FnAAAABHNCSVQICAgIfAhkiAAAAAlwSFlz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\n",
      "text/plain": [
       "<matplotlib.figure.Figure at 0x111fab710>"
      ]
     },
     "metadata": {},
     "output_type": "display_data"
    },
    {
     "data": {
      "image/png": "iVBORw0KGgoAAAANSUhEUgAAAYAAAAEACAYAAAC6d6FnAAAABHNCSVQICAgIfAhkiAAAAAlwSFlz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\nJEmSJEmSJEmSJEmSpLr4fzJkPEni0flBAAAAAElFTkSuQmCC\n",
      "text/plain": [
       "<matplotlib.figure.Figure at 0x111fa40d0>"
      ]
     },
     "metadata": {},
     "output_type": "display_data"
    }
   ],
   "source": [
    "# lower coulter ration\n",
    "kstestpermutation(bishayee_coulter2_d[0],merged_coulter_data_d[0],10000)\n",
    "#upper coulter ratio\n",
    "kstestpermutation(bishayee_coulter2_d[1],merged_coulter_data_d[1],10000)"
   ]
  },
  {
   "cell_type": "markdown",
   "metadata": {
    "collapsed": false
   },
   "source": [
    "### Results \n",
    "\n",
    "The KS statistic is way in the tails of the distribution."
   ]
  },
  {
   "cell_type": "markdown",
   "metadata": {},
   "source": [
    "## Two sample KS test. \n",
    "\n",
    "We have selected to make a 2S KS in order to avoid using assumptions about the underlying uniform distribution\n",
    "\n",
    "The implementation of the ks-test for two samples in scipy is implemented as follows: \n",
    "\n",
    "```\n",
    "data1 = np.sort(data1)\n",
    "    data2 = np.sort(data2)\n",
    "    n1 = data1.shape[0]\n",
    "    n2 = data2.shape[0]\n",
    "    data_all = np.concatenate([data1, data2])\n",
    "    cdf1 = np.searchsorted(data1, data_all, side='right') / (1.0*n1)\n",
    "    cdf2 = np.searchsorted(data2, data_all, side='right') / (1.0*n2)\n",
    "    d = np.max(np.absolute(cdf1 - cdf2))\n",
    "    # Note: d absolute not signed distance\n",
    "    en = np.sqrt(n1 * n2 / float(n1 + n2))\n",
    "    try:\n",
    "        prob = distributions.kstwobign.sf((en + 0.12 + 0.11 / en) * d)\n",
    "    except:\n",
    "        prob = 1.0\n",
    "\n",
    "    return Ks_2sampResult(d, prob)\n",
    "```\n",
    "\n",
    "If you see, it assummes that the two samples make up the whole distribution space. Hence we need to be careful on how we provide the data to not over-specify the information. "
   ]
  },
  {
   "cell_type": "code",
   "execution_count": 34,
<<<<<<< HEAD
=======
   "metadata": {
    "collapsed": true
   },
   "outputs": [],
   "source": [
    "benchmark_sample_colony = np.concatenate((others_colony2_d[0],outside3_colony2_d[0]));\n",
    "benchmark_sample_coulter = np.concatenate((others_coulter2_d[0],outside1_coulter2_d[0],outside2_coulter2_d[0]));"
   ]
  },
  {
   "cell_type": "code",
   "execution_count": 44,
>>>>>>> d2ca75f84f0fbe0f6282d8b387a4c263ffd3da6d
   "metadata": {
    "collapsed": true
   },
   "outputs": [],
   "source": [
<<<<<<< HEAD
    "benchmark_sample_colony = np.concatenate((others_colony2_d[0],outside3_colony2_d[0]));\n",
    "benchmark_sample_coulter = np.concatenate((others_coulter2_d[0],outside1_coulter2_d[0],outside2_coulter2_d[0]));"
   ]
  },
  {
   "cell_type": "code",
   "execution_count": 44,
   "metadata": {
    "collapsed": true
   },
   "outputs": [],
   "source": [
=======
>>>>>>> d2ca75f84f0fbe0f6282d8b387a4c263ffd3da6d
    "def ReturnSampleAndComplement(l,n):\n",
    "    \"\"\"\n",
    "    Missing docstring, pending. \n",
    "    \"\"\"\n",
    "    indexes=rnd.sample(range(1,len(l)),n)  \n",
    "    return (np.asarray([l[i] for i in indexes]),np.asarray([l[i] for i in range(1,n) if i not in indexes]))"
   ]
  },
  {
   "cell_type": "code",
   "execution_count": 45,
   "metadata": {
    "collapsed": false
   },
   "outputs": [],
   "source": [
    "def ks2samplepermutation(data_suspected, data_all, trials):\n",
    "    \"\"\"\n",
    "    This function is designed to take a set of the data \"data_benchmark\" and perform a KS statistic permutation test \n",
    "    against a larger sample to determine wether \"data_benchmark\" could have been produced from data with the same\n",
    "    statistical nature as the \"data_test\"\n",
    "    \"\"\"\n",
    "    result_array = np.ones(trials)\n",
    "    for t in range(0,trials):\n",
    "        permutationsample = ReturnSampleAndComplement(data_all,len(data_suspected))\n",
    "        sample_1 = permutationsample[0]\n",
    "        sample_2 = permutationsample[1]\n",
    "        result = stats.ks_2samp(sample_1, sample_2)\n",
    "        result_array[t] = result[0]\n",
    "    return np.squeeze(result_array)     "
   ]
  },
  {
   "cell_type": "code",
   "execution_count": 43,
   "metadata": {
    "collapsed": false
   },
   "outputs": [],
   "source": [
    "def ks2stestpermutation(susData,otherData,allData,permutations):\n",
    "    \"\"\"\n",
    "    Missing docstring, pending. \n",
    "    \"\"\"\n",
    "    #Step 1. Difference from suspected data\n",
    "    orig_Diff=stats.ks_2samp(susData,otherData)\n",
    "    #Step 2. Permute overall population and blabla\n",
    "    real_Diff= ks2samplepermutation(susData,allData, permutations)\n",
    "    #Step 3. Plot the differences.\n",
    "    test1_plot= plt.figure()\n",
    "    plt.hist(real_Diff, bins = 100)\n",
    "    plt.axvline(x=orig_Diff[0], color = 'r')\n",
    "    #Step 4. Be surprised \"obtain p-value\".\n",
    "    aux_array=real_Diff[np.where(real_Diff<orig_Diff[0])]\n",
    "    val_less_than_orig=len(aux_array)\n",
    "    aux=(val_less_than_orig*1.0)/(len(real_Diff)*1.0)\n",
    "    return (1-aux)"
   ]
  },
  {
   "cell_type": "code",
   "execution_count": 41,
   "metadata": {
    "collapsed": false
   },
   "outputs": [
    {
     "name": "stdout",
     "output_type": "stream",
     "text": [
      "0.0\n",
      "0.0\n"
     ]
    },
    {
     "data": {
      "image/png": "iVBORw0KGgoAAAANSUhEUgAAAXcAAAEACAYAAABI5zaHAAAABHNCSVQICAgIfAhkiAAAAAlwSFlz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\n",
      "text/plain": [
       "<matplotlib.figure.Figure at 0x111faba10>"
      ]
     },
     "metadata": {},
     "output_type": "display_data"
    },
    {
     "data": {
      "image/png": "iVBORw0KGgoAAAANSUhEUgAAAXcAAAEACAYAAABI5zaHAAAABHNCSVQICAgIfAhkiAAAAAlwSFlz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\nQmCC\n",
      "text/plain": [
       "<matplotlib.figure.Figure at 0x11192f510>"
      ]
     },
     "metadata": {},
     "output_type": "display_data"
    }
   ],
   "source": [
    "#Lower Ratio analysis\n",
    "print ks2stestpermutation(bishayee_colony2_d[0],benchmark_sample_colony,merged_colony_data_d[0],1000)\n",
    "#Upper ratio analysis\n",
    "print ks2stestpermutation(bishayee_colony2_d[1],benchmark_sample_colony,merged_colony_data_d[1],1000)"
   ]
  },
  {
   "cell_type": "code",
   "execution_count": 42,
   "metadata": {
    "collapsed": false
   },
   "outputs": [
    {
     "name": "stdout",
     "output_type": "stream",
     "text": [
      "0.034\n",
      "0.108\n"
     ]
    },
    {
     "data": {
      "image/png": "iVBORw0KGgoAAAANSUhEUgAAAWwAAAEACAYAAACXqUyYAAAABHNCSVQICAgIfAhkiAAAAAlwSFlz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\nJEmSJEmSVIb/B1tlByNhz7mlAAAAAElFTkSuQmCC\n",
      "text/plain": [
       "<matplotlib.figure.Figure at 0x111ea4510>"
      ]
     },
     "metadata": {},
     "output_type": "display_data"
    },
    {
     "data": {
      "image/png": "iVBORw0KGgoAAAANSUhEUgAAAWwAAAEACAYAAACXqUyYAAAABHNCSVQICAgIfAhkiAAAAAlwSFlz\nAAALEgAACxIB0t1+/AAAEfBJREFUeJzt3X2MHOVhx/Hv2mcXqO8wJyLjAJVDJZdQUUxFU5TQMtAg\n0Sh1yT+R0layWlrxRwQ0fYupVLFJKoVGgkRVVP5oADk0oU1Ji3DaJLzI07hKA01rO4Ch9AVUSLGT\nxsZ3mEay8faPZ+5272V3Z3dmdvbZ+36k083Ozuw+PLf74/EzzzMPSJIkSZIkSZIkSZIkSZKkyKwH\nDgB7s8ezwOPAi8BjwOaayiVJa8a6nMfdDhwGWtnj3YTA3g48mT2WJNXsIuAJ4DraLewXgC3Z9gXZ\nY0lSzf4auBK4lnZgH+94vrHssSSpAv26RN4PfI/Qf93ockyLdleJJKkiU32efzewE3gfcBYwAzwI\nHCV0hRwBthJCfYUrrriidejQodIKK0lrxCFgR5EX6OwS+RTw0Wx7N3BXl3NadbvzzjvrLsLY6FYX\nQAta2U/9f7NRyPW5sC7WnHGpC7r0WuQdJbIYwNnvu4AbCMP6ru8R2JKkkvTrEun0D9kPwDHgveUX\nR5LUzaAt7OgkSVJ3EcaGddFmXbRZF23jXhfdRn6UJeuO0ThrNBq0e7sa+DfLNBpZt740WuE7uTKf\nJ76FLUmTwsCWpEgY2JIUCQNbkiJhYEtSJAxsSYqEgS1JkTCwJSkSBrYkRcLAlqRIGNiSFAkDW5Ii\nYWBLUiQMbEmKhIEtSZEwsCUpEga2hjYzM0uj0aDRaDAzM1t3caSJlyewzwKeAg4Ch4FPZvubwKvA\ngeznxgrKpzE2P3+csFJNK9uWVKW8S4SdA7xJWLT3H4HfA34BmAfu6XGeS4RFYNglwiZ+aTGXCFNN\nii4R9mb2eyOwHlhoTlW9JqQkKZM3sNcRukSOAvuA57L9twKHgPuAzaWXTpK0KG9gnwF2ABcBPw8k\nwL3AO7L9rwF3V1A+SVJmasDjTwB/B1wFpB37PwfsXe2EZrO5uJ0kCUmSDPiWkjTZ0jQlTdO+x+Xp\ngz4fOA28DpwNfB34GKFb5Eh2zEeAnwF+Zdm5XnSMgBcdu/Cio2rS7aJjnhb2VmAPoftkHfAg8CTw\neUJ3SAt4CbilpLJKklZR9SgPW9gRsIXdhS1s1aTosD5JUs0M7AnVb9p45/PDvq6k0bJLZEL1665Y\n/nzero1hz4uSXSKqiV0ikhQ5A1uSImFgS1IkDGxJioSBLUmRMLAlKRIGtiRFwsCWpEgY2JIUCQNb\nI+dq69JwnJo+ocZ5ano0d/lzarpq4tR0SYqcgS1JkTCwJSkSBrYkRcLAXhOmCo3IcNECaTz0C+yz\ngKeAg8Bh4JPZ/lngceBF4DFgc1UFVBlOAy3m548PdXY4r0V7ZIekOvQL7B8C1xFWR/+pbPsaYDch\nsLcTVlDfXWEZJUnk6xJ5M/u9EVgPHAd2Anuy/XuAm8ovmiSpU57AXkfoEjkK7AOeA7Zkj8l+b6mk\ndJKkRVM5jjlD6BI5F/g6oVukU8/OzWazubidJAlJkgxaRpVmyguH0hhK05Q0TfseN+i394+A/wN+\nE0iAI8BWQsv70lWOd2p6TVafQt59Wvmw09idmi6Vb9ip6efTHgFyNnADcAB4FNiV7d8FPFJKKSVJ\nXfXrEtlKuKi4Lvt5kDAq5ADwJeBm4GXgg9UVUZIE3q1vYtklUgK7RFQT79YnSZEzsCUpEga2JEXC\nwJakSBjYkhQJA1uSImFgS1IkDGwtM7W4WMGwCx6sxkUQpOKcODOhikycWT6ppYyJM71eY2w/I06c\nUU2cOCNJkTOwJSkSBrYkRcLAVknaFysbjY2VXLiU1ro8K85IOYSV2YP2RcX5eUeFSGWxhS1JkTCw\nJSkSBrYkRcLAlqRIGNgR6pzmXe0ojCmnkktjJE9gXwzsA54DngVuy/Y3gVcJC/IeAG6soHxaxfz8\nccIojFa2XZXOkR+S6pan+XRB9nMQ2AT8C3ATYaX0eeCeHud6L5EK5FnEtqx7iRQ7r10+7yUi5dft\nXiJ5xmEfyX4A3gCeBy5ceN0yCidJ6m/QPuxtwJXAt7LHtwKHgPuAzeUVS5K03CAzHTcBDwO3E1ra\n9wIfz577BHA3cPPyk5rN5uJ2kiQkSTJcSdXXzMxsxX3ao7Pw3zI9fR5zc8fqLo5UqTRNSdO073F5\nuzQ2AF8Bvgp8ZpXntwF7gcuX7bcPuwLd+rD737c6nj7s9vE19nHbh62aFLkfdoPQ5XGYpWG9tWP7\nA8AzBconSeojT5fIe4BfA75DGL4H8IfAh4AdhGbQS8AtVRRQkhS4RFiE7BIZEbtEVBOXCJOkyBnY\nkhQJA1uSImFgS1IkDGxJioSBLUmRMLA1Njrv8y1pJQNbY6PzPt+SVjKwJSkSBrYkRcLAlqRIGNiS\nFAkDu0ajW/1c0iQYZMUZlaw9KgLm5x3KJqk3W9iSFAkDW5IiYWBLUiQMbEmKhIEtSZHIE9gXA/uA\n54Bngduy/bPA48CLwGPA5ioKKEkK8gT2KeAjwE8CVwMfBt4J7CYE9nbgyeyxJKkieQL7CHAw234D\neB64ENgJ7Mn27wFuKr10kqRFg/ZhbwOuBJ4CtgBHs/1Hs8eSpIoMMtNxE/Bl4HZgftlzXW9i3Gw2\nF7eTJCFJkoEKuBbNzMxmsyBhevo85uaO1Vyi8WMdaZKkaUqapn2PyzsfegPwFeCrwGeyfS8ACaHL\nZCvhwuSly85rtVrejL6bsLLKQv00WKirbvsHPW/ldr/nyz6vXb5eZetd/pX//b3qoFSNBvj5VQ2y\nVZdW5HOeLpEGcB9wmHZYAzwK7Mq2dwGPFCuiJKmXPC3sa4BvAN+h3aS5A3ga+BLwY8DLwAeB15ed\nawu7B1vYecpvC1trT7cWdtW3iDOwezCw85TfwNbaU6RLRJI0Bgxs1WxqcRGHfs+7yIPWOhcwUM1O\ns7QbpPvzLvKgtc4WtiRFwsCWpEgY2JIUCQN7bPS7+Fb2eaMyNbZlc9V6xcaLjmOj38W3ss8blYXy\njV/ZXLVesbGFLUmRMLAlKRIGtiRFwsCWpEh40VERGd8RJ9Io2MJWRBZGnHgHPa1NBrYkRcLAlqRI\nGNiSFAkDW5IiYWBrArjIgdaGPIF9P3AUeKZjXxN4FTiQ/dxYesmk3NqjR8L9QaTJlCewH2BlILeA\ne4Ars5+vlVwuSdIyeQJ7P7Bas8UZDJI0QkX6sG8FDgH3AZvLKY4kqZthp6bfC3w82/4EcDdw82oH\nNpvNxe0kSUiSZMi3XKva07Gnp89jbu5YzeWRVLY0TUnTtO9xebs1tgF7gcsHfK7VajmNuJsQxJ2L\nD/TfbrVaQ53XXkRglOfV8955P3PL63HFeY0G+PlVDbJG2op8HrZLZGvH9gdYOoJEklSBPF0iDwHX\nAucDrwB3Agmwg9A8eQm4paLySZIyVY/0sEukB7tEqjnPLhHFruwuEUnSiBnYkhQJA1uSImFgS1Ik\nDGxJioSBLUmRMLA1YaZW3Bd7ZmbW+2VrIjgOu0aOw672vIXPXrfx1o7D1rhyHLYkRc7AlqRIGNiS\nFAkDW5IiYWBLUiQMbEmKhIEtSZEwsCUpEga2JEXCwB6xzmnSg5sa8jxJk8DAHrH5+eOE6dDDTHk+\nPeR5kiZBnsC+HzjK0pXRZ4HHgReBx4DN5RdNktQpT2A/ANy4bN9uQmBvB57MHkuSKpQnsPcDx5ft\n2wnsybb3ADeVWShJ0krD9mFvIXSTkP3eUk5xJEndTJXwGj2voDWbzcXtJElIkqSEt5TGw8zMbHYh\nGWADcIrp6fOYmztWZ7EUmTRNSdO073F5x4htA/YCl2ePXwAS4AiwFdgHXLrKeS5gsMzwiw90bsdy\nXr1lHsUCBqv/PVd5LWkAZS9g8CiwK9veBTwy5OtIknLKE9gPAd8EfgJ4Bfh14C7gBsKwvuuzx5Kk\nCrmm44jZJTK68+wSUaxc01GSImdgSz0s3PdlZma27qJIpQzrkyZY6NqYn/emW6qfLWxJioSBLUmR\nMLAlKRIGdsk6FyhoNDZ60UqLOj8bfh40DMdhl6zXOOtWq+U47BGeV8Y47Eav51d5jV7jsPu+n5Rx\nHLYkRc7AlqRIGNiSFAkDW5IiYWAPySv+sZpa/LsNe145f++yX09rgaNEhpR35IGjRMZvlEivv88S\ny0aJ5P97DzKipMt7a01zlIgkRc7AlqRIGNiSFAlvrzoyU0Nc6NLwBq3vzuPD6uf2KmvcFA3sl4E5\n4C3gFPCuogWaXKdpX0RT9RbqG/LV+fLj/Vtp/BQN7BaQAMeKF0WS1EsZfdg2QyRpBIoGdgt4Avg2\n8FvFiyNJ6qZol8h7gNeAtwGPAy8A+4sWSpK0UtHAfi37/X3gbwkXHZcEdrPZXNxOkoQkSQq+ZXVm\nZmaZnz8OwPT0eczNHeu5v80RICpX/8+cJkmapqRp2ve4IilzDrAemAd+FHgM+Fj2e0FUU9MHudH9\n8FPM45zmvRbL3KK+qekudrC2dZuaXqSFvYXQql54nS+wNKwlSSUqEtgvATvKKogkqTenpktSJNZ8\nYHfe1zofLzAq/z21832+Fl5vY5dj2+/Xecwg99H2/u2TYc3fDzvPhaBuF5a8gDfO713tRcey78U9\nbJnzfr+8iBkX74ctSZEzsCUpEga2JEXCwJakSExkYJdzRXzY1bWl0Vv4zFc5AqTf98qRKNWbyFEi\ng1wRH/0U87U54iKe89rbMY0Sab9Pvmnxw3wv+72GI1HK4ygRSYqcgS1JkTCwJSkSBrYkRWJNBvbg\n9w+RBjGqEUarvc9UdCM1HF2SX9EVZ6IUVvLovOoulek0o/l8rfY+7X3z83F8tju/j7GUuS5rsoUt\nSTEysCUpElF3iezfv5+TJ08CcMkll7B9+/aaSyRJ1Yk2sE+cOEGSXMf09Hs5ffoHXHbZDE8//WTP\nczpXopYmX/7FNpZ+NzYAp1bZHva9268Rywrw47pqfdEukRuBF4B/Bz5avDj5nTlzhg0bpjlx4muc\nPPkpTp060/ecpRcbpUm3cAGy/2e+/d1oEcJ1te1h37v9GrE0mDrrY5zKXCSw1wOfJYT2ZcCHgHeW\nUSipemndBRgbaZrWXYSxMe51USSw3wX8B/Ay4X+hfwn8cgllkkYgrbsAY2PcQ2qUxr0uigT2hcAr\nHY9fzfZJkipQ5KJjrZ3B69at49SpN5iZ+SXeeut/2bDhnDqLI0mVKzKt6GqgSejDBrgDOAP8Sccx\nB4ErCryHJK1Fh4AdZb7gFPCfwDZgIyGcvegoSWPqF4F/I1x8vKPmskiSJEkqKs/EnT/Nnj8EXJnt\nuxjYBzwHPAvcVm0xR2LYuliwHjgA7K2qgCNUpC42Aw8DzwOHCddqYlakLu4gfEeeAb4I/Eh1xRyJ\nfnVxKfBPwA+B3x3wXPWxntAVs40w93W1PvT3AX+fbf8s8K1s+wLaHfqbCN06Mfe/F6mLBb8DfAF4\ntLJSjkbRutgD/Ea2PQWcW1VBR6BIXWwD/ot2SP8VsKu6olYuT128DbgK+GOWBnaec0ci5rv15Zm4\ns5PwBQR4itB62gIcIVQ6wBuE1tTbqy1upYrUBcBFhC/u54j/BuFF6uJc4OeA+7PnTgMnqi1upYrU\nxVx2zjmE/3GdA3y38hJXJ09dfB/4NitvnjI2kwRjDuw8E3dWO+aiZcdsI/wz8KmSyzdKw9bFwjGf\nBn6fMCwzdkU+F+8gfGkfAP4V+HNCUMWqyOfiGHA38N/A/wCvA09UVtLqFZnoNzaTBGMO7LwTd5a3\nGDvP20Tor7yd0NKO1bB10QDeD3yP0H8de+sain0upoCfBv4s+30S2F1e0UZu2LoA+HHgtwkNmrcT\nviu/Wk6xalFkot/Y3DEu5sD+LuHi4YKLCf/n63XMRbT/WbcB+DLwF8AjFZVxVIrUxbsJ/yx+CXgI\nuB74fGUlrV6Rung1+/nnbP/DhOCOVZG6uAr4JvADQtfQ3xA+K7HKUxdVnKtMnok7nRdUrqZ9QaVB\nCKVPV17K0ShSF52uJf5RIkXr4hvAwkoYTZbO3I1NkbrYQRhBdTbh+7IH+HC1xa3UIBP9miy96Ogk\nwZKsNnHnluxnwWez5w/Rbi1dQ+ivPUjoCjhAe4p9rIati07XEv8oEShWF1cQWtiHCK3KmEeJQLG6\n+APaw/r2EP5VGrN+dXEBoa/6BHCc0H+/qce5kiRJkiRJkiRJkiRJkiRJkiRJksrw/74Bh+YwNRpQ\nAAAAAElFTkSuQmCC\n",
      "text/plain": [
       "<matplotlib.figure.Figure at 0x111ea4f50>"
      ]
     },
     "metadata": {},
     "output_type": "display_data"
    }
   ],
   "source": [
    "#Lower Ratio analysis\n",
    "print ks2stestpermutation(bishayee_coulter2_d[0],benchmark_sample_coulter,merged_coulter_data_d[0],1000)\n",
    "#Upper ratio analysis\n",
    "print ks2stestpermutation(bishayee_coulter2_d[1],benchmark_sample_coulter,merged_coulter_data_d[1],1000)"
   ]
  },
  {
   "cell_type": "markdown",
   "metadata": {
    "collapsed": true
   },
   "source": [
    "# Final Remarks"
   ]
  },
  {
   "cell_type": "code",
   "execution_count": null,
   "metadata": {
    "collapsed": true
   },
   "outputs": [],
   "source": []
  },
  {
   "cell_type": "code",
   "execution_count": null,
   "metadata": {
    "collapsed": true
   },
   "outputs": [],
   "source": []
  }
 ],
 "metadata": {
  "celltoolbar": "Raw Cell Format",
  "kernelspec": {
   "display_name": "Python 2",
   "language": "python",
   "name": "python2"
  },
  "language_info": {
   "codemirror_mode": {
    "name": "ipython",
    "version": 2
   },
   "file_extension": ".py",
   "mimetype": "text/x-python",
   "name": "python",
   "nbconvert_exporter": "python",
   "pygments_lexer": "ipython2",
   "version": "2.7.10"
  }
 },
 "nbformat": 4,
 "nbformat_minor": 0
}
