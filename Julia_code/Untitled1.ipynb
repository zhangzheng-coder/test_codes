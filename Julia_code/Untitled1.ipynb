{
 "cells": [
  {
   "cell_type": "code",
   "execution_count": 1,
   "metadata": {},
   "outputs": [
    {
     "name": "stderr",
     "output_type": "stream",
     "text": [
      "\u001b[1m\u001b[36mINFO: \u001b[39m\u001b[22m\u001b[36mRecompiling stale cache file /Users/jdlara/.julia/lib/v0.6/Ipopt.ji for module Ipopt.\n",
      "\u001b[39m"
     ]
    }
   ],
   "source": [
    "using PowerModels\n",
    "using Ipopt\n",
    "model_constructor = ACPPowerModel\n",
    "solver2 = IpoptSolver();"
   ]
  },
  {
   "cell_type": "code",
   "execution_count": 2,
   "metadata": {},
   "outputs": [],
   "source": [
    "cd(string(homedir(),\"/.julia/v0.6/PowerSchema/data_files/matpower\"));"
   ]
  },
  {
   "cell_type": "code",
   "execution_count": 3,
   "metadata": {},
   "outputs": [
    {
     "name": "stdout",
     "output_type": "stream",
     "text": [
      "\u001b[35m[warn | PowerModels]: added zero cost function data for dclines\n",
      "\u001b[39m\u001b[35m[warn | PowerModels]: removing 2 zeros from generator cost model (1)\n",
      "\u001b[39m\u001b[35m[warn | PowerModels]: removing 2 zeros from generator cost model (2)\n",
      "\u001b[39m\u001b[35m[warn | PowerModels]: removing 2 zeros from generator cost model (3)\n",
      "\u001b[39m\u001b[35m[warn | PowerModels]: removing 2 zeros from generator cost model (4)\n",
      "\u001b[39m\u001b[35m[warn | PowerModels]: removing 2 zeros from generator cost model (5)\n",
      "\u001b[39m"
     ]
    }
   ],
   "source": [
    "data = PowerModels.parse_matpower(\"case14.m\"); "
   ]
  },
  {
   "cell_type": "code",
   "execution_count": 4,
   "metadata": {},
   "outputs": [
    {
     "data": {
      "text/plain": [
       "PowerModels.GenericPowerModel{PowerModels.StandardACPForm}(Feasibility problem with:\n",
       " * 0 linear constraints\n",
       " * 0 variables\n",
       "Solver is default solver, Dict{String,Any}(Pair{String,Any}(\"bus\", Dict{String,Any}(Pair{String,Any}(\"4\", Dict{String,Any}(Pair{String,Any}(\"zone\", 1),Pair{String,Any}(\"bus_i\", 4),Pair{String,Any}(\"bus_type\", 1),Pair{String,Any}(\"vmax\", 1.06),Pair{String,Any}(\"area\", 1),Pair{String,Any}(\"bus_name\", \"Bus 4     HV\"),Pair{String,Any}(\"vmin\", 0.94),Pair{String,Any}(\"index\", 4),Pair{String,Any}(\"va\", -10.33),Pair{String,Any}(\"vm\", 1.019)…)),Pair{String,Any}(\"1\", Dict{String,Any}(Pair{String,Any}(\"zone\", 1),Pair{String,Any}(\"bus_i\", 1),Pair{String,Any}(\"bus_type\", 3),Pair{String,Any}(\"vmax\", 1.06),Pair{String,Any}(\"area\", 1),Pair{String,Any}(\"bus_name\", \"Bus 1     HV\"),Pair{String,Any}(\"vmin\", 0.94),Pair{String,Any}(\"index\", 1),Pair{String,Any}(\"va\", 0.0),Pair{String,Any}(\"vm\", 1.06)…)),Pair{String,Any}(\"12\", Dict{String,Any}(Pair{String,Any}(\"zone\", 1),Pair{String,Any}(\"bus_i\", 12),Pair{String,Any}(\"bus_type\", 1),Pair{String,Any}(\"vmax\", 1.06),Pair{String,Any}(\"area\", 1),Pair{String,Any}(\"bus_name\", \"Bus 12    LV\"),Pair{String,Any}(\"vmin\", 0.94),Pair{String,Any}(\"index\", 12),Pair{String,Any}(\"va\", -15.07),Pair{String,Any}(\"vm\", 1.055)…)),Pair{String,Any}(\"2\", Dict{String,Any}(Pair{String,Any}(\"zone\", 1),Pair{String,Any}(\"bus_i\", 2),Pair{String,Any}(\"bus_type\", 2),Pair{String,Any}(\"vmax\", 1.06),Pair{String,Any}(\"area\", 1),Pair{String,Any}(\"bus_name\", \"Bus 2     HV\"),Pair{String,Any}(\"vmin\", 0.94),Pair{String,Any}(\"index\", 2),Pair{String,Any}(\"va\", -4.98),Pair{String,Any}(\"vm\", 1.045)…)),Pair{String,Any}(\"6\", Dict{String,Any}(Pair{String,Any}(\"zone\", 1),Pair{String,Any}(\"bus_i\", 6),Pair{String,Any}(\"bus_type\", 2),Pair{String,Any}(\"vmax\", 1.06),Pair{String,Any}(\"area\", 1),Pair{String,Any}(\"bus_name\", \"Bus 6     LV\"),Pair{String,Any}(\"vmin\", 0.94),Pair{String,Any}(\"index\", 6),Pair{String,Any}(\"va\", -14.22),Pair{String,Any}(\"vm\", 1.07)…)),Pair{String,Any}(\"11\", Dict{String,Any}(Pair{String,Any}(\"zone\", 1),Pair{String,Any}(\"bus_i\", 11),Pair{String,Any}(\"bus_type\", 1),Pair{String,Any}(\"vmax\", 1.06),Pair{String,Any}(\"area\", 1),Pair{String,Any}(\"bus_name\", \"Bus 11    LV\"),Pair{String,Any}(\"vmin\", 0.94),Pair{String,Any}(\"index\", 11),Pair{String,Any}(\"va\", -14.79),Pair{String,Any}(\"vm\", 1.057)…)),Pair{String,Any}(\"13\", Dict{String,Any}(Pair{String,Any}(\"zone\", 1),Pair{String,Any}(\"bus_i\", 13),Pair{String,Any}(\"bus_type\", 1),Pair{String,Any}(\"vmax\", 1.06),Pair{String,Any}(\"area\", 1),Pair{String,Any}(\"bus_name\", \"Bus 13    LV\"),Pair{String,Any}(\"vmin\", 0.94),Pair{String,Any}(\"index\", 13),Pair{String,Any}(\"va\", -15.16),Pair{String,Any}(\"vm\", 1.05)…)),Pair{String,Any}(\"5\", Dict{String,Any}(Pair{String,Any}(\"zone\", 1),Pair{String,Any}(\"bus_i\", 5),Pair{String,Any}(\"bus_type\", 1),Pair{String,Any}(\"vmax\", 1.06),Pair{String,Any}(\"area\", 1),Pair{String,Any}(\"bus_name\", \"Bus 5     HV\"),Pair{String,Any}(\"vmin\", 0.94),Pair{String,Any}(\"index\", 5),Pair{String,Any}(\"va\", -8.78),Pair{String,Any}(\"vm\", 1.02)…)),Pair{String,Any}(\"14\", Dict{String,Any}(Pair{String,Any}(\"zone\", 1),Pair{String,Any}(\"bus_i\", 14),Pair{String,Any}(\"bus_type\", 1),Pair{String,Any}(\"vmax\", 1.06),Pair{String,Any}(\"area\", 1),Pair{String,Any}(\"bus_name\", \"Bus 14    LV\"),Pair{String,Any}(\"vmin\", 0.94),Pair{String,Any}(\"index\", 14),Pair{String,Any}(\"va\", -16.04),Pair{String,Any}(\"vm\", 1.036)…)),Pair{String,Any}(\"7\", Dict{String,Any}(Pair{String,Any}(\"zone\", 1),Pair{String,Any}(\"bus_i\", 7),Pair{String,Any}(\"bus_type\", 1),Pair{String,Any}(\"vmax\", 1.06),Pair{String,Any}(\"area\", 1),Pair{String,Any}(\"bus_name\", \"Bus 7     ZV\"),Pair{String,Any}(\"vmin\", 0.94),Pair{String,Any}(\"index\", 7),Pair{String,Any}(\"va\", -13.37),Pair{String,Any}(\"vm\", 1.062)…))…)),Pair{String,Any}(\"source_type\", \"matpower\"),Pair{String,Any}(\"name\", \"case14\"),Pair{String,Any}(\"dcline\", Dict{String,Any}()),Pair{String,Any}(\"source_version\", v\"2.0.0\"),Pair{String,Any}(\"gen\", Dict{String,Any}(Pair{String,Any}(\"4\", Dict{String,Any}(Pair{String,Any}(\"ncost\", 3),Pair{String,Any}(\"qc1max\", 0.0),Pair{String,Any}(\"pg\", 0.0),Pair{String,Any}(\"model\", 2),Pair{String,Any}(\"shutdown\", 0.0),Pair{String,Any}(\"startup\", 0.0),Pair{String,Any}(\"qc2max\", 0.0),Pair{String,Any}(\"ramp_agc\", 0.0),Pair{String,Any}(\"qg\", 12.2),Pair{String,Any}(\"gen_bus\", 6)…)),Pair{String,Any}(\"1\", Dict{String,Any}(Pair{String,Any}(\"ncost\", 3),Pair{String,Any}(\"qc1max\", 0.0),Pair{String,Any}(\"pg\", 232.4),Pair{String,Any}(\"model\", 2),Pair{String,Any}(\"shutdown\", 0.0),Pair{String,Any}(\"startup\", 0.0),Pair{String,Any}(\"qc2max\", 0.0),Pair{String,Any}(\"ramp_agc\", 0.0),Pair{String,Any}(\"qg\", -16.9),Pair{String,Any}(\"gen_bus\", 1)…)),Pair{String,Any}(\"5\", Dict{String,Any}(Pair{String,Any}(\"ncost\", 3),Pair{String,Any}(\"qc1max\", 0.0),Pair{String,Any}(\"pg\", 0.0),Pair{String,Any}(\"model\", 2),Pair{String,Any}(\"shutdown\", 0.0),Pair{String,Any}(\"startup\", 0.0),Pair{String,Any}(\"qc2max\", 0.0),Pair{String,Any}(\"ramp_agc\", 0.0),Pair{String,Any}(\"qg\", 17.4),Pair{String,Any}(\"gen_bus\", 8)…)),Pair{String,Any}(\"2\", Dict{String,Any}(Pair{String,Any}(\"ncost\", 3),Pair{String,Any}(\"qc1max\", 0.0),Pair{String,Any}(\"pg\", 40.0),Pair{String,Any}(\"model\", 2),Pair{String,Any}(\"shutdown\", 0.0),Pair{String,Any}(\"startup\", 0.0),Pair{String,Any}(\"qc2max\", 0.0),Pair{String,Any}(\"ramp_agc\", 0.0),Pair{String,Any}(\"qg\", 42.4),Pair{String,Any}(\"gen_bus\", 2)…)),Pair{String,Any}(\"3\", Dict{String,Any}(Pair{String,Any}(\"ncost\", 3),Pair{String,Any}(\"qc1max\", 0.0),Pair{String,Any}(\"pg\", 0.0),Pair{String,Any}(\"model\", 2),Pair{String,Any}(\"shutdown\", 0.0),Pair{String,Any}(\"startup\", 0.0),Pair{String,Any}(\"qc2max\", 0.0),Pair{String,Any}(\"ramp_agc\", 0.0),Pair{String,Any}(\"qg\", 23.4),Pair{String,Any}(\"gen_bus\", 3)…)))),Pair{String,Any}(\"branch\", Dict{String,Any}(Pair{String,Any}(\"4\", Dict{String,Any}(Pair{String,Any}(\"br_r\", 0.05811),Pair{String,Any}(\"rate_a\", 0.0),Pair{String,Any}(\"shift\", 0.0),Pair{String,Any}(\"rate_b\", 0.0),Pair{String,Any}(\"br_x\", 0.17632),Pair{String,Any}(\"rate_c\", 0.0),Pair{String,Any}(\"g_to\", 0.0),Pair{String,Any}(\"g_fr\", 0.0),Pair{String,Any}(\"b_fr\", 0.017),Pair{String,Any}(\"f_bus\", 2)…)),Pair{String,Any}(\"1\", Dict{String,Any}(Pair{String,Any}(\"br_r\", 0.01938),Pair{String,Any}(\"rate_a\", 0.0),Pair{String,Any}(\"shift\", 0.0),Pair{String,Any}(\"rate_b\", 0.0),Pair{String,Any}(\"br_x\", 0.05917),Pair{String,Any}(\"rate_c\", 0.0),Pair{String,Any}(\"g_to\", 0.0),Pair{String,Any}(\"g_fr\", 0.0),Pair{String,Any}(\"b_fr\", 0.0264),Pair{String,Any}(\"f_bus\", 1)…)),Pair{String,Any}(\"12\", Dict{String,Any}(Pair{String,Any}(\"br_r\", 0.12291),Pair{String,Any}(\"rate_a\", 0.0),Pair{String,Any}(\"shift\", 0.0),Pair{String,Any}(\"rate_b\", 0.0),Pair{String,Any}(\"br_x\", 0.25581),Pair{String,Any}(\"rate_c\", 0.0),Pair{String,Any}(\"g_to\", 0.0),Pair{String,Any}(\"g_fr\", 0.0),Pair{String,Any}(\"b_fr\", 0.0),Pair{String,Any}(\"f_bus\", 6)…)),Pair{String,Any}(\"20\", Dict{String,Any}(Pair{String,Any}(\"br_r\", 0.17093),Pair{String,Any}(\"rate_a\", 0.0),Pair{String,Any}(\"shift\", 0.0),Pair{String,Any}(\"rate_b\", 0.0),Pair{String,Any}(\"br_x\", 0.34802),Pair{String,Any}(\"rate_c\", 0.0),Pair{String,Any}(\"g_to\", 0.0),Pair{String,Any}(\"g_fr\", 0.0),Pair{String,Any}(\"b_fr\", 0.0),Pair{String,Any}(\"f_bus\", 13)…)),Pair{String,Any}(\"2\", Dict{String,Any}(Pair{String,Any}(\"br_r\", 0.05403),Pair{String,Any}(\"rate_a\", 0.0),Pair{String,Any}(\"shift\", 0.0),Pair{String,Any}(\"rate_b\", 0.0),Pair{String,Any}(\"br_x\", 0.22304),Pair{String,Any}(\"rate_c\", 0.0),Pair{String,Any}(\"g_to\", 0.0),Pair{String,Any}(\"g_fr\", 0.0),Pair{String,Any}(\"b_fr\", 0.0246),Pair{String,Any}(\"f_bus\", 1)…)),Pair{String,Any}(\"6\", Dict{String,Any}(Pair{String,Any}(\"br_r\", 0.06701),Pair{String,Any}(\"rate_a\", 0.0),Pair{String,Any}(\"shift\", 0.0),Pair{String,Any}(\"rate_b\", 0.0),Pair{String,Any}(\"br_x\", 0.17103),Pair{String,Any}(\"rate_c\", 0.0),Pair{String,Any}(\"g_to\", 0.0),Pair{String,Any}(\"g_fr\", 0.0),Pair{String,Any}(\"b_fr\", 0.0064),Pair{String,Any}(\"f_bus\", 3)…)),Pair{String,Any}(\"11\", Dict{String,Any}(Pair{String,Any}(\"br_r\", 0.09498),Pair{String,Any}(\"rate_a\", 0.0),Pair{String,Any}(\"shift\", 0.0),Pair{String,Any}(\"rate_b\", 0.0),Pair{String,Any}(\"br_x\", 0.1989),Pair{String,Any}(\"rate_c\", 0.0),Pair{String,Any}(\"g_to\", 0.0),Pair{String,Any}(\"g_fr\", 0.0),Pair{String,Any}(\"b_fr\", 0.0),Pair{String,Any}(\"f_bus\", 6)…)),Pair{String,Any}(\"13\", Dict{String,Any}(Pair{String,Any}(\"br_r\", 0.06615),Pair{String,Any}(\"rate_a\", 0.0),Pair{String,Any}(\"shift\", 0.0),Pair{String,Any}(\"rate_b\", 0.0),Pair{String,Any}(\"br_x\", 0.13027),Pair{String,Any}(\"rate_c\", 0.0),Pair{String,Any}(\"g_to\", 0.0),Pair{String,Any}(\"g_fr\", 0.0),Pair{String,Any}(\"b_fr\", 0.0),Pair{String,Any}(\"f_bus\", 6)…)),Pair{String,Any}(\"5\", Dict{String,Any}(Pair{String,Any}(\"br_r\", 0.05695),Pair{String,Any}(\"rate_a\", 0.0),Pair{String,Any}(\"shift\", 0.0),Pair{String,Any}(\"rate_b\", 0.0),Pair{String,Any}(\"br_x\", 0.17388),Pair{String,Any}(\"rate_c\", 0.0),Pair{String,Any}(\"g_to\", 0.0),Pair{String,Any}(\"g_fr\", 0.0),Pair{String,Any}(\"b_fr\", 0.0173),Pair{String,Any}(\"f_bus\", 2)…)),Pair{String,Any}(\"15\", Dict{String,Any}(Pair{String,Any}(\"br_r\", 0.0),Pair{String,Any}(\"rate_a\", 0.0),Pair{String,Any}(\"shift\", 0.0),Pair{String,Any}(\"rate_b\", 0.0),Pair{String,Any}(\"br_x\", 0.11001),Pair{String,Any}(\"rate_c\", 0.0),Pair{String,Any}(\"g_to\", 0.0),Pair{String,Any}(\"g_fr\", 0.0),Pair{String,Any}(\"b_fr\", 0.0),Pair{String,Any}(\"f_bus\", 7)…))…)),Pair{String,Any}(\"multinetwork\", false),Pair{String,Any}(\"baseMVA\", 100),Pair{String,Any}(\"shunt\", Dict{String,Any}(Pair{String,Any}(\"1\", Dict{String,Any}(Pair{String,Any}(\"shunt_bus\", 9),Pair{String,Any}(\"status\", 1),Pair{String,Any}(\"gs\", 0.0),Pair{String,Any}(\"bs\", 19.0),Pair{String,Any}(\"index\", 1)))))…), Dict{String,Any}(), Dict{String,Any}(), Dict{Symbol,Any}(Pair{Symbol,Any}(:nw, Dict{Int64,Any}(Pair{Int64,Any}(0, Dict{Symbol,Any}(Pair{Symbol,Any}(:arcs_to, Tuple{Int64,Int64,Int64}[(1, 2, 1), (2, 5, 1), (16, 10, 9), (11, 11, 6), (7, 5, 4), (9, 9, 4), (10, 6, 5), (19, 13, 12), (17, 14, 9), (8, 7, 4), (6, 4, 3), (4, 4, 2), (3, 3, 2), (5, 5, 2), (20, 14, 13), (13, 13, 6), (14, 8, 7), (15, 9, 7), (12, 12, 6), (18, 11, 10)]),Pair{Symbol,Any}(:arcs_dc_param, Dict{Any,Any}()),Pair{Symbol,Any}(:bus_gens, Dict(2=>Any[2],11=>Any[],7=>Any[],9=>Any[],10=>Any[],8=>Any[5],6=>Any[4],4=>Any[],3=>Any[3],5=>Any[]…)),Pair{Symbol,Any}(:bus_arcs, Dict(2=>Any[(4, 2, 4), (3, 2, 3), (5, 2, 5), (1, 2, 1)],11=>Any[(11, 11, 6), (18, 11, 10)],7=>Any[(14, 7, 8), (15, 7, 9), (8, 7, 4)],9=>Any[(16, 9, 10), (17, 9, 14), (9, 9, 4), (15, 9, 7)],10=>Any[(18, 10, 11), (16, 10, 9)],8=>Any[(14, 8, 7)],6=>Any[(11, 6, 11), (13, 6, 13), (12, 6, 12), (10, 6, 5)],4=>Any[(7, 4, 5), (9, 4, 9), (8, 4, 7), (6, 4, 3), (4, 4, 2)],3=>Any[(6, 3, 4), (3, 3, 2)],5=>Any[(10, 5, 6), (2, 5, 1), (7, 5, 4), (5, 5, 2)]…)),Pair{Symbol,Any}(:buspairs, Dict((2, 3)=>Dict(\"vm_to_min\"=>0.94,\"vm_fr_min\"=>0.94,\"angmin\"=>-360.0,\"branch\"=>3.0,\"angmax\"=>360.0,\"rate_a\"=>0.0,\"tap\"=>1.0,\"vm_to_max\"=>1.06,\"vm_fr_max\"=>1.06),(13, 14)=>Dict(\"vm_to_min\"=>0.94,\"vm_fr_min\"=>0.94,\"angmin\"=>-360.0,\"branch\"=>20.0,\"angmax\"=>360.0,\"rate_a\"=>0.0,\"tap\"=>1.0,\"vm_to_max\"=>1.06,\"vm_fr_max\"=>1.06),(6, 13)=>Dict(\"vm_to_min\"=>0.94,\"vm_fr_min\"=>0.94,\"angmin\"=>-360.0,\"branch\"=>13.0,\"angmax\"=>360.0,\"rate_a\"=>0.0,\"tap\"=>1.0,\"vm_to_max\"=>1.06,\"vm_fr_max\"=>1.06),(5, 6)=>Dict(\"vm_to_min\"=>0.94,\"vm_fr_min\"=>0.94,\"angmin\"=>-360.0,\"branch\"=>10.0,\"angmax\"=>360.0,\"rate_a\"=>0.0,\"tap\"=>0.932,\"vm_to_max\"=>1.06,\"vm_fr_max\"=>1.06),(10, 11)=>Dict(\"vm_to_min\"=>0.94,\"vm_fr_min\"=>0.94,\"angmin\"=>-360.0,\"branch\"=>18.0,\"angmax\"=>360.0,\"rate_a\"=>0.0,\"tap\"=>1.0,\"vm_to_max\"=>1.06,\"vm_fr_max\"=>1.06),(6, 12)=>Dict(\"vm_to_min\"=>0.94,\"vm_fr_min\"=>0.94,\"angmin\"=>-360.0,\"branch\"=>12.0,\"angmax\"=>360.0,\"rate_a\"=>0.0,\"tap\"=>1.0,\"vm_to_max\"=>1.06,\"vm_fr_max\"=>1.06),(2, 5)=>Dict(\"vm_to_min\"=>0.94,\"vm_fr_min\"=>0.94,\"angmin\"=>-360.0,\"branch\"=>5.0,\"angmax\"=>360.0,\"rate_a\"=>0.0,\"tap\"=>1.0,\"vm_to_max\"=>1.06,\"vm_fr_max\"=>1.06),(4, 7)=>Dict(\"vm_to_min\"=>0.94,\"vm_fr_min\"=>0.94,\"angmin\"=>-360.0,\"branch\"=>8.0,\"angmax\"=>360.0,\"rate_a\"=>0.0,\"tap\"=>0.978,\"vm_to_max\"=>1.06,\"vm_fr_max\"=>1.06),(12, 13)=>Dict(\"vm_to_min\"=>0.94,\"vm_fr_min\"=>0.94,\"angmin\"=>-360.0,\"branch\"=>19.0,\"angmax\"=>360.0,\"rate_a\"=>0.0,\"tap\"=>1.0,\"vm_to_max\"=>1.06,\"vm_fr_max\"=>1.06),(4, 5)=>Dict(\"vm_to_min\"=>0.94,\"vm_fr_min\"=>0.94,\"angmin\"=>-360.0,\"branch\"=>7.0,\"angmax\"=>360.0,\"rate_a\"=>0.0,\"tap\"=>1.0,\"vm_to_max\"=>1.06,\"vm_fr_max\"=>1.06)…)),Pair{Symbol,Any}(:bus, Dict(2=>Dict{String,Any}(Pair{String,Any}(\"zone\", 1),Pair{String,Any}(\"bus_i\", 2),Pair{String,Any}(\"bus_type\", 2),Pair{String,Any}(\"vmax\", 1.06),Pair{String,Any}(\"area\", 1),Pair{String,Any}(\"bus_name\", \"Bus 2     HV\"),Pair{String,Any}(\"vmin\", 0.94),Pair{String,Any}(\"index\", 2),Pair{String,Any}(\"va\", -4.98),Pair{String,Any}(\"vm\", 1.045)…),11=>Dict{String,Any}(Pair{String,Any}(\"zone\", 1),Pair{String,Any}(\"bus_i\", 11),Pair{String,Any}(\"bus_type\", 1),Pair{String,Any}(\"vmax\", 1.06),Pair{String,Any}(\"area\", 1),Pair{String,Any}(\"bus_name\", \"Bus 11    LV\"),Pair{String,Any}(\"vmin\", 0.94),Pair{String,Any}(\"index\", 11),Pair{String,Any}(\"va\", -14.79),Pair{String,Any}(\"vm\", 1.057)…),7=>Dict{String,Any}(Pair{String,Any}(\"zone\", 1),Pair{String,Any}(\"bus_i\", 7),Pair{String,Any}(\"bus_type\", 1),Pair{String,Any}(\"vmax\", 1.06),Pair{String,Any}(\"area\", 1),Pair{String,Any}(\"bus_name\", \"Bus 7     ZV\"),Pair{String,Any}(\"vmin\", 0.94),Pair{String,Any}(\"index\", 7),Pair{String,Any}(\"va\", -13.37),Pair{String,Any}(\"vm\", 1.062)…),9=>Dict{String,Any}(Pair{String,Any}(\"zone\", 1),Pair{String,Any}(\"bus_i\", 9),Pair{String,Any}(\"bus_type\", 1),Pair{String,Any}(\"vmax\", 1.06),Pair{String,Any}(\"area\", 1),Pair{String,Any}(\"bus_name\", \"Bus 9     LV\"),Pair{String,Any}(\"vmin\", 0.94),Pair{String,Any}(\"index\", 9),Pair{String,Any}(\"va\", -14.94),Pair{String,Any}(\"vm\", 1.056)…),10=>Dict{String,Any}(Pair{String,Any}(\"zone\", 1),Pair{String,Any}(\"bus_i\", 10),Pair{String,Any}(\"bus_type\", 1),Pair{String,Any}(\"vmax\", 1.06),Pair{String,Any}(\"area\", 1),Pair{String,Any}(\"bus_name\", \"Bus 10    LV\"),Pair{String,Any}(\"vmin\", 0.94),Pair{String,Any}(\"index\", 10),Pair{String,Any}(\"va\", -15.1),Pair{String,Any}(\"vm\", 1.051)…),8=>Dict{String,Any}(Pair{String,Any}(\"zone\", 1),Pair{String,Any}(\"bus_i\", 8),Pair{String,Any}(\"bus_type\", 1),Pair{String,Any}(\"vmax\", 1.06),Pair{String,Any}(\"area\", 1),Pair{String,Any}(\"bus_name\", \"Bus 8     TV\"),Pair{String,Any}(\"vmin\", 0.94),Pair{String,Any}(\"index\", 8),Pair{String,Any}(\"va\", -13.36),Pair{String,Any}(\"vm\", 1.09)…),6=>Dict{String,Any}(Pair{String,Any}(\"zone\", 1),Pair{String,Any}(\"bus_i\", 6),Pair{String,Any}(\"bus_type\", 2),Pair{String,Any}(\"vmax\", 1.06),Pair{String,Any}(\"area\", 1),Pair{String,Any}(\"bus_name\", \"Bus 6     LV\"),Pair{String,Any}(\"vmin\", 0.94),Pair{String,Any}(\"index\", 6),Pair{String,Any}(\"va\", -14.22),Pair{String,Any}(\"vm\", 1.07)…),4=>Dict{String,Any}(Pair{String,Any}(\"zone\", 1),Pair{String,Any}(\"bus_i\", 4),Pair{String,Any}(\"bus_type\", 1),Pair{String,Any}(\"vmax\", 1.06),Pair{String,Any}(\"area\", 1),Pair{String,Any}(\"bus_name\", \"Bus 4     HV\"),Pair{String,Any}(\"vmin\", 0.94),Pair{String,Any}(\"index\", 4),Pair{String,Any}(\"va\", -10.33),Pair{String,Any}(\"vm\", 1.019)…),3=>Dict{String,Any}(Pair{String,Any}(\"zone\", 1),Pair{String,Any}(\"bus_i\", 3),Pair{String,Any}(\"bus_type\", 2),Pair{String,Any}(\"vmax\", 1.06),Pair{String,Any}(\"area\", 1),Pair{String,Any}(\"bus_name\", \"Bus 3     HV\"),Pair{String,Any}(\"vmin\", 0.94),Pair{String,Any}(\"index\", 3),Pair{String,Any}(\"va\", -12.72),Pair{String,Any}(\"vm\", 1.01)…),5=>Dict{String,Any}(Pair{String,Any}(\"zone\", 1),Pair{String,Any}(\"bus_i\", 5),Pair{String,Any}(\"bus_type\", 1),Pair{String,Any}(\"vmax\", 1.06),Pair{String,Any}(\"area\", 1),Pair{String,Any}(\"bus_name\", \"Bus 5     HV\"),Pair{String,Any}(\"vmin\", 0.94),Pair{String,Any}(\"index\", 5),Pair{String,Any}(\"va\", -8.78),Pair{String,Any}(\"vm\", 1.02)…)…)),Pair{Symbol,Any}(:dcline, Dict{Int64,Any}()),Pair{Symbol,Any}(:arcs_to_dc, Tuple{Int64,Any,Any}[]),Pair{Symbol,Any}(:bus_loads, Dict(2=>Any[1],11=>Any[8],7=>Any[],9=>Any[6],10=>Any[7],8=>Any[],6=>Any[5],4=>Any[3],3=>Any[2],5=>Any[4]…)),Pair{Symbol,Any}(:branch, Dict(1=>Dict{String,Any}(Pair{String,Any}(\"br_r\", 0.01938),Pair{String,Any}(\"rate_a\", 0.0),Pair{String,Any}(\"shift\", 0.0),Pair{String,Any}(\"rate_b\", 0.0),Pair{String,Any}(\"br_x\", 0.05917),Pair{String,Any}(\"rate_c\", 0.0),Pair{String,Any}(\"g_to\", 0.0),Pair{String,Any}(\"g_fr\", 0.0),Pair{String,Any}(\"b_fr\", 0.0264),Pair{String,Any}(\"f_bus\", 1)…),2=>Dict{String,Any}(Pair{String,Any}(\"br_r\", 0.05403),Pair{String,Any}(\"rate_a\", 0.0),Pair{String,Any}(\"shift\", 0.0),Pair{String,Any}(\"rate_b\", 0.0),Pair{String,Any}(\"br_x\", 0.22304),Pair{String,Any}(\"rate_c\", 0.0),Pair{String,Any}(\"g_to\", 0.0),Pair{String,Any}(\"g_fr\", 0.0),Pair{String,Any}(\"b_fr\", 0.0246),Pair{String,Any}(\"f_bus\", 1)…),16=>Dict{String,Any}(Pair{String,Any}(\"br_r\", 0.03181),Pair{String,Any}(\"rate_a\", 0.0),Pair{String,Any}(\"shift\", 0.0),Pair{String,Any}(\"rate_b\", 0.0),Pair{String,Any}(\"br_x\", 0.0845),Pair{String,Any}(\"rate_c\", 0.0),Pair{String,Any}(\"g_to\", 0.0),Pair{String,Any}(\"g_fr\", 0.0),Pair{String,Any}(\"b_fr\", 0.0),Pair{String,Any}(\"f_bus\", 9)…),11=>Dict{String,Any}(Pair{String,Any}(\"br_r\", 0.09498),Pair{String,Any}(\"rate_a\", 0.0),Pair{String,Any}(\"shift\", 0.0),Pair{String,Any}(\"rate_b\", 0.0),Pair{String,Any}(\"br_x\", 0.1989),Pair{String,Any}(\"rate_c\", 0.0),Pair{String,Any}(\"g_to\", 0.0),Pair{String,Any}(\"g_fr\", 0.0),Pair{String,Any}(\"b_fr\", 0.0),Pair{String,Any}(\"f_bus\", 6)…),7=>Dict{String,Any}(Pair{String,Any}(\"br_r\", 0.01335),Pair{String,Any}(\"rate_a\", 0.0),Pair{String,Any}(\"shift\", 0.0),Pair{String,Any}(\"rate_b\", 0.0),Pair{String,Any}(\"br_x\", 0.04211),Pair{String,Any}(\"rate_c\", 0.0),Pair{String,Any}(\"g_to\", 0.0),Pair{String,Any}(\"g_fr\", 0.0),Pair{String,Any}(\"b_fr\", 0.0),Pair{String,Any}(\"f_bus\", 4)…),9=>Dict{String,Any}(Pair{String,Any}(\"br_r\", 0.0),Pair{String,Any}(\"rate_a\", 0.0),Pair{String,Any}(\"shift\", 0.0),Pair{String,Any}(\"rate_b\", 0.0),Pair{String,Any}(\"br_x\", 0.55618),Pair{String,Any}(\"rate_c\", 0.0),Pair{String,Any}(\"g_to\", 0.0),Pair{String,Any}(\"g_fr\", 0.0),Pair{String,Any}(\"b_fr\", 0.0),Pair{String,Any}(\"f_bus\", 4)…),10=>Dict{String,Any}(Pair{String,Any}(\"br_r\", 0.0),Pair{String,Any}(\"rate_a\", 0.0),Pair{String,Any}(\"shift\", 0.0),Pair{String,Any}(\"rate_b\", 0.0),Pair{String,Any}(\"br_x\", 0.25202),Pair{String,Any}(\"rate_c\", 0.0),Pair{String,Any}(\"g_to\", 0.0),Pair{String,Any}(\"g_fr\", 0.0),Pair{String,Any}(\"b_fr\", 0.0),Pair{String,Any}(\"f_bus\", 5)…),19=>Dict{String,Any}(Pair{String,Any}(\"br_r\", 0.22092),Pair{String,Any}(\"rate_a\", 0.0),Pair{String,Any}(\"shift\", 0.0),Pair{String,Any}(\"rate_b\", 0.0),Pair{String,Any}(\"br_x\", 0.19988),Pair{String,Any}(\"rate_c\", 0.0),Pair{String,Any}(\"g_to\", 0.0),Pair{String,Any}(\"g_fr\", 0.0),Pair{String,Any}(\"b_fr\", 0.0),Pair{String,Any}(\"f_bus\", 12)…),17=>Dict{String,Any}(Pair{String,Any}(\"br_r\", 0.12711),Pair{String,Any}(\"rate_a\", 0.0),Pair{String,Any}(\"shift\", 0.0),Pair{String,Any}(\"rate_b\", 0.0),Pair{String,Any}(\"br_x\", 0.27038),Pair{String,Any}(\"rate_c\", 0.0),Pair{String,Any}(\"g_to\", 0.0),Pair{String,Any}(\"g_fr\", 0.0),Pair{String,Any}(\"b_fr\", 0.0),Pair{String,Any}(\"f_bus\", 9)…),8=>Dict{String,Any}(Pair{String,Any}(\"br_r\", 0.0),Pair{String,Any}(\"rate_a\", 0.0),Pair{String,Any}(\"shift\", 0.0),Pair{String,Any}(\"rate_b\", 0.0),Pair{String,Any}(\"br_x\", 0.20912),Pair{String,Any}(\"rate_c\", 0.0),Pair{String,Any}(\"g_to\", 0.0),Pair{String,Any}(\"g_fr\", 0.0),Pair{String,Any}(\"b_fr\", 0.0),Pair{String,Any}(\"f_bus\", 4)…)…))…))))), Dict{Symbol,Any}(Pair{Symbol,Any}(:nw, Dict{Int64,Any}(Pair{Int64,Any}(0, Dict{Symbol,Any}())))), Dict{Symbol,Any}(Pair{Symbol,Any}(:nw, Dict{Int64,Any}(Pair{Int64,Any}(0, Dict{Symbol,Any}())))), 0, Dict{Symbol,Any}())"
      ]
     },
     "execution_count": 4,
     "metadata": {},
     "output_type": "execute_result"
    }
   ],
   "source": [
    "model = PowerModels.ACPPowerModel(data)"
   ]
  },
  {
   "cell_type": "code",
   "execution_count": 6,
   "metadata": {},
   "outputs": [],
   "source": [
    "PowerModels.post_opf(model)"
   ]
  },
  {
   "cell_type": "code",
   "execution_count": 10,
   "metadata": {},
   "outputs": [
    {
     "data": {
      "text/latex": [
       "$$ 0.94 \\leq 0_vm_{i} \\leq 1.06 \\quad\\forall i \\in \\{2,11,\\dots,12,1\\} $$"
      ],
      "text/plain": [
       "0.94 ≤ 0_vm[i] ≤ 1.06 ∀ i ∈ {2,11,…,12,1}"
      ]
     },
     "execution_count": 10,
     "metadata": {},
     "output_type": "execute_result"
    }
   ],
   "source": [
    "PowerModels.variable_voltage(model)"
   ]
  },
  {
   "cell_type": "code",
   "execution_count": 15,
   "metadata": {},
   "outputs": [
    {
     "data": {
      "text/plain": [
       "Base.KeyIterator for a Dict{Int64,Dict{String,Any}} with 14 entries. Keys:\n",
       "  2\n",
       "  11\n",
       "  7\n",
       "  9\n",
       "  10\n",
       "  8\n",
       "  6\n",
       "  4\n",
       "  3\n",
       "  5\n",
       "  13\n",
       "  14\n",
       "  12\n",
       "  1"
      ]
     },
     "execution_count": 15,
     "metadata": {},
     "output_type": "execute_result"
    }
   ],
   "source": [
    "keys(model.ref[:nw][0][:bus])"
   ]
  },
  {
   "cell_type": "code",
   "execution_count": 21,
   "metadata": {},
   "outputs": [
    {
     "data": {
      "text/latex": [
       "$$ 0.94 \\leq 0_vm_{i} \\leq 1.06 \\quad\\forall i \\in \\{2,11,\\dots,12,1\\} $$"
      ],
      "text/plain": [
       "0.94 ≤ 0_vm[i] ≤ 1.06 ∀ i ∈ {2,11,…,12,1}"
      ]
     },
     "execution_count": 21,
     "metadata": {},
     "output_type": "execute_result"
    }
   ],
   "source": [
    "model.var[:nw][0][:vm]"
   ]
  },
  {
   "cell_type": "code",
   "execution_count": null,
   "metadata": {},
   "outputs": [],
   "source": []
  }
 ],
 "metadata": {
  "kernelspec": {
   "display_name": "Julia 0.6.2",
   "language": "julia",
   "name": "julia-0.6"
  },
  "language_info": {
   "file_extension": ".jl",
   "mimetype": "application/julia",
   "name": "julia",
   "version": "0.6.2"
  }
 },
 "nbformat": 4,
 "nbformat_minor": 2
}
