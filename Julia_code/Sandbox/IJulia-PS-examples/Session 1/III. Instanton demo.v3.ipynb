{
 "metadata": {
  "kernelspec": {
   "display_name": "Julia",
   "name": "julia"
  },
  "language": "Julia",
  "language_info": {
   "name": "julia",
   "version": "0.3.5"
  },
  "name": ""
 },
 "nbformat": 3,
 "nbformat_minor": 0,
 "worksheets": [
  {
   "cells": [
    {
     "cell_type": "heading",
     "level": 1,
     "metadata": {},
     "source": [
      "Instanton demo"
     ]
    },
    {
     "cell_type": "markdown",
     "metadata": {},
     "source": [
      "The function `instantonAnalysis` handles several varieties of the instanton problem:\n",
      "```julia\n",
      "instantonAnalysis(psData; method=\"lagrange\",\n",
      "                          constraintType=\"activeFlow\",\n",
      "                          genResponse=\"droop\")\n",
      "```\n",
      "\n",
      "The three [keyword arguments][1] determine which instanton analysis method to call.\n",
      "\n",
      "[1]: http://julia.readthedocs.org/en/latest/manual/functions/#keyword-arguments"
     ]
    },
    {
     "cell_type": "markdown",
     "metadata": {},
     "source": [
      "Let's use Ipopt to solve the instanton problem with active power flows and proportional conventional generator response. First, make sure all necessary packages are available:"
     ]
    },
    {
     "cell_type": "code",
     "collapsed": false,
     "input": [
      "# Install and update all required packages:\n",
      "Pkg.add(\"MAT\")\n",
      "Pkg.add(\"Ipopt\")\n",
      "Pkg.add(\"JuMP\")\n",
      "Pkg.add(\"GraphViz\")\n",
      "Pkg.update()"
     ],
     "language": "python",
     "metadata": {},
     "outputs": [],
     "prompt_number": null
    },
    {
     "cell_type": "markdown",
     "metadata": {},
     "source": [
      "Now make sure the `julia-code` directory is beneath the current directory:"
     ]
    },
    {
     "cell_type": "code",
     "collapsed": false,
     "input": [
      "readdir(\"julia-code\")"
     ],
     "language": "python",
     "metadata": {},
     "outputs": [],
     "prompt_number": null
    },
    {
     "cell_type": "markdown",
     "metadata": {},
     "source": [
      "Now we include instanton Julia code:"
     ]
    },
    {
     "cell_type": "code",
     "collapsed": false,
     "input": [
      "# Include Julia code:\n",
      "include(\"julia-code/instanton.jl\");"
     ],
     "language": "python",
     "metadata": {},
     "outputs": [],
     "prompt_number": null
    },
    {
     "cell_type": "markdown",
     "metadata": {},
     "source": [
      "Load power system data from a MATLAB .mat file into an instance of custom `powerSystemData` type, then perform instanton analysis using JuMP with Ipopt:"
     ]
    },
    {
     "cell_type": "code",
     "collapsed": true,
     "input": [
      "psData = psDataLoad()"
     ],
     "language": "python",
     "metadata": {},
     "outputs": [],
     "prompt_number": null
    },
    {
     "cell_type": "code",
     "collapsed": true,
     "input": [
      "results = instantonAnalysis(psData, \n",
      "            method=\"solver\", \n",
      "            constraintType=\"activeFlow\", \n",
      "            genResponse=\"droop\")"
     ],
     "language": "python",
     "metadata": {},
     "outputs": [],
     "prompt_number": null
    },
    {
     "cell_type": "markdown",
     "metadata": {},
     "source": [
      "To display results, import SVG display capability for the notebook, then call `plotInstantonResults`:"
     ]
    },
    {
     "cell_type": "code",
     "collapsed": true,
     "input": [
      "using PyCall\n",
      "@pyimport IPython.display as IPd\n",
      "\n",
      "eventIdx = 1 # index of extreme event to plot\n",
      "name = \"instPlot\"\n",
      "plotInstantonResults(eventIdx,\n",
      "                    psData,\n",
      "                    results,\n",
      "                    plotType=\"graph\",\n",
      "                    plotName=name,\n",
      "                    constraintType=\"currentFlow\") # generate dot file"
     ],
     "language": "python",
     "metadata": {},
     "outputs": [],
     "prompt_number": null
    },
    {
     "cell_type": "code",
     "collapsed": false,
     "input": [
      "# Generate and display directed graph:\n",
      "run(`dot -Tsvg $(name).dot -o $(name).svg`)\n",
      "IPd.SVG(filename=\"$(name).svg\") # show SVG inline"
     ],
     "language": "python",
     "metadata": {},
     "outputs": [],
     "prompt_number": null
    },
    {
     "cell_type": "markdown",
     "metadata": {},
     "source": [
      "## How it works: the JuMP model\n",
      "\n",
      "Loading data from the .mat file into a custom Julia type is straightforward. The type has a field for each relevant piece of power system data:"
     ]
    },
    {
     "cell_type": "code",
     "collapsed": true,
     "input": [
      "# Define a type to hold power system data:\n",
      "type powerSystemData\n",
      "    Sb          # Base complex power\n",
      "    f           # Lines: \"from\"\n",
      "    t           # Lines: \"to\"\n",
      "    r           # Lines: resistance\n",
      "    x           # Lines: reactance\n",
      "    b           # Lines: susceptance\n",
      "    Y           # Lines: admittance\n",
      "    bustype     # Buses: type\n",
      "    Gp          # Buses: conv. active gen\n",
      "    Gq          # Buses: conv. reactive gen\n",
      "    Dp          # Buses: active demand\n",
      "    Dq          # Buses: reactive demand\n",
      "    Rp          # Buses: wind active gen\n",
      "    Rq          # Buses: wind reactive gen\n",
      "    Pmax        # Buses: max. active gen\n",
      "    Pmin        # Buses: min. active gen\n",
      "    Qmax        # Buses: max. reactive gen\n",
      "    Qmin        # Buses: min. reactive gen\n",
      "    Plim        # Lines: flow limit\n",
      "    Vg          # Buses: nominal voltage\n",
      "    Vceiling    # Buses: max. voltage\n",
      "    Vfloor      # Buses: min. voltage\n",
      "    busIdx      # Buses: index\n",
      "    N           # Buses: total\n",
      "    Nr          # Buses: renewable\n",
      "    Ng          # Buses: conventional\n",
      "    k           # Buses: participation factors\n",
      "end"
     ],
     "language": "python",
     "metadata": {},
     "outputs": [],
     "prompt_number": null
    },
    {
     "cell_type": "markdown",
     "metadata": {},
     "source": [
      "Similarly, I define a type to store analysis results:"
     ]
    },
    {
     "cell_type": "code",
     "collapsed": true,
     "input": [
      "type instantonResults\n",
      "    score\n",
      "    \u03c1\n",
      "    \u03b8\n",
      "    \u03b1\n",
      "    constrIdx\n",
      "    Gp\n",
      "end"
     ],
     "language": "python",
     "metadata": {},
     "outputs": [],
     "prompt_number": null
    },
    {
     "cell_type": "markdown",
     "metadata": {},
     "source": [
      "Having stored all system data in a single object, I pass it to the following function, which builds a series of models, passes them to Ipopt, and returns solutions. Here is an abbreviated version of the code. In a moment we will break it down a few lines at a time."
     ]
    },
    {
     "cell_type": "code",
     "collapsed": true,
     "input": [
      "function solver_activeFlow_droop(psDL)\n",
      "    \"\"\"This function uses Ipopt to perform instanton analysis \n",
      "    for the case with conventional generator droop resopnse.\n",
      "    \"\"\"\n",
      "    # ...\n",
      "    \n",
      "    # Enforce each constraint in the f --> t direction\n",
      "    for idx = 1:length(f)\n",
      "        (m, \u03c1, \u03b8, \u03b1, PowerBalance, Slack, Congestion, Participation) = droopDCModel(idx, 1, Rp, Gp, Dp, f, t, x, Y, bustype, Plim,k)\n",
      "        status = solve(m);\n",
      "        push!(score, getObjectiveValue(m))\n",
      "        push!(result,status)\n",
      "        push!(theta, getValue(\u03b8)[:])\n",
      "        push!(alpha, getValue(\u03b1))\n",
      "        push!(rho,getValue(\u03c1)[:])\n",
      "  \n",
      "        # Compute conventional generation post-instanton:\n",
      "        push!(Gpost, Gp + k.*getValue(\u03b1))\n",
      "    end\n",
      "    \n",
      "    # ...\n",
      "    \n",
      "    function droopDCModel(idx, sense, Rp, Gp, Dp, f, t, x, Y, bustype, Plim,k)\n",
      "    # DROOP RESPONSE\n",
      "    # Create model saturating line 'idx' in direction 'sense' (\u00b11)\n",
      "    # This function uses JuMP and Ipopt\n",
      "    \n",
      "    m = Model(solver = IpoptSolver()) # Use Ipopt to solve model\n",
      "    N = length(Rp)\n",
      "    @defVar(m, \u03c1[1:N] >= 0) # Add decision variables to model (renewable gen)\n",
      "    @defVar(m, \u03b8[1:N]) # Add bus angles\n",
      "    @defVar(m, \u03b1) # mismatch\n",
      "    setObjective(m, :Min, 0.5*sum([(\u03c1[i] - Rp[i])^2 for i in find(Rp)]))\n",
      "\n",
      "    # add power balance constraints:\n",
      "    @defConstrRef PowerBalance[1:N]\n",
      "    for i in setdiff(1:N,find(bustype.==3))\n",
      "        PowerBalance[i] = @addConstraint(m, sum([Y[i,j]*\u03b8[j] for j in 1:N]) == Gp[i] + k[i]*\u03b1 + \u03c1[i] - Dp[i])\n",
      "    end\n",
      "    @addConstraint(m, NonWind, sum([\u03c1[i] for i in setdiff(collect(1:N),find(Rp))]) == 0) # \u03c1=0 for non-wind nodes\n",
      "    @addConstraint(m, Slack, \u03b8[find(bustype.==3)[1]] == 0) # \u03b8 = 0 for slack bus\n",
      "    @addConstraint(m, Congestion, \u03b8[f[idx]] - \u03b8[t[idx]] == sense*x[idx]*Plim[idx]) # saturate a line\n",
      "    @addConstraint(m, Participation, \u03b1 == (sum(Dp) - sum([\u03c1[i] for i in find(Rp)])) - sum(Gp))\n",
      "    return m, \u03c1, \u03b8, \u03b1, PowerBalance, Slack, Congestion, Participation\n",
      "end\n",
      "end"
     ],
     "language": "python",
     "metadata": {},
     "outputs": [],
     "prompt_number": null
    },
    {
     "cell_type": "markdown",
     "metadata": {},
     "source": [
      "Let's concentrate on the solver model composed with JuMP macros. \n",
      "\n",
      "1. **Create a new model instance:**\n",
      "```julia\n",
      "m = Model(solver = IpoptSolver())\n",
      "```\n",
      "2. **Define some variables:**\n",
      "```julia\n",
      "N = length(Rp)\n",
      "@defVar(m, \u03c1[1:N] >= 0) # Add decision variables\n",
      "@defVar(m, \u03b8[1:N]) # Add bus angles\n",
      "@defVar(m, \u03b1) # mismatch\n",
      "```\n",
      "Compare with:\n",
      "    * $\\rho_i$ is renewable generation at bus $i$ in per unit (non-negative).\n",
      "    * $\\theta_k$ is the phase angle at bus $k$.\n",
      "    * $\\alpha$ is the participation coefficient (mismatch), defined as\n",
      "$$\\alpha:= \\sum D - \\sum \\rho - \\sum G_0 ~.$$\n",
      "\n",
      "3. **Set the objective:**\n",
      "```julia\n",
      "setObjective(m, :Min, 0.5*sum([(\u03c1[i] - Rp[i])^2 \n",
      "                       for i in find(Rp)]))\n",
      "```\n",
      "Compare with:\n",
      "$$\\min  \\frac{1}{2} \\left( \\rho - \\rho_0 \\right)^\\top \\left( \\rho - \\rho_0 \\right)$$\n",
      "\n",
      "4. **Power balance constraints:**\n",
      "```julia\n",
      "@defConstrRef PowerBalance[1:N]\n",
      "for i in setdiff(1:N,find(bustype.==3))\n",
      "    PowerBalance[i] = @addConstraint(m, \n",
      "        sum([Y[i,j]*\u03b8[j] for j in 1:N]) == \n",
      "        Gp[i] + k[i]*\u03b1 + \u03c1[i] - Dp[i])\n",
      "end\n",
      "```\n",
      "Compare with:\n",
      "$$\\begin{align} \\sum_k( Y_{ik} \\theta_k)  &= G_{i} + \\rho_i - D_{i} \\quad \\forall i \\in N \\\\\n",
      "G &= G_{0} + k\\alpha \\end{align}$$\n",
      "\n",
      "5. **Constrain renewable generation to 0 for non-wind nodes:**\n",
      "```julia\n",
      "@addConstraint(m, NonWind, \n",
      "    sum([\u03c1[i] for i in setdiff(collect(1:N),find(Rp))]) == 0)\n",
      "```\n",
      "\n",
      "6. **Define slack bus:**\n",
      "```julia\n",
      "@addConstraint(m, Slack, \n",
      "    \u03b8[find(bustype.==3)[1]] == 0)\n",
      "```\n",
      "Compare with:\n",
      "$$\\theta_i  = 0 \\quad \\text{ where bus $i$ is the angle reference} $$\n",
      "\n",
      "7. **Add \"congestion constraint\":**\n",
      "```julia\n",
      "@addConstraint(m, Congestion, \n",
      "    \u03b8[f[idx]] - \u03b8[t[idx]] == sense*x[idx]*Plim[idx])\n",
      "```\n",
      "(Note that `sense` is $\\pm 1$.) Compare with:\n",
      "$$ \\theta_i - \\theta_k  = x_{ik} P_{lim,ik} \\quad \\text{for each } (i,k) \\in G $$\n",
      "\n",
      "8. **Conventional generator droop response:**\n",
      "```julia\n",
      "@addConstraint(m, Participation,\n",
      "    \u03b1 == (sum(Dp) - sum([\u03c1[i] for i in find(Rp)])) - sum(Gp))\n",
      "```\n",
      "Compare with:\n",
      "    * $\\alpha$ is the participation coefficient (mismatch), defined as\n",
      "\n",
      "$$\\alpha:= \\sum D - \\sum \\rho - \\sum G_0 ~.$$\n"
     ]
    },
    {
     "cell_type": "markdown",
     "metadata": {},
     "source": [
      "For each line (and direction) in the network, a model is generated and passed to Ipopt. The last line of the `solver_activeFlow_droop` function returns solution information:\n",
      "```julia\n",
      "return m, \u03c1, \u03b8, \u03b1, PowerBalance, Slack, Congestion, Participation\n",
      "```"
     ]
    },
    {
     "cell_type": "markdown",
     "metadata": {},
     "source": [
      "\n",
      "## How it works: displaying results"
     ]
    },
    {
     "cell_type": "markdown",
     "metadata": {},
     "source": [
      "The `plotInstantonResults()` function generates the graph we saw:\n",
      "```julia\n",
      "function plotInstantonResults(  eventIdx,\n",
      "\t\t\t\t\t\t\t\tpsData,\n",
      "\t\t\t\t\t\t\t\tresults;\n",
      "\t\t\t\t\t\t\t\tplotType=\"graph\",\n",
      "\t\t\t\t\t\t\t\tplotName=\"defaultPlotName\",\n",
      "\t\t\t\t\t\t\t\tconstraintType=\"activeFlow\")\n",
      "```\n",
      "Note the presence of positional and keyword arguments. If we want a visualization other than the graph, we can choose another value for `plotType` and add code to the function to respond to it. The function is general enough to handle all plotting.\n",
      "\n",
      "The graph output in particular uses a function I wrote called `writeDot()`, which is about 70 lines of code and generates a `.dot` file. Graphviz uses this file to render the network as a directed graph."
     ]
    },
    {
     "cell_type": "markdown",
     "metadata": {},
     "source": [
      "___\n",
      "## What we've covered so far\n",
      "Here we ran Julia code to perform instanton analysis on the IEEE RTS-96 network. We stepped through the process of translating a mathematical programming model into Julia JuMP macros. We also plotted the results using Graphviz and discussed how this was implemented in Julia.\n",
      "\n",
      "## Where to next?\n",
      "In the last notebook we will explore an extension to the instanton analysis presented here. Along the way we will see the usefulness of Julia and the IJulia notebook in exploration, prototyping, and presentation."
     ]
    }
   ],
   "metadata": {}
  }
 ]
}