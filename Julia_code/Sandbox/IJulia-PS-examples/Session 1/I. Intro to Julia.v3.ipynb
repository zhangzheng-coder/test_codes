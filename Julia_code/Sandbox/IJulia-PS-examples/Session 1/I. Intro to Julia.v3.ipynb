{
 "metadata": {
  "kernelspec": {
   "display_name": "Julia",
   "name": "julia"
  },
  "language_info": {
   "name": "julia",
   "version": "0.3.5"
  },
  "name": ""
 },
 "nbformat": 3,
 "nbformat_minor": 0,
 "worksheets": [
  {
   "cells": [
    {
     "cell_type": "markdown",
     "metadata": {},
     "source": [
      "## Download and Check\n",
      "\n",
      "If you are running Julia and the IJulia notebook on your own computer, visit \n",
      "\n",
      "> https://github.com/kersulis/IJulia-WPS\n",
      "\n",
      "and click on \"Download ZIP\" at the bottom of the toolbar on the right of the page. Alternatively, you can enter this URL into your address bar:\n",
      "\n",
      "> https://github.com/kersulis/IJulia-WPS/archive/master.zip\n",
      "\n",
      "Now that you have the notebooks, let's make sure your tools are working. Click on the following cell, then choose `Cell -> Run` or press `Ctrl+Enter`:\n"
     ]
    },
    {
     "cell_type": "code",
     "collapsed": false,
     "input": [
      "sin(\u03c0/2)"
     ],
     "language": "python",
     "metadata": {},
     "outputs": [],
     "prompt_number": null
    },
    {
     "cell_type": "markdown",
     "metadata": {},
     "source": [
      "If you see `1.0` and no errors, then you just ran Julia code. Great! (This also proves you are not using a Python kernel.)\n",
      "\n",
      "**If anything else happened, please raise your hand!** We want to make sure you can interact with Julia throughout the remainder of this session. Even if you didn't work through the [installation guide][1], you can still connect to JuliaBox using the following instructions.\n",
      "\n",
      "[1]: http://www.mit.edu/~mlubin/WinterSchoolSoftwareInstructions.pdf"
     ]
    },
    {
     "cell_type": "markdown",
     "metadata": {},
     "source": [
      "## Backup Option: Connecting to JuliaBox\n",
      "\n",
      "1. Visit [juliabox.org][1].\n",
      "2. Select the **Sync** tab at the top of the page.\n",
      "3. Enter https://github.com/kersulis/IJulia-WPS into the **Git Clone URL** field.\n",
      "4. Leaving the **Branch** and **JuliaBox Folder** fields with their default values, click **+** to load the repository into a folder named `IJulia`.\n",
      "5. Now click on the **IJulia** tab at the top of the page. If you don't see a new folder called `IJulia`, refresh your browser (don't worry, no files will be lost).\n",
      "6. Enter the `IJulia` folder and click on one of the notebooks to open it in a new tab. The notebook is editable, and any Julia code cell should execute and show appropriate output.\n",
      "\n",
      "Any notebook changes you make will be saved on your own computer -- they will have no effect on the repository.\n",
      "\n",
      "[1]: https://juliabox.org/\n"
     ]
    },
    {
     "cell_type": "markdown",
     "metadata": {},
     "source": [
      "## This talk\n",
      "\n",
      "What I want to accomplish in this talk:\n",
      "\n",
      "* Convince you that Julia is an approachable, elegant, and highly capable technical computing language\n",
      "* Show, by example, the usefulness of the IJulia notebook.\n",
      "* Familiarize you with Julia and the IJulia notebook.\n",
      "* Show how easy it is to start using these tools regardless of background (MATLAB, Python, C++)."
     ]
    },
    {
     "cell_type": "markdown",
     "metadata": {},
     "source": [
      "Six months ago I was running MATLAB on Windows with a student license. The more I read about research workflows, the more convinced I became that there were better ways to go. This past summer I decided to explore many of the tools I was reading about, and it transformed the way I do my research work. Today I run Python and Julia on Ubuntu Linux. Here's why I chose Julia.\n",
      "\n",
      "## Three reasons I chose Julia\n",
      "1. The [JuMP][8] Julia package effectively replaces the thirty-year-old [AMPL modeling language][3]. \n",
      "<!-- I use JuMP macros to build QP models and pass them to any capable solver. JuMP is actively developed: when a few researchers in my area requested chance constraints as a feature, the JuMP team added it in. (When my project progresses into chance-constrained optimization in the future, JuMP will be ready to go.) -->\n",
      "\n",
      "2. [Julia is fast][2].\n",
      "3. Julia syntax is natural for MATLAB users. It supports `[a b; c d]` matrix concatenation. It has many MATLAB functions like `sort`, `setdiff`, `unique`, `sparse`, and even `spy`. When you tell it to invert a matrix (using the same `A\\B` syntax MATLAB uses), it [figures out the best algorithm][1] to use. **You can begin writing Julia code using MATLAB style and gradually mix in Julia tricks as you go along.**\n",
      "\n",
      "Nice side benefits: no more watermarks, nothing proprietary.\n",
      "\n",
      "## My experience so far\n",
      "Although learning any new language is rocky at first, I have already found myself doing things I could not have done with my former tools. One example is transmission network visualization: I can use Julia and [Graphviz][4] to programmatically generate a rich SVG representation of a power network.\n",
      "\n",
      "The [IPython notebook][5] made my transition easy. When I first contemplated switching from MATLAB, I was intimidated by the command line. I couldn't find a comfy, MATLAB-esque development environment for Julia. How could I give up side-by-side script and output or the variable workspace? IPython/IJulia notebooks are the answer. A notebook consists of cells. Each cell can be a header, a markdown cell (which can include $\\LaTeX$ equations, bullet lists, and tables), or a code cell. When you write and execute a code cell, its output (whether it be a matrix, some text, or a chart) is displayed inline, so the notebook is self-contained and flows nicely. When you are finished creating a notebook, you can [export it in a variety of formats][6] including HTML and $\\LaTeX$.\n",
      "\n",
      "There are [a bunch of example notebooks][7] that demonstrate what you can do; they are a great way to learn. The notebooks we will go through here are more domain-specific, and I hope they are helpful for power system researchers. In this session we will consider the following research workflow:\n",
      "\n",
      "1. Formulate an optimization problem in $\\LaTeX$.\n",
      "2. Import data from a MATLAB `.mat` file (using Julia's MAT package to generate a set of Julia variables).\n",
      "3. Use JuMP to solve the optimization problem.\n",
      "4. Perform a series of checks to make sure the output makes sense.\n",
      "5. Plot the results.\n",
      "\n",
      "[1]: http://julia.readthedocs.org/en/latest/stdlib/linalg/\n",
      "[2]: http://julialang.org/benchmarks/\n",
      "[3]: http://en.wikipedia.org/wiki/AMPL\n",
      "[4]: http://www.graphviz.org/\n",
      "[5]: http://ipython.org/notebook.html\n",
      "[6]: http://ipython.org/ipython-doc/rel-1.0.0/interactive/nbconvert.html\n",
      "[7]: http://nbviewer.ipython.org/\n",
      "[8]: http://jump.readthedocs.org/en/release-0.6/"
     ]
    },
    {
     "cell_type": "markdown",
     "metadata": {},
     "source": [
      "## Navigating IJulia notebooks\n",
      "_Click `Help -> User Interface Tour`_\n",
      "\n",
      "**Think of the notebook as a document that can interact with your computer.** The document relies only on a modern browser for rendering -- [it is useful by itself][2]. When you connect the document to a Julia kernel and terminal instance on a computer, however, the document can send any command to the computer and show any output (text or graphics). **The document and computer need not be in the same place -- only a channel for message passing is required.**\n",
      "\n",
      "<img src=\"http://nbviewer.ipython.org/github/jakevdp/OpenVisConf2014/blob/master/images/ipkernel_clients.png\" height=300px>\n",
      "\n",
      "[image source][3]\n",
      "\n",
      "* Each notebook is composed of cells\n",
      "* Two modes:\n",
      "    * Command Mode for creating or deleting cells, saving or renaming the notebook, and other application-level functions\n",
      "    * Edit Mode for manipulating text in individual cells\n",
      "* Create a cell by:\n",
      "    * Clicking `Insert -> Insert Cell`\n",
      "    * Pressing `a` or `b` in Command Mode\n",
      "    * Pressing `Alt+Enter` in Edit Mode\n",
      "* Delete a cell by:\n",
      "    * Clicking `Edit -> Delete Cell`\n",
      "    * Pressing `dd`\n",
      "* Execute a cell by:\n",
      "    * Clicking `Cell -> Run`\n",
      "    * Pressing `Ctrl+Enter`\n",
      "\n",
      "Other functions:\n",
      "* Undo last text edit with `Ctrl+z` in Edit Mode\n",
      "* Undo last cell manipulation with `z` in Command Mode\n",
      "* Save notebook with `Ctrl+s` in Edit Mode\n",
      "* Save notebook with `s` in Command Mode\n",
      "\n",
      "Though notebooks rely on your browser to work, they do not require an internet connection. The only online tool that is consistently used is MathJax (for math rendering), and it is easy to [install MathJax locally][1].\n",
      "\n",
      "### A note about naming\n",
      "Try not to let the nomenclature confuse you! Some people say \"IPython notebook\", and a few (mostly core developers) prefer to say \"Jupyter notebook\". We will use \"IJulia notebook\" to refer to a notebook connected to a Julia kernel.\n",
      "\n",
      "<!--In the past, notebooks always used the IPython interactive Python shell, so it made sense to call them IPython notebooks. Once people realized the technology generalizes to other languages easily, we started to see terms like \"IJulia notebook\". As the technology becomes increasingly language-agnostic, we will eventually need a name for the notebook itself, independent of any particular language. This is where the \"Jupyter\" name comes in.-->\n",
      "\n",
      "[1]: http://ipython.org/ipython-doc/dev/install/install.html#mathjax\n",
      "[2]: http://nbviewer.ipython.org/\n",
      "[3]: http://nbviewer.ipython.org/github/jakevdp/OpenVisConf2014/blob/master/Notebook.ipynb"
     ]
    },
    {
     "cell_type": "markdown",
     "metadata": {},
     "source": [
      "### Get comfortable with the notebook\n",
      "Notebooks are hardly fragile. If you try to close a notebook with unsaved changes, the browser will warn you.\n",
      "\n",
      "Try the following exercises:"
     ]
    },
    {
     "cell_type": "markdown",
     "metadata": {},
     "source": [
      ">**\\[Exercise\\]**: Close/open\n",
      "\n",
      ">1. Save the notebook\n",
      ">2. Copy the address\n",
      ">3. Close the tab\n",
      ">4. Paste the address into a new tab (or re-open the last closed tab with `Ctrl+Shift+T` on Chrome)\n",
      "\n",
      ">_The document is still there, and the Julia kernel is still alive! Nothing is lost._"
     ]
    },
    {
     "cell_type": "markdown",
     "metadata": {},
     "source": [
      ">**\\[Exercise\\]**: Zoom\n",
      "\n",
      ">Try changing the magnification of the web page (`Ctrl+, Ctrl-` on Chrome).\n",
      "\n",
      ">_Text and math scale well (so do graphics if you use an SVG or PDF backend)._"
     ]
    },
    {
     "cell_type": "markdown",
     "metadata": {},
     "source": [
      ">**\\[Exercise\\]**: MathJax\n",
      ">1. Create a new cell.\n",
      ">2. Type an opening \\$, your favorite mathematical expression, and a closing \\$.\n",
      ">3. Run the cell to render the $\\LaTeX$ expression.\n",
      ">4. Right-click the rendered expression."
     ]
    },
    {
     "cell_type": "markdown",
     "metadata": {},
     "source": [
      "## Navigating Julia\n",
      "\n",
      "Now that we've discussed the notebook, let's talk about Julia, the language that makes this an _IJulia_ notebook. We'll be learning by doing during this session, but I've also put together a list of helpful resources for future exploration at the end of this notebook."
     ]
    },
    {
     "cell_type": "code",
     "collapsed": false,
     "input": [
      "help(print) # How to get help for a Julia object"
     ],
     "language": "python",
     "metadata": {},
     "outputs": [],
     "prompt_number": null
    },
    {
     "cell_type": "code",
     "collapsed": false,
     "input": [
      "?print # Alternative syntax"
     ],
     "language": "python",
     "metadata": {},
     "outputs": [],
     "prompt_number": null
    },
    {
     "cell_type": "markdown",
     "metadata": {},
     "source": [
      "## Plotting\n",
      "There are several Julia plotting packages. \n",
      "\n",
      "* [PyPlot.jl][4] is a Julia interface to Matplotlib, and should feel familiar to both MATLAB and Python users.\n",
      "* [Winston][3] and [Gadfly][1] are written entirely in Julia.  Winston is for general-purpose 2D plotting, and Gadfly concentrates on statistical graphics.\n",
      "* [Plotly supports Julia][2].\n",
      "\n",
      "[1]: https://github.com/dcjones/Gadfly.jl\n",
      "[2]: https://plot.ly/julia/\n",
      "[3]: https://github.com/nolta/Winston.jl\n",
      "[4]: https://github.com/stevengj/PyPlot.jl"
     ]
    },
    {
     "cell_type": "code",
     "collapsed": false,
     "input": [
      "Pkg.add(\"PyPlot\")"
     ],
     "language": "python",
     "metadata": {},
     "outputs": [],
     "prompt_number": null
    },
    {
     "cell_type": "code",
     "collapsed": false,
     "input": [
      "using PyPlot\n",
      "\n",
      "# Example from PyPlot documentation:\n",
      "x = linspace(0,2*pi,1000)\n",
      "y = sin(3*x + 4*cos(2*x))\n",
      "plot(x, y,  color=\"red\", \n",
      "            linewidth=2.0, \n",
      "            linestyle=\"--\")\n",
      "title(\"A sinusoidally modulated sinusoid\")"
     ],
     "language": "python",
     "metadata": {},
     "outputs": [],
     "prompt_number": null
    },
    {
     "cell_type": "markdown",
     "metadata": {},
     "source": [
      "## Coming from MATLAB, you keep:\n",
      "* Simple matrix syntax\n",
      "* Semicolon for supressing output in notebook or REPL"
     ]
    },
    {
     "cell_type": "code",
     "collapsed": false,
     "input": [
      "B = [1 2; 3 4];\n",
      "C = [5 6];\n",
      "[B; C]"
     ],
     "language": "python",
     "metadata": {},
     "outputs": [],
     "prompt_number": null
    },
    {
     "cell_type": "markdown",
     "metadata": {},
     "source": [
      "* Many commonly used functions in `Base` (default namespace, always available)"
     ]
    },
    {
     "cell_type": "code",
     "collapsed": false,
     "input": [
      "A = rand(3, 2); # create random matrix\n",
      "display(A)\n",
      "\n",
      "U, S, V = svd(A); # Find singular value decomposition"
     ],
     "language": "python",
     "metadata": {},
     "outputs": [],
     "prompt_number": null
    },
    {
     "cell_type": "code",
     "collapsed": false,
     "input": [
      "U*diagm(S)*V"
     ],
     "language": "python",
     "metadata": {},
     "outputs": [],
     "prompt_number": null
    },
    {
     "cell_type": "code",
     "collapsed": false,
     "input": [
      "?sin"
     ],
     "language": "python",
     "metadata": {},
     "outputs": [],
     "prompt_number": null
    },
    {
     "cell_type": "code",
     "collapsed": false,
     "input": [
      "?sind"
     ],
     "language": "python",
     "metadata": {},
     "outputs": [],
     "prompt_number": null
    },
    {
     "cell_type": "code",
     "collapsed": false,
     "input": [
      "sin(\u03c0/2)"
     ],
     "language": "python",
     "metadata": {},
     "outputs": [],
     "prompt_number": null
    },
    {
     "cell_type": "code",
     "collapsed": false,
     "input": [
      "?randn"
     ],
     "language": "python",
     "metadata": {},
     "outputs": [],
     "prompt_number": null
    },
    {
     "cell_type": "code",
     "collapsed": false,
     "input": [
      "t = 1:10;\n",
      "t[t.<5]"
     ],
     "language": "python",
     "metadata": {},
     "outputs": [],
     "prompt_number": null
    },
    {
     "cell_type": "markdown",
     "metadata": {},
     "source": [
      "* Ability to read and write `.mat` files"
     ]
    },
    {
     "cell_type": "code",
     "collapsed": false,
     "input": [
      "Pkg.add(\"MAT\")\n",
      "using MAT"
     ],
     "language": "python",
     "metadata": {},
     "outputs": [],
     "prompt_number": null
    },
    {
     "cell_type": "code",
     "collapsed": false,
     "input": [
      "matwrite(\"test.mat\", {\n",
      "    \"a1\" => sin(\u03c0/2),\n",
      "    \"a2\" => [1 2 3]\n",
      "})"
     ],
     "language": "python",
     "metadata": {},
     "outputs": [],
     "prompt_number": null
    },
    {
     "cell_type": "code",
     "collapsed": false,
     "input": [
      "vars = matread(\"test.mat\")\n",
      "println(vars[\"a1\"])\n",
      "println(vars[\"a2\"])"
     ],
     "language": "python",
     "metadata": {},
     "outputs": [],
     "prompt_number": null
    },
    {
     "cell_type": "markdown",
     "metadata": {},
     "source": [
      "**Just remember:**\n",
      "* Index arrays with **square brackets instead of parentheses**.\n",
      "* Be aware of **types**."
     ]
    },
    {
     "cell_type": "code",
     "collapsed": false,
     "input": [
      "typeof(1)"
     ],
     "language": "python",
     "metadata": {},
     "outputs": [],
     "prompt_number": null
    },
    {
     "cell_type": "code",
     "collapsed": false,
     "input": [
      "typeof(1.0)"
     ],
     "language": "python",
     "metadata": {},
     "outputs": [],
     "prompt_number": null
    },
    {
     "cell_type": "markdown",
     "metadata": {},
     "source": [
      "## Coming from Python, you keep:\n",
      "* [Package system][pkgSys]\n",
      "\n",
      "[pkgSys]: http://pkg.julialang.org/"
     ]
    },
    {
     "cell_type": "code",
     "collapsed": false,
     "input": [
      "Pkg.add(\"Calculus\")\n",
      "using Calculus\n",
      "derivative(sin, \u03c0/3)"
     ],
     "language": "python",
     "metadata": {},
     "outputs": [],
     "prompt_number": null
    },
    {
     "cell_type": "markdown",
     "metadata": {},
     "source": [
      "* [List comprehension][listComp]\n",
      "\n",
      "[listComp]: http://julia.readthedocs.org/en/latest/manual/arrays/#comprehensions"
     ]
    },
    {
     "cell_type": "markdown",
     "metadata": {},
     "source": [
      "```julia\n",
      "A = [ F(x,y,...) for x=rx, y=ry, ... ]\n",
      "```"
     ]
    },
    {
     "cell_type": "code",
     "collapsed": false,
     "input": [
      "A = [(x, x^2, x + y*im) for x=1:3, y in [1 2]];\n",
      "print(A)"
     ],
     "language": "python",
     "metadata": {},
     "outputs": [],
     "prompt_number": null
    },
    {
     "cell_type": "markdown",
     "metadata": {},
     "source": [
      "* [Pretty much everything][1]\n",
      "\n",
      "You can import Python modules using PyCall.jl.\n",
      "\n",
      "[1]: https://github.com/stevengj/PyCall.jl"
     ]
    },
    {
     "cell_type": "code",
     "collapsed": false,
     "input": [
      "Pkg.add(\"PyCall\")"
     ],
     "language": "python",
     "metadata": {},
     "outputs": [],
     "prompt_number": null
    },
    {
     "cell_type": "code",
     "collapsed": false,
     "input": [
      "using PyCall\n",
      "@pyimport numpy as np"
     ],
     "language": "python",
     "metadata": {},
     "outputs": [],
     "prompt_number": null
    },
    {
     "cell_type": "code",
     "collapsed": false,
     "input": [
      "A = [0.5 -0.5;\n",
      "    -0.5 0.5] # Create array with Julia\n",
      "\n",
      "B = np.sign(A) # Pass array to NumPy function\n",
      "\n",
      "print(B) # Show result"
     ],
     "language": "python",
     "metadata": {},
     "outputs": [],
     "prompt_number": null
    },
    {
     "cell_type": "code",
     "collapsed": false,
     "input": [
      "# No type confusion!\n",
      "print(\"Type of A:\\t\\tType of B: \\n\", typeof(A), '\\t', typeof(B))"
     ],
     "language": "python",
     "metadata": {},
     "outputs": [],
     "prompt_number": null
    },
    {
     "cell_type": "markdown",
     "metadata": {},
     "source": [
      "Of course, Julia has its own `sign()` -- this was just an example."
     ]
    },
    {
     "cell_type": "code",
     "collapsed": false,
     "input": [
      "print(sign(A))"
     ],
     "language": "python",
     "metadata": {},
     "outputs": [],
     "prompt_number": null
    },
    {
     "cell_type": "markdown",
     "metadata": {},
     "source": [
      "Another example: plotting a random walk"
     ]
    },
    {
     "cell_type": "code",
     "collapsed": false,
     "input": [
      "@pyimport numpy.random as npr # Must import submodule\n",
      "C = npr.normal(0, 1, 1000) # Create array using NumPy function\n",
      "\n",
      "plot(cumsum(C)) # Using PyPlot.jl from earlier"
     ],
     "language": "python",
     "metadata": {},
     "outputs": [],
     "prompt_number": null
    },
    {
     "cell_type": "markdown",
     "metadata": {},
     "source": [
      "## Types, methods, and multiple dispatch\n",
      "\n",
      "\"[Julia programs are organized around multiple dispatch][1]\"\n",
      "\n",
      "Though you don't need to know much about Julia's multiple dispatch to use the language, there is a great deal of power and flexibility here. The `::` operator (\"is an instance of\") may be used to assert object types:\n",
      "\n",
      "[1]: http://julialang.org/"
     ]
    },
    {
     "cell_type": "code",
     "collapsed": false,
     "input": [
      "(1+2)::FloatingPoint\n",
      "#(1+2)::Int"
     ],
     "language": "python",
     "metadata": {},
     "outputs": [],
     "prompt_number": null
    },
    {
     "cell_type": "markdown",
     "metadata": {},
     "source": [
      "In addition to concrete (and familiar) `Float` and `Int` types, Julia has [abstract types][1]:\n",
      "\n",
      "[1]: http://docs.julialang.org/en/release-0.3/manual/types/#abstract-types"
     ]
    },
    {
     "cell_type": "code",
     "collapsed": true,
     "input": [
      "(1 + 1im)::Real\n",
      "#1::Complex"
     ],
     "language": "python",
     "metadata": {},
     "outputs": [],
     "prompt_number": null
    },
    {
     "cell_type": "code",
     "collapsed": true,
     "input": [
      "(1 + 1im)::Complex\n",
      "1::Real"
     ],
     "language": "python",
     "metadata": {},
     "outputs": [],
     "prompt_number": null
    },
    {
     "cell_type": "markdown",
     "metadata": {},
     "source": [
      "The most important implication of Julia's type system is **multiple dispatch**:  functions take all arguments into consideration when determining which method to use. From [Wikipedia][1]:\n",
      "\n",
      "[1]: https://en.wikipedia.org/wiki/Dynamic_dispatch#Single_and_multiple_dispatch"
     ]
    },
    {
     "cell_type": "code",
     "collapsed": false,
     "input": [
      "url = \"https://en.wikipedia.org/wiki/Dynamic_dispatch#Single_and_multiple_dispatch\"\n",
      "s = string(\"<iframe height='450' id='multDis' seamless='seamless' src='\",\n",
      "url,\"' width='550' scrolling='no'></iframe>\")\n",
      "display(\"text/html\", s)"
     ],
     "language": "python",
     "metadata": {},
     "outputs": [],
     "prompt_number": null
    },
    {
     "cell_type": "markdown",
     "metadata": {},
     "source": [
      "Let's look at Julia's `Complex()` function:"
     ]
    },
    {
     "cell_type": "code",
     "collapsed": false,
     "input": [
      "?Complex"
     ],
     "language": "python",
     "metadata": {},
     "outputs": [],
     "prompt_number": null
    },
    {
     "cell_type": "markdown",
     "metadata": {},
     "source": [
      "Use `methods()` to see every combination of arguments a particular function can handle (in the notebook, you can also press `Tab` after a function's opening parenthesis):"
     ]
    },
    {
     "cell_type": "code",
     "collapsed": false,
     "input": [
      "methods(methods) # meta alert!"
     ],
     "language": "python",
     "metadata": {},
     "outputs": [],
     "prompt_number": null
    },
    {
     "cell_type": "code",
     "collapsed": false,
     "input": [
      "methods(Complex)"
     ],
     "language": "python",
     "metadata": {},
     "outputs": [],
     "prompt_number": null
    },
    {
     "cell_type": "markdown",
     "metadata": {},
     "source": [
      "Let's follow one of these links to see how Julia operates on complex numbers."
     ]
    },
    {
     "cell_type": "markdown",
     "metadata": {},
     "source": [
      "## A couple exercises\n",
      "\n",
      ">**\\[Exercise\\]**: Extending a function\n",
      "\n",
      ">1. Try applying `abs()` to a string. What happens?\n",
      ">2. Extend `abs()` so it returns the uppercase version of a string argument.\n",
      "\n",
      ">Hint: you must import a `Base` function before you can extend it (this prevents accidental mangling of basic functions). Use `import Base.abs` to do this."
     ]
    },
    {
     "cell_type": "code",
     "collapsed": false,
     "input": [
      "abs(\"Hello\") # try this"
     ],
     "language": "python",
     "metadata": {},
     "outputs": [],
     "prompt_number": null
    },
    {
     "cell_type": "code",
     "collapsed": true,
     "input": [
      "import Base.abs\n",
      "\n",
      "# Extend abs() here:\n",
      "function abs(x::SomeType)\n",
      "    \n",
      "end"
     ],
     "language": "python",
     "metadata": {},
     "outputs": [],
     "prompt_number": null
    },
    {
     "cell_type": "markdown",
     "metadata": {},
     "source": [
      ">**\\[Exercise\\]**: Normalize\n",
      "\n",
      "> 1. Write a function called `normalize()` that [normalizes][2] a vector `x` _in place_ (replacing it with a unit-norm vector having the same direction). The following code cell should get you started.\n",
      "\n",
      "> 2. Now test your function using the given code cell. What happens?\n",
      "\n",
      "> 3. Using Julia's type system, modify your function to \"fail gracefully.\"\n",
      "\n",
      "\n",
      "> Note: Julia has several \"modifying functions\" that alter their inputs without creating any copies. These all end with an exclamation mark. To scale an array `x` by some value `a` _in place_, use:\n",
      "\n",
      "> ```julia\n",
      "    scale!(x, a)\n",
      "    ```\n",
      "\n",
      "> [More information on functions in Julia][1]\n",
      "\n",
      "> _Don't be afraid to kill the kernel and start over._\n",
      "\n",
      "[1]: http://julia.readthedocs.org/en/latest/manual/functions/\n",
      "[2]: http://www.fundza.com/vectors/normalize/"
     ]
    },
    {
     "cell_type": "code",
     "collapsed": true,
     "input": [
      "function normalize(x)\n",
      "    # Manipulate x here. \n",
      "    \n",
      "end"
     ],
     "language": "python",
     "metadata": {},
     "outputs": [],
     "prompt_number": null
    },
    {
     "cell_type": "code",
     "collapsed": false,
     "input": [
      "# Use this cell to test your function:\n",
      "x = [1 2 3]\n",
      "normalize(x)"
     ],
     "language": "python",
     "metadata": {},
     "outputs": [],
     "prompt_number": null
    },
    {
     "cell_type": "heading",
     "level": 2,
     "metadata": {},
     "source": [
      "Exercise solutions"
     ]
    },
    {
     "cell_type": "heading",
     "level": 4,
     "metadata": {},
     "source": [
      "Extending a function"
     ]
    },
    {
     "cell_type": "code",
     "collapsed": false,
     "input": [
      "# Extend Base.abs:\n",
      "import Base.abs\n",
      "function abs(x::ASCIIString)\n",
      "    uppercase(x)\n",
      "end"
     ],
     "language": "python",
     "metadata": {},
     "outputs": [],
     "prompt_number": null
    },
    {
     "cell_type": "heading",
     "level": 4,
     "metadata": {},
     "source": [
      "Normalize"
     ]
    },
    {
     "cell_type": "code",
     "collapsed": false,
     "input": [
      "function normalize(x::Array{Float64}; inplace=false)\n",
      "    if inplace\n",
      "        scale!(x, 1/sqrt(sum([i^2 for i in x])))\n",
      "    else\n",
      "        x /= sqrt(sum([i^2 for i in x]))\n",
      "    end\n",
      "end"
     ],
     "language": "python",
     "metadata": {},
     "outputs": [],
     "prompt_number": null
    },
    {
     "cell_type": "code",
     "collapsed": false,
     "input": [
      "methods(normalize)"
     ],
     "language": "python",
     "metadata": {},
     "outputs": [],
     "prompt_number": null
    },
    {
     "cell_type": "code",
     "collapsed": false,
     "input": [
      "x = ones(100000000);"
     ],
     "language": "python",
     "metadata": {},
     "outputs": [],
     "prompt_number": null
    },
    {
     "cell_type": "code",
     "collapsed": false,
     "input": [
      "@time normalize(x);"
     ],
     "language": "python",
     "metadata": {},
     "outputs": [],
     "prompt_number": null
    },
    {
     "cell_type": "code",
     "collapsed": false,
     "input": [
      "@time normalize(x, inplace=true);"
     ],
     "language": "python",
     "metadata": {},
     "outputs": [],
     "prompt_number": null
    },
    {
     "cell_type": "markdown",
     "metadata": {},
     "source": [
      "## Julia reference\n",
      "\n",
      "Try visiting the top few links first.\n",
      "\n",
      "|            Resource           |                                                Description                                                |\n",
      "|-------------------------------|-----------------------------------------------------------------------------------------------------------|\n",
      "| [Julia By Example][7]         | Nicely categorized series of code snippets                                                                |\n",
      "| [Learn Julia in Y Minutes][2] | Broad, concise overview of Julia commands                                                                 |\n",
      "| [Matrix Cheatsheet][3]        | Translation between MATLAB/Octave, Python/NumPy, R, and Julia                                             |\n",
      "| [Julia community page][8]     | Links to mailing lists, various projects, and local Julia communities                                     |\n",
      "| [Julia Docs][1]               | Official documentation for the Julia Language                                                             |\n",
      "| [JuliaCon][5]                 | More than 20 talks on a broad range of subjects, many with links to slides and other supporting materials |\n",
      "| [Julia Bloggers][6]           | Blog aggregator that gathers Julia-related blog posts from several writers                                |\n",
      "\n",
      "\n",
      "[1]: http://docs.julialang.org/en/release-0.3/\n",
      "[2]: http://learnxinyminutes.com/docs/julia/\n",
      "[3]: http://sebastianraschka.com/Articles/2014_matrix_cheatsheet_table.html\n",
      "[5]: http://juliacon.org/\n",
      "[6]: http://www.juliabloggers.com/\n",
      "[7]: http://www.scolvin.com/juliabyexample/\n",
      "[8]: http://julialang.org/community/\n",
      "[4]: http://julia.readthedocs.org/en/latest/stdlib/base/"
     ]
    },
    {
     "cell_type": "markdown",
     "metadata": {},
     "source": [
      "___\n",
      "## What we've covered so far\n",
      "We started becoming familiar with the IJulia notebook, a free and powerful tool that marries the display capabilities of modern browsers with the reliability of local code execution. Next, we considered Julia: how to find help, how to plot, and how to approach Julia from MATLAB and Python backgrounds. Finally, we discussed Julia's types and how they are used.\n",
      "\n",
      "## Where to next?\n",
      "Next we will look at the instanton project, an example of power systems research that will illustrate many of the concepts introduced here."
     ]
    }
   ],
   "metadata": {}
  }
 ]
}