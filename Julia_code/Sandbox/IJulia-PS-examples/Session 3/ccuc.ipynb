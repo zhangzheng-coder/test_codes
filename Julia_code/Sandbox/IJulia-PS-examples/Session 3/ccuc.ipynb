{
 "cells": [
  {
   "cell_type": "markdown",
   "metadata": {},
   "source": [
    "### Chance-constrained Unit Commitment"
   ]
  },
  {
   "cell_type": "markdown",
   "metadata": {},
   "source": [
    "In this notebook we will formulate a simple chance-constrained (CC) Unit Commitment (UC) model and implement it in Julia using the JumpChance package. We will observe the performance of this CC UC model on a three-bus example. "
   ]
  },
  {
   "cell_type": "markdown",
   "metadata": {},
   "source": [
    "### Illustrative example"
   ]
  },
  {
   "cell_type": "markdown",
   "metadata": {},
   "source": [
    "In the following notes for the sake of simplicity, we are going to use a three bus example mirroring the interface between Western and Eastern Texas. This example is taken from R. Baldick, \"Wind and Energy Markets: A Case Study of Texas,\" IEEE Systems Journal, vol. 6, pp. 27-34, 2012. \n",
    "    "
   ]
  },
  {
   "cell_type": "markdown",
   "metadata": {},
   "source": [
    "<img src=\"http://i57.tinypic.com/2hn530x.png\">"
   ]
  },
  {
   "cell_type": "markdown",
   "metadata": {},
   "source": [
    "For this example, we set the following characteristics of generators, transmission lines, wind farms and demands:\n",
    "<table style=\"width:25%\">\n",
    "  <tr>\n",
    "    <td></td>\n",
    "    <td>Generator 1</td> \n",
    "    <td>Generator 2</td>\n",
    "  </tr>\n",
    "  <tr>\n",
    "    <td>$g_{min}$, MW</td>\n",
    "    <td>0</td> \n",
    "    <td>300</td> \n",
    "  </tr>\n",
    "  \n",
    "   <tr>\n",
    "    <td>$g_{max}$, MW</td>\n",
    "    <td>1000</td> \n",
    "    <td>1000</td> \n",
    "  </tr>\n",
    "  <tr>\n",
    "    <td>$c^g$, \\$/MWh</td>\n",
    "    <td>50</td> \n",
    "    <td>100</td> \n",
    "  </tr>\n",
    "  <tr>\n",
    "    <td>$c^{g0}$, \\$/MWh</td>\n",
    "    <td>1000</td> \n",
    "    <td>0</td> \n",
    "  </tr> \n",
    "</table>\n",
    "\n",
    "<table style=\"width:25%\">\n",
    "  <tr>\n",
    "    <td></td>\n",
    "    <td>Line 1</td> \n",
    "    <td>Line 2</td>\n",
    "  </tr>\n",
    "  <tr>\n",
    "    <td>$f^{max}$, MW</td>\n",
    "    <td>100</td> \n",
    "    <td>1000</td> \n",
    "  </tr>\n",
    "  <tr>\n",
    "    <td>x, p.u.</td>\n",
    "    <td>0.001</td> \n",
    "    <td>0.001</td> \n",
    "  </tr>\n",
    "</table>\n",
    "\n",
    "<table style=\"width:25%\">\n",
    "  <tr>\n",
    "    <td></td>\n",
    "    <td>Wind farm 1</td> \n",
    "    <td>Wind farm 2</td>\n",
    "  </tr>\n",
    "  <tr>\n",
    "    <td>$w^{f}$, MW</td>\n",
    "    <td>150</td> \n",
    "    <td>50</td> \n",
    "  </tr>\n",
    "  <tr>\n",
    "  <td>$c^{w}$, \\$/MWh</td>\n",
    "    <td>50</td> \n",
    "    <td>50</td> \n",
    "  </tr>\n",
    "</table>\n",
    "\n",
    "<table style=\"width:25%\">\n",
    "  <tr>\n",
    "    <td></td>\n",
    "    <td>Bus 1</td> \n",
    "    <td>Bus 2</td>\n",
    "    <td>Bus 3</td>\n",
    "  </tr>\n",
    "  <tr>\n",
    "    <td>$d$, MW</td>\n",
    "    <td>0</td> \n",
    "    <td>0</td> \n",
    "    <td>1500</td> \n",
    "    \n",
    "  </tr>\n",
    "</table>"
   ]
  },
  {
   "cell_type": "markdown",
   "metadata": {},
   "source": [
    "### CC UC formulation"
   ]
  },
  {
   "cell_type": "markdown",
   "metadata": {},
   "source": [
    "We modify the UC formulation presented yesterday by including chance constraints.\n",
    "\n",
    "First, we note that the following constraints remain untouched  as they are used to make decision on binary commitment decisions:\n",
    "\n",
    "To obtain the mathematical formulation of the UC model, we will modify the constraints of the ED model as follows:\n",
    "$$\n",
    "g^{\\min}_{i} \\cdot u_{t,i} \\leq g_{i} \\leq g^{\\max}_{i} \\cdot u_{t,i},\n",
    "$$\n",
    "\n",
    "where $ u_{i} \\in \\{0;1\\}. $ In this constraint, if $ u_{i} = 0$, then $g_{i}  = 0$. On the other hand, if $ u_{i} = 1$, then $g^{max}_{i} \\leq g_{i}   \\leq g^{min}_{i}$.\n",
    "\n",
    "Next, we include chance-constraints accounting for regulation:\n",
    "\n",
    "$$\n",
    "P (g_{i} - \\alpha_i \\cdot \\omega \\geq g^{\\max}) \\leq \\epsilon_g\n",
    "$$\n",
    "\n",
    "$$\n",
    "P (g_{i} - \\alpha_i \\cdot \\omega \\leq g^{\\min}) \\leq  \\epsilon_g\n",
    "$$\n",
    "\n",
    "where $\\alpha$ is a participation factor of generator $i$, $\\omega$ is a deviation of the actual wind generation from its forecast, and $\\epsilon_g$ is a small number. Note that  $\\omega$ is defined as $\\omega \\sim N(0, var(\\omega))$"
   ]
  },
  {
   "cell_type": "markdown",
   "metadata": {},
   "source": [
    "### Implementation of the CC UC model"
   ]
  },
  {
   "cell_type": "markdown",
   "metadata": {},
   "source": [
    "In the following cell we define the packages used, including package JumpChance which is used to solve chance constraints."
   ]
  },
  {
   "cell_type": "code",
   "execution_count": 1,
   "metadata": {
    "collapsed": false
   },
   "outputs": [
    {
     "data": {
      "text/html": [
       "<div id=\"interact-js-shim\">\n",
       "    <script charset=\"utf-8\">\n",
       "(function (IPython, $, _, MathJax) {\n",
       "    $.event.special.destroyed = {\n",
       "\tremove: function(o) {\n",
       "\t    if (o.handler) {\n",
       "\t\to.handler.apply(this, arguments)\n",
       "\t    }\n",
       "\t}\n",
       "    }\n",
       "\n",
       "    var OutputArea = IPython.version >= \"4.0.0\" ? require(\"notebook/js/outputarea\").OutputArea : IPython.OutputArea;\n",
       "\n",
       "    var redrawValue = function (container, type, val) {\n",
       "\tvar selector = $(\"<div/>\");\n",
       "\tvar oa = new OutputArea(_.extend(selector, {\n",
       "\t    selector: selector,\n",
       "\t    prompt_area: true,\n",
       "\t    events: IPython.events,\n",
       "\t    keyboard_manager: IPython.keyboard_manager\n",
       "\t})); // Hack to work with IPython 2.1.0\n",
       "\n",
       "\tswitch (type) {\n",
       "\tcase \"image/png\":\n",
       "            var _src = 'data:' + type + ';base64,' + val;\n",
       "\t    $(container).find(\"img\").attr('src', _src);\n",
       "\t    break;\n",
       "\tdefault:\n",
       "\t    var toinsert = OutputArea.append_map[type].apply(\n",
       "\t\toa, [val, {}, selector]\n",
       "\t    );\n",
       "\t    $(container).empty().append(toinsert.contents());\n",
       "\t    selector.remove();\n",
       "\t}\n",
       "\tif (type === \"text/latex\" && MathJax) {\n",
       "\t    MathJax.Hub.Queue([\"Typeset\", MathJax.Hub, toinsert.get(0)]);\n",
       "\t}\n",
       "    }\n",
       "\n",
       "\n",
       "    $(document).ready(function() {\n",
       "\tfunction initComm(evt, data) {\n",
       "\t    var comm_manager = data.kernel.comm_manager;\n",
       "        //_.extend(comm_manager.targets, require(\"widgets/js/widget\"))\n",
       "\t    comm_manager.register_target(\"Signal\", function (comm) {\n",
       "            comm.on_msg(function (msg) {\n",
       "                //Widgets.log(\"message received\", msg);\n",
       "                var val = msg.content.data.value;\n",
       "                $(\".signal-\" + comm.comm_id).each(function() {\n",
       "                var type = $(this).data(\"type\");\n",
       "                if (val[type]) {\n",
       "                    redrawValue(this, type, val[type], type);\n",
       "                }\n",
       "                });\n",
       "                delete val;\n",
       "                delete msg.content.data.value;\n",
       "            });\n",
       "\t    });\n",
       "\n",
       "\t    // coordingate with Comm and redraw Signals\n",
       "\t    // XXX: Test using Reactive here to improve performance\n",
       "\t    $([IPython.events]).on(\n",
       "\t\t'output_appended.OutputArea', function (event, type, value, md, toinsert) {\n",
       "\t\t    if (md && md.reactive) {\n",
       "                // console.log(md.comm_id);\n",
       "                toinsert.addClass(\"signal-\" + md.comm_id);\n",
       "                toinsert.data(\"type\", type);\n",
       "                // Signal back indicating the mimetype required\n",
       "                var comm_manager = IPython.notebook.kernel.comm_manager;\n",
       "                var comm = comm_manager.comms[md.comm_id];\n",
       "                comm.then(function (c) {\n",
       "                    c.send({action: \"subscribe_mime\",\n",
       "                       mime: type});\n",
       "                    toinsert.bind(\"destroyed\", function() {\n",
       "                        c.send({action: \"unsubscribe_mime\",\n",
       "                               mime: type});\n",
       "                    });\n",
       "                })\n",
       "\t\t    }\n",
       "\t    });\n",
       "\t}\n",
       "\n",
       "\ttry {\n",
       "\t    // try to initialize right away. otherwise, wait on the status_started event.\n",
       "\t    initComm(undefined, IPython.notebook);\n",
       "\t} catch (e) {\n",
       "\t    $([IPython.events]).on('kernel_created.Kernel kernel_created.Session', initComm);\n",
       "\t}\n",
       "    });\n",
       "})(IPython, jQuery, _, MathJax);\n",
       "</script>\n",
       "    <script>\n",
       "        window.interactLoadedFlag = true\n",
       "       $(\"#interact-js-shim\").bind(\"destroyed\", function () {\n",
       "           if (window.interactLoadedFlag) {\n",
       "               console.warn(\"JavaScript required by Interact will be removed if you remove this cell or run using Interact more than once.\")\n",
       "           }\n",
       "       })\n",
       "       $([IPython.events]).on(\"kernel_starting.Kernel kernel_restarting.Kernel\", function () { window.interactLoadedFlag = false })\n",
       "   </script>\n",
       "</div>"
      ]
     },
     "metadata": {},
     "output_type": "display_data"
    }
   ],
   "source": [
    "using JuMP # used for mathematical programming\n",
    "using Interact # used for enabling the slider\n",
    "#using Gadfly # used for plotting \n",
    "using JuMPChance # used for solving chance constraints\n",
    "using Cbc # integer programming solver"
   ]
  },
  {
   "cell_type": "markdown",
   "metadata": {},
   "source": [
    "Define the input data for the CC UC model:\n"
   ]
  },
  {
   "cell_type": "code",
   "execution_count": 2,
   "metadata": {
    "collapsed": false
   },
   "outputs": [
    {
     "data": {
      "text/plain": [
       "0.05"
      ]
     },
     "execution_count": 2,
     "metadata": {},
     "output_type": "execute_result"
    }
   ],
   "source": [
    "# Define some input data about the test system\n",
    "# Maximum power output of generators\n",
    "const g_max = [1000 1000]\n",
    "# Minimum power output of generators\n",
    "const g_min = [0 300]\n",
    "# Incremental cost of generators \n",
    "const c_g = [50 100]\n",
    "# Fixed cost of generators\n",
    "const c_g0 = [1000 0]\n",
    "# Incremental cost of wind generators\n",
    "const c_w = 0\n",
    "# Total demand\n",
    "const d = 1500\n",
    "# Wind forecast\n",
    "const w_f = 200\n",
    "# Variance of wind power\n",
    "const w_var = 20\n",
    "# Epsilon threshold\n",
    "const ϵ_cc =0.05"
   ]
  },
  {
   "cell_type": "markdown",
   "metadata": {},
   "source": [
    "The function solving the CC UC model:"
   ]
  },
  {
   "cell_type": "code",
   "execution_count": 3,
   "metadata": {
    "collapsed": false
   },
   "outputs": [
    {
     "name": "stdout",
     "output_type": "stream",
     "text": [
      "\n",
      "\n",
      "Dispatch of Generators: [1000.0,300.0] MW\n",
      "Commitments of Generators: [1,1]\n",
      "Dispatch of Wind: 199.99999979886536 MW\n",
      "Wind spillage: 2.0113463961024536e-7 MW\n",
      "Proportional response coefficients: [1.77349e-8,1.0]\n",
      "\n",
      "\n",
      "Total cost: 81000.00018497414$\n"
     ]
    }
   ],
   "source": [
    "function solve_ccuc(g_max, g_min, c_g, c_w, d, w_f,w_var, ϵ_cc)\n",
    "    #Define the unit commitment (UC) model\n",
    "    #uc=ChanceModel(solver=CbcSolver())\n",
    "    uc=ChanceModel()\n",
    "    \n",
    "    # Define decision variables    \n",
    "    @variable(uc, g_min[i] <= g[i=1:2] <= g_max[i]) # power output of generators\n",
    "    #@defVar(uc, u[i=1:2], Bin) # Binary status of generators\n",
    "    @variable(uc, 0 <= w  <= w_f ) # wind power injection\n",
    "    @variable(uc, α[1:2] >= 0) # proportional response coefficients\n",
    "    \n",
    "    @indepnormal(uc,ω, mean=0, var=w_var)\n",
    "\n",
    "    # Define the objective function\n",
    "    @objective(uc,Min,sum(c_g[i] * g[i] + c_g0[i] for i=1:2)+ c_w * w)\n",
    "    \n",
    "    @constraint(uc, sum(α) == 1)\n",
    "\n",
    "    # Define the constraint on the maximum and minimum power output of each generator\n",
    "    #for i in 1:2\n",
    "    #    @constraint(uc,  g[i] <= g_max[i] * u[i]) #maximum\n",
    "    #    @constraint(uc,  g[i] >= g_min[i] * u[i]) #minimum\n",
    "    #end\n",
    "    \n",
    "    # Define chance constraints on the power output of each generator in response to wind fluctuations\n",
    "    for i in 1:2\n",
    "        @constraint(uc, g[i]-α[i]*ω <= g_max[i], with_probability=1-ϵ_cc)\n",
    "    end\n",
    "\n",
    "    # Define the constraint on the wind power injection\n",
    "    #@constraint(uc, w <= w_f)\n",
    "\n",
    "    # Define the power balance constraint\n",
    "    @constraint(uc, sum(g[i] for i=1:2) + w == d)\n",
    "\n",
    "    # Solve statement\n",
    "    status = solve(uc, method=:Reformulate)\n",
    "    \n",
    "    return status, getvalue(g), getvalue(w), w_f-getvalue(w), [1,1], getvalue(α), getobjectivevalue(uc)\n",
    "end\n",
    "#\n",
    "# Solve the economic dispatch problem\n",
    "status,g_opt,w_opt,ws_opt,u_opt,α,obj=solve_ccuc(g_max, g_min, c_g, c_w, d, w_f, 20, 0.05)\n",
    "\n",
    "  \n",
    "println(\"\\n\")\n",
    "println(\"Dispatch of Generators: \", g_opt, \" MW\")\n",
    "println(\"Commitments of Generators: \", u_opt)\n",
    "println(\"Dispatch of Wind: \", w_opt, \" MW\")\n",
    "println(\"Wind spillage: \", w_f-w_opt, \" MW\") \n",
    "println(\"Proportional response coefficients: \", α)\n",
    "println(\"\\n\")\n",
    "println(\"Total cost: \", obj, \"\\$\")  "
   ]
  },
  {
   "cell_type": "markdown",
   "metadata": {},
   "source": [
    "In the following cell we introduce the manipulator, which can adjust $var(\\omega)$, $\\epsilon_g$, and $d$. While adjusting these parameters, we observe their impact of the cost and dispatch decisions:"
   ]
  },
  {
   "cell_type": "code",
   "execution_count": 4,
   "metadata": {
    "collapsed": false
   },
   "outputs": [
    {
     "data": {
      "text/html": [],
      "text/plain": [
       "Interact.Slider{Float64}(Signal{Float64}(5.0, nactions=0),\"w_var_scale\",5.0,0.01:0.01:10.0,\".3f\",true)"
      ]
     },
     "metadata": {},
     "output_type": "display_data"
    },
    {
     "data": {
      "text/html": [],
      "text/plain": [
       "Interact.Slider{Float64}(Signal{Float64}(5.0, nactions=0),\"ϵ_cc_scale\",5.0,0.01:0.01:10.0,\".3f\",true)"
      ]
     },
     "metadata": {},
     "output_type": "display_data"
    },
    {
     "data": {
      "text/html": [],
      "text/plain": [
       "Interact.Slider{Float64}(Signal{Float64}(1.12, nactions=0),\"d_scale\",1.12,0.25:0.01:2.0,\".3f\",true)"
      ]
     },
     "metadata": {},
     "output_type": "display_data"
    },
    {
     "data": {
      "text/html": [
       "Dispatch of generators: [1000.0,480.0]<br>Commitment of generators: [1,1]<br>Dispatch of wind: 200.00000000152878<br>Proportional response coefficients: [9.23016e-9,1.0]<br>Total cost: 99000.00000742564"
      ],
      "text/plain": [
       "HTML{String}(\"Dispatch of generators: [1000.0,480.0]<br>Commitment of generators: [1,1]<br>Dispatch of wind: 200.00000000152878<br>Proportional response coefficients: [9.23016e-9,1.0]<br>Total cost: 99000.00000742564\")"
      ]
     },
     "execution_count": 4,
     "metadata": {
      "comm_id": "97a6d760-7395-4f1b-81b2-a910ca3109d8",
      "reactive": true
     },
     "output_type": "execute_result"
    }
   ],
   "source": [
    "@manipulate for w_var_scale = 0.01:0.01:10, ϵ_cc_scale = 0.01:0.01:10, d_scale = 0.25:0.01:2.0\n",
    "    \n",
    "    status,g_opt,w_opt,ws_opt,u_opt,α,obj=solve_ccuc(g_max, g_min, c_g, c_w, d_scale*d, w_f, w_var_scale * w_var, ϵ_cc_scale*ϵ_cc)\n",
    "    HTML(\"Dispatch of generators: $g_opt<br>\"*\n",
    "    \"Commitment of generators: $u_opt<br>\"*\n",
    "    \"Dispatch of wind: $w_opt<br>\"*\n",
    "    \"Proportional response coefficients: $α<br>\"*\n",
    "    \"Total cost: $obj\")\n",
    "\n",
    "end"
   ]
  },
  {
   "cell_type": "markdown",
   "metadata": {},
   "source": [
    "## Practical exercise"
   ]
  },
  {
   "cell_type": "markdown",
   "metadata": {},
   "source": [
    "After discussing the implementation of the CC UC and the usage of the JuMPChance package, we believe you can try to finish the following exercise:\n",
    "\n",
    "<li> Introduce a loop adjusting the minimum power outputs of generators ($g^{min}$) inside of the manipulators used in the CC UC model above.</li>\n",
    "\n",
    "<li> Make interactive plots for dispatch ($g_i$)/commitment ($u_i$) decisions, wind power generation ($w$) and participation factors ($\\alpha_i$).</li>\n",
    "\n",
    "<li> Make conclusions on how ($g^{min}$) affects the CC UC solution under different $var(\\omega)$, $\\epsilon_g$, and $d$</li>\n",
    "\n",
    "\n",
    "\n",
    "\n",
    "\n",
    "\n",
    "\n"
   ]
  }
 ],
 "metadata": {
  "anaconda-cloud": {},
  "kernelspec": {
   "display_name": "Julia 0.5.0",
   "language": "julia",
   "name": "julia-0.5"
  },
  "language_info": {
   "file_extension": ".jl",
   "mimetype": "application/julia",
   "name": "julia",
   "version": "0.5.0"
  },
  "widgets": {
   "state": {
    "4131fec7-2c9d-4235-b9a5-dc1f5fd8788a": {
     "views": [
      {
       "cell_index": 16
      }
     ]
    },
    "4edc767a-dfab-4f33-8ee0-899cbbba4076": {
     "views": [
      {
       "cell_index": 16
      }
     ]
    },
    "5cb76457-8af8-4ed1-9dba-8a30a83c2fcb": {
     "views": [
      {
       "cell_index": 16
      }
     ]
    },
    "9347ebf0-8eba-4000-bd8b-7ab95d4fa1a8": {
     "views": [
      {
       "cell_index": 16
      }
     ]
    },
    "e52233db-262b-4b58-b39e-ad52158528ab": {
     "views": [
      {
       "cell_index": 16
      }
     ]
    },
    "fb2b0494-a206-4fc4-b230-11f847c997e7": {
     "views": [
      {
       "cell_index": 16
      }
     ]
    }
   },
   "version": "1.2.0"
  }
 },
 "nbformat": 4,
 "nbformat_minor": 0
}
