{
 "metadata": {
  "language": "Julia",
  "name": "",
  "signature": "sha256:dfc57e992c4209d1c94efc5d48a55d0ed32ba96d9ea6503546d2403f0ed18055"
 },
 "nbformat": 3,
 "nbformat_minor": 0,
 "worksheets": [
  {
   "cells": [
    {
     "cell_type": "heading",
     "level": 2,
     "metadata": {},
     "source": [
      "Optimal Power Flow\n"
     ]
    },
    {
     "cell_type": "markdown",
     "metadata": {},
     "source": [
      "Unlike the ED model, the optimal power flow (OPF) takes into account network constraints. The latter can be achieved by using either a dc-based or ac-based power flow model. In the following, we formulate and solve both the dc-based OPF model for a simple 3 bus example using Julia's JuMP package."
     ]
    },
    {
     "cell_type": "markdown",
     "metadata": {},
     "source": [
      "The objective function of the OPF model can be formulated as follows:\n",
      "$$\n",
      "\\min \\sum_{i \\in I} c^g_{i} \\cdot g_{i} + \\sum_{b \\in B} c^w \\cdot w_b,\n",
      "$$\n",
      "where $b$ is the index of buses. Note that as compared to the ED model, the OPF accounts for wind power injection at each bus separately. "
     ]
    },
    {
     "cell_type": "markdown",
     "metadata": {},
     "source": [
      "s.t.\n",
      "\n",
      "<li> Minimum ($g^{\\min}$) and maximum ($g^{\\max}$) limits on power outputs of generators: </li>\n",
      "$$\n",
      "g^{\\min}_{i} \\leq g_{i} \\leq g^{\\max}_{i}.\n",
      "$$\n",
      "<li>Constraint on the wind power injection:</li>\n",
      "$$\n",
      "0 \\leq w_b \\leq w^f_b, \\quad \\forall b \\in B\n",
      "$$\n",
      "where $w_b$ and $w^f_b$ are the <i>nodal</i> wind power injection and wind power forecast, respectively.\n",
      "\n",
      "<li><i>Nodal</i> power balance constraint:</li>\n",
      "$$\n",
      "\\sum_{i \\in I_b} g_{i} + w_b + \\sum_{l \\in L_b} f_l= d_b^f, \\quad \\forall b \\in B \n",
      "$$\n",
      "where $d^f_b$ is the <i>nodal</i> demand forecast, $f_l$ is the power flow in line $l$, and $L_b$ is the set of lines connected to bus $b$."
     ]
    },
    {
     "cell_type": "heading",
     "level": 3,
     "metadata": {},
     "source": [
      "DC power flow model"
     ]
    },
    {
     "cell_type": "markdown",
     "metadata": {},
     "source": [
      "<li>Power flow limit on every transmission line:</li>\n",
      "$$\n",
      "-f^{\\max}_{l} \\leq f_{l} = \\frac{\\Delta \\theta_{l}}{x_{l}} \\leq  f^{\\max}_{l}, \\quad \\forall l \\in L,\n",
      "$$\n",
      "where $f_{l}$ and $f^{\\max}_{l}$ are the power flow and the maximum power flow limit of line $l$, respectively; and $x_{l}$ and $\\Delta \\theta_{l}$ are the angular difference between the ends of line $l$ and its reactance, respectively.\n",
      "<li>Angular difference:</li>\n",
      "$$\n",
      "-\\pi \\leq \\Delta \\theta_{l} \\leq  \\pi, \\quad \\forall l \\in L.\n",
      "$$"
     ]
    },
    {
     "cell_type": "heading",
     "level": 3,
     "metadata": {},
     "source": [
      "Implementation of DC Optimal Power Flow"
     ]
    },
    {
     "cell_type": "code",
     "collapsed": false,
     "input": [
      "using JuMP\n",
      "using Interact\n",
      "using Gadfly\n",
      "using GraphViz"
     ],
     "language": "python",
     "metadata": {},
     "outputs": []
    },
    {
     "cell_type": "markdown",
     "metadata": {},
     "source": [
      "In the following experiments we employ the three bus example as in the ED and UC experiments."
     ]
    },
    {
     "cell_type": "code",
     "collapsed": false,
     "input": [
      "# Maximum power output of generators (card(I))\n",
      "g_max = [1000 1500];\n",
      "# Minimum power output of generators (card(I))\n",
      "g_min = [0 300];\n",
      "# Incremental cost of generators (card(I))\n",
      "c_g = [50 100];\n",
      "# Generator map (card(I) x card(b))\n",
      "g_map = [0 1 0; 0 0 1];\n",
      "# Incremental cost of wind generators\n",
      "c_w = 50;\n",
      "# Total demand (card(B))\n",
      "d = [0 0 1500];\n",
      "# Wind forecast (card(V))\n",
      "w_f = [150 50];\n",
      "# Generator map (card(I) x card(b))\n",
      "w_map = [1 0 0; 0 1 0];\n",
      "# Power flow limits (card(L))\n",
      "f_max = [100 1000];\n",
      "# Line map (card(L) x card(B))\n",
      "f_map = [1 -1 0; 0 1 -1]; \n",
      "# Line impedance \n",
      "x = [0.001 0.001]\n",
      "\n"
     ],
     "language": "python",
     "metadata": {},
     "outputs": []
    },
    {
     "cell_type": "heading",
     "level": 3,
     "metadata": {},
     "source": [
      "Sensitivity of the OPF solution to power flow limits"
     ]
    },
    {
     "cell_type": "markdown",
     "metadata": {},
     "source": [
      "To assess the impact of power flow limits, we will use the manipulator, varying the power flow in line L2, and observe the distribution of power flows among transmission lines. This graphical representation is enabled by package GraphViz."
     ]
    },
    {
     "cell_type": "code",
     "collapsed": false,
     "input": [
      "function writeDot(name, busIdx, busInj, renGen, f, t, lineFlow, lineLim, size=(11,14))\n",
      "    # This function generates a graph that richly expresses the RTS96 system state.\n",
      "    # name              a name for the graph and resulting dot file\n",
      "    # busIdx            bus names (could be text) in order of busInj\n",
      "    # busInj            injection at each bus\n",
      "    # renGen            renewable generation at each bus (0 for non-wind buses)\n",
      "    # f                 \"from\" node for each line\n",
      "    # t                 \"to\" node for each line\n",
      "    # lineFlow          flow on each line\n",
      "    # lineLim           limit for each line\n",
      "    # size              size of graphical output\n",
      "\n",
      "    busInj = round(busInj,2)\n",
      "    lineFlow = round(lineFlow,2)\n",
      "    \n",
      "    # Open the dot file, overwriting anything already there:\n",
      "    dotfile = IOBuffer()\n",
      "    \n",
      "    # Begin writing the dot file:\n",
      "    write(dotfile, \"digraph $(name) {\\nrankdir=LR;\\n\")\n",
      "\n",
      "    # Set graph properties:\n",
      "    write(dotfile, \n",
      "    \"graph [fontname=helvetica, tooltip=\\\" \\\", overlap=false, size=\\\"$(size[1]),$(size[2])\\\", ratio=fill, orientation=\\\"portrait\\\",layout=dot];\\n\")\n",
      "\n",
      "    # Set default node properties:\n",
      "    write(dotfile, \"node [fontname=helvetica, shape=square, style=filled, fontsize=20, color=\\\"#bdbdbd\\\"];\\n\")\n",
      "\n",
      "    # Set default edge properties:\n",
      "    write(dotfile, \"edge [fontname=helvetica, style=\\\"setlinewidth(5)\\\"];\\n\")\n",
      "\n",
      "    # Write bus data to dot file:\n",
      "    for i = 1:length(busIdx)\n",
      "        write(dotfile, \n",
      "        \"$(i) [label=$(int(busIdx[i])), tooltip=\\\"Inj = $(busInj[i])\\\"\") # bus label and tooltip\n",
      "\n",
      "        # Represent renewable nodes with blue circles:\n",
      "        if union(find(renGen),i) == find(renGen)\n",
      "            write(dotfile, \", shape=circle, color=\\\"#5677fc\\\"\")\n",
      "        end\n",
      "\n",
      "        write(dotfile, \"];\\n\")\n",
      "    end\n",
      "\n",
      "    # Write line data to file:\n",
      "\n",
      "    for i = 1:length(f)\n",
      "\n",
      "        normStrain = abs(lineFlow[i])/lineLim[i] # normalized strain on line i\n",
      "\n",
      "        # Use flow direction to determine arrow direction,\n",
      "        # label with flow,\n",
      "        # and color according to strain\n",
      "        if lineFlow[i] > 0\n",
      "            write(dotfile, \n",
      "            \"$(f[i]) -> $(t[i]) [label=$(lineFlow[i])\")\n",
      "        else\n",
      "            write(dotfile, \n",
      "            \"$(t[i]) -> $(f[i]) [label=$(-lineFlow[i])\")\n",
      "        end\n",
      "        write(dotfile,\n",
      "        \", tooltip=\\\" \\\", labeltooltip=\\\"Flow = $(int(normStrain*100))%\\\", color=\\\"$(round((1 - normStrain)/3,3)) 1.000 0.700\\\"];\\n\")\n",
      "    end\n",
      "\n",
      "    write(dotfile, \"}\\n\")\n",
      "\n",
      "    dottext = takebuf_string(dotfile)\n",
      "    #print(dottext)\n",
      "\n",
      "    return Graph(dottext)\n",
      "end"
     ],
     "language": "python",
     "metadata": {},
     "outputs": []
    },
    {
     "cell_type": "code",
     "collapsed": false,
     "input": [
      "@manipulate for line2_limit = 1000:10:1500\n",
      "    f_max[2] = line2_limit\n",
      "#function solve_dcopf (g_max, g_min, c_g, c_w, d, w_f)\n",
      "#Define the optimal power flow (OPF) model\n",
      "opf=Model() \n",
      "    \n",
      "# Define decision variables    \n",
      "@defVar(opf,   g[i=1:2] >= 0 ) ; # power output of generators\n",
      "@defVar(opf, w[v=1:2] >=0 ) ; # wind power injection\n",
      "@defVar(opf, f[l=1:2]) ; # power flows \n",
      "@defVar(opf, theta[b=1:3]) ; # bus angle \n",
      "\n",
      "\n",
      "# Define the objective function\n",
      "@setObjective(opf,Min,sum{c_g[i] * g[i],i=1:2} + sum{c_w * w[v],v=1:2});\n",
      "\n",
      "\n",
      "for i in 1:2\n",
      "    @addConstraint(opf,  g[i] <= g_max[i] ) #maximum\n",
      "    @addConstraint(opf,  g[i] >= g_min[i] ) #minimum\n",
      "end\n",
      "\n",
      "\n",
      "# Define the constraint on the wind power injections\n",
      "for v in 1:2\n",
      "    @addConstraint(opf,  w[v] <= w_f[v]); \n",
      "end\n",
      "\n",
      "# Define the constraint on the power flows\n",
      "for l in 1:2\n",
      "    @addConstraint(opf, f[l] <= f_max[l]); # direct flows\n",
      "    @addConstraint(opf, f[l] >=  -f_max[l]); # reverse flows\n",
      "end\n",
      "\n",
      "# Define the power balance constraint\n",
      "for b in 1:3\n",
      "    @addConstraint(opf, sum{g_map[i,b]* g[i],i=1:2} + sum{w_map[v,b] * w[v], v=1:2} + sum{f_map[l,b] * f[l], l=1:2}>= d[b]); \n",
      "end\n",
      "\n",
      "# Calculate f[l]\n",
      "for l in 1:2\n",
      "    @addConstraint(opf, f[l] == 1/x[l] * sum{f_map [l,b] * theta[b], b=1:3})  ; # power flow in every line\n",
      "end\n",
      "\n",
      "# Slack bus \n",
      "    @addConstraint(opf, theta [b=1] == 0)  ; # direct flows\n",
      "\n",
      "\n",
      "# Solve statement\n",
      "solve(opf)\n",
      "writeDot(\"UC\",[1,2,3],[0.0,getValue(g)[:]],[getValue(w)[:],0.0],[2,3],[1,2],getValue(f)[:],f_max,(3,3))\n",
      "end   \n",
      "\n"
     ],
     "language": "python",
     "metadata": {},
     "outputs": []
    },
    {
     "cell_type": "code",
     "collapsed": false,
     "input": [],
     "language": "python",
     "metadata": {},
     "outputs": []
    }
   ],
   "metadata": {}
  }
 ]
}