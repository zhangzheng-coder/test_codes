{
 "metadata": {
  "language": "Julia",
  "name": "",
  "signature": "sha256:fda698370d4602e059636540c13b81ccc1f24406096c7dba77373d5881b07546"
 },
 "nbformat": 3,
 "nbformat_minor": 0,
 "worksheets": [
  {
   "cells": [
    {
     "cell_type": "heading",
     "level": 2,
     "metadata": {},
     "source": [
      "Index for Session 2 notebooks"
     ]
    },
    {
     "cell_type": "markdown",
     "metadata": {},
     "source": [
      "* [Economic Dispatch and Unit Commitment](ed_uc.ipynb)\n",
      "  - Economic Dispatch and Unit Commitment examples on a toy system\n",
      "  - Interactive sensitivity analysis and plotting\n",
      "* [DC-OPF](DCOPF.ipynb)\n",
      "  - DC-OPF formulation with network visualization\n",
      "* [IEEE RTS system](ieee_rts.ipynb)\n",
      "  - Larger scale system"
     ]
    }
   ],
   "metadata": {}
  }
 ]
}